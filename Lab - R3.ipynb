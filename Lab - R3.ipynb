{
 "cells": [
  {
   "cell_type": "markdown",
   "id": "de16ac05-1760-49ad-b40c-327a96a8e846",
   "metadata": {},
   "source": [
    "# Laboratorio de regresión - 3"
   ]
  },
  {
   "cell_type": "markdown",
   "id": "1db0fb70-ca43-47f7-bbfd-fd06ca0e25f2",
   "metadata": {},
   "source": [
    "## Significancia de factores"
   ]
  },
  {
   "cell_type": "markdown",
   "id": "6043c593-39d1-405c-b92e-487314170cf6",
   "metadata": {},
   "source": [
    "|                |   |\n",
    ":----------------|---|\n",
    "| **Nombre**     |Camila Daniela Zapata Castañeda   |\n",
    "| **Fecha**      |30 de Enero del 2025   |\n",
    "| **Expediente** |745624   |"
   ]
  },
  {
   "cell_type": "markdown",
   "id": "2cfabde4-866e-4f00-8a37-9d57f2bebbb6",
   "metadata": {},
   "source": [
    "Descarga el archivo de publicidad y carga los datos (Advertising.csv)."
   ]
  },
  {
   "cell_type": "code",
   "execution_count": 4,
   "id": "07527ab6-7c18-48b5-9779-d5e6e5da289b",
   "metadata": {},
   "outputs": [],
   "source": [
    "import pandas as pd\n",
    "import numpy as np"
   ]
  },
  {
   "cell_type": "code",
   "execution_count": 5,
   "id": "f76bcb16-5b02-42aa-846f-fb890b34af26",
   "metadata": {},
   "outputs": [],
   "source": [
    "de = pd.read_csv(\"Advertising.csv\")"
   ]
  },
  {
   "cell_type": "code",
   "execution_count": 6,
   "id": "856f0458",
   "metadata": {},
   "outputs": [
    {
     "name": "stdout",
     "output_type": "stream",
     "text": [
      "<class 'pandas.core.frame.DataFrame'>\n",
      "RangeIndex: 200 entries, 0 to 199\n",
      "Data columns (total 5 columns):\n",
      " #   Column      Non-Null Count  Dtype  \n",
      "---  ------      --------------  -----  \n",
      " 0   Unnamed: 0  200 non-null    int64  \n",
      " 1   TV          200 non-null    float64\n",
      " 2   radio       200 non-null    float64\n",
      " 3   newspaper   200 non-null    float64\n",
      " 4   sales       200 non-null    float64\n",
      "dtypes: float64(4), int64(1)\n",
      "memory usage: 7.9 KB\n"
     ]
    }
   ],
   "source": [
    "de.info()"
   ]
  },
  {
   "cell_type": "code",
   "execution_count": 7,
   "id": "0769d0e1-47cc-4ccc-9066-3f3a06dbe283",
   "metadata": {},
   "outputs": [
    {
     "data": {
      "image/png": "[encoded data removed]",
      "text/plain": [
       "<Figure size 640x480 with 1 Axes>"
      ]
     },
     "metadata": {},
     "output_type": "display_data"
    }
   ],
   "source": [
    "import matplotlib.pyplot as plt\n",
    "%matplotlib inline\n",
    "\n",
    "plt.figure()\n",
    "plt.title(\"Radio\")\n",
    "plt.scatter(de[\"radio\"], de[\"sales\"])\n",
    "plt.grid()"
   ]
  },
  {
   "cell_type": "markdown",
   "id": "f81535ac-87ca-490e-89e7-0564c31f73f0",
   "metadata": {},
   "source": [
    "**¿Hay alguna relación entre el presupuesto para publicidad y las ventas?**\n",
    "\n",
    "Nuestra primera meta debe ser determinar si hay evidencia en los datos de que haya una asociación entre estas variables.\n",
    "\n",
    "- ¿Por qué? ¿Qué resultaría si nos diéramos cuenta de la falta de relación entre el presupuesto de publicidad y las ventas?"
   ]
  },
  {
   "cell_type": "markdown",
   "id": "e5ed6dff-daa6-4680-ae46-1892fbe61743",
   "metadata": {},
   "source": [
    "Si hay una relación clara entre el presupuesto para publicidad y las ventas, sobre todo se nota con la TV y la radio.\n",
    "Entre mayor sea el presupuesto mayor son las ventas que se generan. "
   ]
  },
  {
   "cell_type": "markdown",
   "id": "9bc7813f-d560-4e8a-bf91-3523bf0c01b6",
   "metadata": {},
   "source": [
    "Es importante establecer si hay una relación o no ya que si no tiene un impacto significativo en las ventas no vale la pena seguir invirtiendo en ellos y es hora de explorar nuevos métodos para conseguir publicidad y por ende ventas. "
   ]
  },
  {
   "cell_type": "markdown",
   "id": "3ff47351-fa8b-4c19-93ce-d68dce869913",
   "metadata": {},
   "source": [
    "**¿Qué tan fuerte es esta relación?**\n",
    "Asumiendo que existe esta relación, ¿nos sirve conocer el impacto que tiene invertir en publicidad en las ventas?"
   ]
  },
  {
   "cell_type": "markdown",
   "id": "f4f729ab-b3c5-45f2-be4d-679b009f3d98",
   "metadata": {},
   "source": [
    "Qué tan fuerte es la relación se vería más clarmente ya con los coeficientes de la pendiente. Pero a simple vista tanto radio como Tv tienen una fuerte relación con ventas. Ahora esto nos sirve para tomar buenas decisiones ya que vemos cuales métodos de publicidad son los que nos están sirviendo y cuales no nos están generando nada de ventas."
   ]
  },
  {
   "cell_type": "markdown",
   "id": "4cd03e68-778f-49cc-9161-a2fff241af56",
   "metadata": {},
   "source": [
    "**¿Cuáles medios están asociados con las ventas? ¿Qué tan grande es la asociación entre un medio específico y las ventas?**\n",
    "\n",
    "Hay 3 medios distintos en los datos. ¿Sirve invertir en los 3? ¿Conviene más invertir sólo en uno?\n",
    "\n",
    "**¿Qué tan seguros estamos de que podríamos predecir ventas futuras?**\n",
    "\n",
    "**¿La relación es lineal?**\n",
    "\n",
    "**¿Hay sinergia entre estos medios?**\n",
    "\n",
    "Puede ser que gastar \\\\$50,000 en publicidad y otros \\\\$50,000 en radio es mejor opción que gastar \\\\$100,000 en televisión. A esto le llamamos efecto de interacción.\n",
    "\n",
    "Podemos usar regresión lineal para responder todas estas preguntas."
   ]
  },
  {
   "cell_type": "markdown",
   "id": "cb3f1c79-027e-4af9-b61b-82e4a45df0bb",
   "metadata": {},
   "source": [
    "Realiza una regresión lineal:\n",
    "\n",
    "$$ \\text{ventas} \\approx \\beta_0 + (\\beta_1)(\\text{TV})$$"
   ]
  },
  {
   "cell_type": "code",
   "execution_count": 8,
   "id": "82dd5260-ff12-4261-b325-40f70c7e3783",
   "metadata": {},
   "outputs": [],
   "source": [
    "from sklearn.linear_model import LinearRegression"
   ]
  },
  {
   "cell_type": "code",
   "execution_count": 9,
   "id": "5c5d518d-a3da-4b63-acd9-0481b231408d",
   "metadata": {},
   "outputs": [],
   "source": [
    "def regression(df, col_n_x, col_n_y, degree):\n",
    "\n",
    "    x = np.reshape(df[col_n_x].values, [-1,1])\n",
    "    y = np.reshape(df[col_n_y].values, [-1,1])\n",
    "    \n",
    "    \n",
    "    X = x.copy()\n",
    "    for i in range (2, degree+1):\n",
    "        X = np.hstack((X, x**i))\n",
    "\n",
    "    model = LinearRegression()\n",
    "    model = model.fit(X, y)\n",
    "\n",
    "    intercept = model.intercept_\n",
    "    coef = model.coef_\n",
    "    r2 = model.score(X,y)\n",
    "    y_pred = model.predict(X)\n",
    "    \n",
    "    print(\"r2 = \",r2)\n",
    "    print('Intercepto: ', intercept[0])\n",
    "    print('Coeficiente: ', coef[0])\n",
    "    \n",
    "    #gráfica\n",
    "    plt.figure()\n",
    "    plt.scatter(x, y)\n",
    "    plt.grid()\n",
    "    plt.scatter(x, y_pred, color = 'purple', label=\"predicción\")\n",
    "    plt.xlabel(col_n_x)\n",
    "    plt.ylabel(col_n_y)  \n",
    "    plt.title(f\"Regresión lineal de grado {degree}\")\n",
    "    plt.legend(loc=\"best\")"
   ]
  },
  {
   "cell_type": "code",
   "execution_count": 10,
   "id": "b7f11512-1a7e-4cda-869d-c6eb6847564c",
   "metadata": {},
   "outputs": [
    {
     "name": "stdout",
     "output_type": "stream",
     "text": [
      "r2 =  0.611875050850071\n",
      "Intercepto:  7.0325935491276965\n",
      "Coeficiente:  [0.04753664]\n"
     ]
    },
    {
     "data": {
      "image/png": "[encoded data removed]",
      "text/plain": [
       "<Figure size 640x480 with 1 Axes>"
      ]
     },
     "metadata": {},
     "output_type": "display_data"
    }
   ],
   "source": [
    "regression(de, \"TV\", \"sales\", 1)"
   ]
  },
  {
   "cell_type": "code",
   "execution_count": 11,
   "id": "d0f7326b",
   "metadata": {},
   "outputs": [
    {
     "name": "stdout",
     "output_type": "stream",
     "text": [
      "r2 =  0.33203245544529525\n",
      "Intercepto:  9.311638095158283\n",
      "Coeficiente:  [0.20249578]\n"
     ]
    },
    {
     "data": {
      "image/png": "[encoded data removed]",
      "text/plain": [
       "<Figure size 640x480 with 1 Axes>"
      ]
     },
     "metadata": {},
     "output_type": "display_data"
    }
   ],
   "source": [
    "regression(de, \"radio\", \"sales\", 1)"
   ]
  },
  {
   "cell_type": "code",
   "execution_count": 12,
   "id": "6c76dde0",
   "metadata": {},
   "outputs": [
    {
     "name": "stdout",
     "output_type": "stream",
     "text": [
      "r2 =  0.05212044544430516\n",
      "Intercepto:  12.351407069278162\n",
      "Coeficiente:  [0.0546931]\n"
     ]
    },
    {
     "data": {
      "image/png": "[encoded data removed]",
      "text/plain": [
       "<Figure size 640x480 with 1 Axes>"
      ]
     },
     "metadata": {},
     "output_type": "display_data"
    }
   ],
   "source": [
    "regression(de, \"newspaper\", \"sales\", 1)"
   ]
  },
  {
   "cell_type": "markdown",
   "id": "a84ba655-7b09-482a-992f-02380dd54209",
   "metadata": {},
   "source": [
    "### Verificando la precisión de nuestros coeficientes estimados"
   ]
  },
  {
   "cell_type": "markdown",
   "id": "30733e87-7be2-477f-84c2-d430ad1a2a5d",
   "metadata": {},
   "source": [
    "Recuerda que en el mundo real hay ruidos y errores de medición. Siempre se asume que la verdadera relación entre $X$ y $Y$ es $$Y = \\beta_0 + \\beta_1 X + \\epsilon$$"
   ]
  },
  {
   "cell_type": "markdown",
   "id": "af33c415-790e-4e28-bcd5-8f94ac545822",
   "metadata": {},
   "source": [
    "Se asume que el término de error es independiente de $X$ (el error siempre es el mismo sin importar el valor de $X$). Este modelo describe a la *línea de regresión de la población*, que es la mejor aproximación de la verdadera relación entre $X$ y $Y$. Cuando usamos mínimos cuadrados encontramos la *línea de mínimos cuadrados*."
   ]
  },
  {
   "cell_type": "markdown",
   "id": "86d80b2d-2c96-4fa7-8348-29e8215e4e2e",
   "metadata": {},
   "source": [
    "¿Cuál es la diferencia entre población y muestra?"
   ]
  },
  {
   "cell_type": "markdown",
   "id": "ec345b97-255d-45a2-95ea-487212a02644",
   "metadata": {},
   "source": [
    "La población es infinita, vaya es el todo y como no podemos medirla es imposible sacar los valores exactos de esta."
   ]
  },
  {
   "cell_type": "markdown",
   "id": "ad465483",
   "metadata": {},
   "source": [
    "La muestra es una porción de la población, la cual si es medible y según la calidad de la muestra vamos a poder encontrar valores que si tengan una similitud a los de la población. "
   ]
  },
  {
   "cell_type": "markdown",
   "id": "ea74ba36-845f-44fe-89e4-442b66f44d9d",
   "metadata": {},
   "source": [
    "¿Cuál crees que sea la diferencia entre hacer una regresión con todos los datos de la población y una muestra de ella?"
   ]
  },
  {
   "cell_type": "markdown",
   "id": "1563051a-01a3-4a4e-bff2-f12c7d113b15",
   "metadata": {},
   "source": [
    "Una regresión con todos los datos pues tendría infinitos \"n\" por ende sería precisa, pero como no tenemos manera de recolectar datos infinitos no podemos hacer una regresión de la población, al contrario de la muestra que según su tamaño es mejor la aproximación a la población. "
   ]
  },
  {
   "cell_type": "markdown",
   "id": "c123335b-5299-4f2e-ac8e-4b1e40754221",
   "metadata": {},
   "source": [
    "La línea de regresión de la población no se puede observar. El concepto de comparar estas líneas es una extensión natural del acercamiento estadístico estándar de usar información de una muestra para estimar características de una población grande."
   ]
  },
  {
   "cell_type": "markdown",
   "id": "5b0d26b9-18de-4467-a836-3f75b228a363",
   "metadata": {},
   "source": [
    "Imagina que quieres encontrar la altura promedio de un mexicano $\\mu$. Medir a todos y cada uno de los mexicanos en situaciones similares, con la misma regla, mismo operador, y otras incontables formas de minimizar la variación de la medida es una tarea imposible. Lo que podemos asumir es que $\\hat{\\mu} = \\bar{y}$. La media poblacional y la media muestral son diferentes, pero la media muestral es usualmente un buen estimado.\n",
    "\n",
    "De la misma manera, como no contamos con el 100% de la información para hacer una regresión, los coeficientes $\\beta_0$ y $\\beta_1$ son desconocidos. Podemos estimarlos usando mínimos cuadrados, encontrando $\\hat{\\beta_0}$ y $\\hat{\\beta_1}$. Puede que las muestras que tengamos en ese momento estén un poco por encima de la media, pero otras muestras en otro momento puede que estén debajo de la media. En general, esperamos que el promedio de las aproximaciones $\\hat{\\mu}$ aproxime a $\\mu$."
   ]
  },
  {
   "cell_type": "markdown",
   "id": "7fff6312-57a0-4c9f-aaa9-f22f6294c71c",
   "metadata": {},
   "source": [
    "Esto lleva a la pregunta: ¿qué tan cercanos son nuestros coeficientes estimados a los verdaderos coeficientes? Utilizamos el concepto de error estándar para evaluar esto.\n",
    "\n",
    "$$ \\text{Var}(\\hat{\\mu})=\\text{SE}(\\hat{\\mu})^2 = \\frac{\\sigma^2}{n} $$\n",
    "\n",
    "Donde $\\sigma$ es la desviación estándar de cada una de las observaciones $y_i$ de $Y$. El error estándar nos dice la cantidad promedio que el estimado difiere del valor verdadero. Podemos ver en la fórmula que entre más observaciones tengamos el error se hace más pequeño. Las fórmulas para errores estándar de $\\hat{\\beta_0}$ y $\\hat{\\beta_1}$ son:\n",
    "\n",
    "$$ \\text{SE}(\\hat{\\beta_0})^2 = \\sigma^2 [\\frac{1}{n} + \\frac{\\bar{x}^2}{\\sum_{i=1}^n (x_i - \\bar{x})^2}]$$\n",
    "\n",
    "$$ \\text{SE}(\\hat{\\beta_1})^2 = \\frac{\\sigma^2}{\\sum_{i=1}^n (x_i - \\bar{x})^2}$$\n",
    "\n",
    "$$ \\sigma^2 = \\text{Var}(\\epsilon) = \\text{RSE}^2 = \\frac{\\text{RSS}}{n-p}$$"
   ]
  },
  {
   "cell_type": "markdown",
   "id": "661b6d7c-2274-462f-92ff-0e7be8ca742d",
   "metadata": {},
   "source": [
    "Para que estas fórmulas sean validas asumimos que los errores $\\epsilon_i$ tienen varianza común $\\sigma^2$ y que no están correlacionados.\n",
    "\n",
    "Calcula los errores estándar de los coeficientes"
   ]
  },
  {
   "cell_type": "code",
   "execution_count": 13,
   "id": "07843e5d-fa42-4266-9dda-7701a5700f07",
   "metadata": {},
   "outputs": [],
   "source": [
    "linreg = LinearRegression()"
   ]
  },
  {
   "cell_type": "markdown",
   "id": "97c9d687",
   "metadata": {},
   "source": [
    "### TV (Error estandar de los Coeficientes)"
   ]
  },
  {
   "cell_type": "code",
   "execution_count": 14,
   "id": "0a47a594",
   "metadata": {},
   "outputs": [],
   "source": [
    "x_columnTV = np.reshape(de[\"TV\"].values, [-1,1])\n",
    "y_columnTV = np.reshape(de[\"sales\"].values, [-1,1])"
   ]
  },
  {
   "cell_type": "code",
   "execution_count": 15,
   "id": "c0f7beeb-3e18-419f-b0f1-29b47569ca11",
   "metadata": {},
   "outputs": [],
   "source": [
    "linreg.fit(x_columnTV, y_columnTV)\n",
    "y_predTV = linreg.predict(x_columnTV)\n",
    "RSSTV = np.sum((y_predTV - y_columnTV)**2)\n",
    "n = len(y_columnTV)\n",
    "sigTV = RSSTV/(n-2)"
   ]
  },
  {
   "cell_type": "markdown",
   "id": "c51c6dcb",
   "metadata": {},
   "source": [
    "#### TV_B0"
   ]
  },
  {
   "cell_type": "code",
   "execution_count": 16,
   "id": "2d684793",
   "metadata": {},
   "outputs": [
    {
     "data": {
      "text/plain": [
       "0.209620157958264"
      ]
     },
     "execution_count": 16,
     "metadata": {},
     "output_type": "execute_result"
    }
   ],
   "source": [
    "SEB0TV = sigTV*((1/n)+x_columnTV.mean()**2/np.sum((x_columnTV - x_columnTV.mean())**2))\n",
    "SEB0TV"
   ]
  },
  {
   "cell_type": "markdown",
   "id": "9538335e",
   "metadata": {},
   "source": [
    "#### TV_B1"
   ]
  },
  {
   "cell_type": "code",
   "execution_count": 17,
   "id": "567da4ec",
   "metadata": {},
   "outputs": [
    {
     "data": {
      "text/plain": [
       "7.2393670390241845e-06"
      ]
     },
     "execution_count": 17,
     "metadata": {},
     "output_type": "execute_result"
    }
   ],
   "source": [
    "SEB1TV = sigTV/np.sum((x_columnTV - x_columnTV.mean())**2)\n",
    "SEB1TV"
   ]
  },
  {
   "cell_type": "markdown",
   "id": "eeaefedb",
   "metadata": {},
   "source": [
    "### radio (Error estandar de los coeficientes)"
   ]
  },
  {
   "cell_type": "code",
   "execution_count": 18,
   "id": "80ab680d",
   "metadata": {},
   "outputs": [],
   "source": [
    "x_columnRA = np.reshape(de[\"radio\"].values, [-1,1])\n",
    "y_columnRA = np.reshape(de[\"sales\"].values, [-1,1])"
   ]
  },
  {
   "cell_type": "code",
   "execution_count": 19,
   "id": "6866cd16",
   "metadata": {},
   "outputs": [],
   "source": [
    "linreg.fit(x_columnRA, y_columnRA)\n",
    "y_predRA = linreg.predict(x_columnRA)\n",
    "RSSRA = np.sum((y_predRA - y_columnRA)**2)\n",
    "n = len(y_columnRA)\n",
    "sigRA = RSSRA/(n-2)"
   ]
  },
  {
   "cell_type": "markdown",
   "id": "7d010f14",
   "metadata": {},
   "source": [
    "#### ra_B0"
   ]
  },
  {
   "cell_type": "code",
   "execution_count": 20,
   "id": "58e324da",
   "metadata": {},
   "outputs": [
    {
     "data": {
      "text/plain": [
       "0.3168569687031188"
      ]
     },
     "execution_count": 20,
     "metadata": {},
     "output_type": "execute_result"
    }
   ],
   "source": [
    "SEB0RA = sigRA*((1/n)+x_columnRA.mean()**2/np.sum((x_columnRA - x_columnRA.mean())**2))\n",
    "SEB0RA"
   ]
  },
  {
   "cell_type": "markdown",
   "id": "7872709e",
   "metadata": {},
   "source": [
    "#### ra_B1"
   ]
  },
  {
   "cell_type": "code",
   "execution_count": 21,
   "id": "1de56f82",
   "metadata": {},
   "outputs": [
    {
     "data": {
      "text/plain": [
       "0.00041662142732547643"
      ]
     },
     "execution_count": 21,
     "metadata": {},
     "output_type": "execute_result"
    }
   ],
   "source": [
    "SEB1RA = sigRA/np.sum((x_columnRA - x_columnRA.mean())**2)\n",
    "SEB1RA"
   ]
  },
  {
   "cell_type": "markdown",
   "id": "e588b9ac",
   "metadata": {},
   "source": [
    "### newspaper (Error estandar de los coeficientes)"
   ]
  },
  {
   "cell_type": "code",
   "execution_count": 22,
   "id": "041f5887",
   "metadata": {},
   "outputs": [],
   "source": [
    "x_columnNEW = np.reshape(de[\"newspaper\"].values, [-1,1])\n",
    "y_columnNEW = np.reshape(de[\"sales\"].values, [-1,1])"
   ]
  },
  {
   "cell_type": "code",
   "execution_count": 23,
   "id": "a5d93d42",
   "metadata": {},
   "outputs": [],
   "source": [
    "linreg.fit(x_columnNEW, y_columnNEW)\n",
    "y_predNEW = linreg.predict(x_columnNEW)\n",
    "RSSNEW = np.sum((y_predNEW - y_columnNEW)**2)\n",
    "n = len(y_columnNEW)\n",
    "sigNEW = RSSNEW/(n-2)"
   ]
  },
  {
   "cell_type": "markdown",
   "id": "892a5d94",
   "metadata": {},
   "source": [
    "#### news_B0"
   ]
  },
  {
   "cell_type": "code",
   "execution_count": 24,
   "id": "95cd887d",
   "metadata": {},
   "outputs": [
    {
     "data": {
      "text/plain": [
       "0.3861630495685448"
      ]
     },
     "execution_count": 24,
     "metadata": {},
     "output_type": "execute_result"
    }
   ],
   "source": [
    "SEB0NEW = sigNEW*((1/n)+x_columnNEW.mean()**2/np.sum((x_columnNEW - x_columnNEW.mean())**2))\n",
    "SEB0NEW"
   ]
  },
  {
   "cell_type": "markdown",
   "id": "7b365ef2",
   "metadata": {},
   "source": [
    "#### news_B1"
   ]
  },
  {
   "cell_type": "code",
   "execution_count": 25,
   "id": "c76a3e55",
   "metadata": {},
   "outputs": [
    {
     "data": {
      "text/plain": [
       "0.0002747545557223786"
      ]
     },
     "execution_count": 25,
     "metadata": {},
     "output_type": "execute_result"
    }
   ],
   "source": [
    "SEB1NEW = sigNEW/np.sum((x_columnNEW - x_columnNEW.mean())**2)\n",
    "SEB1NEW"
   ]
  },
  {
   "cell_type": "markdown",
   "id": "9c2711ec-2380-4bce-ac68-007378e7b76c",
   "metadata": {},
   "source": [
    "Estos errores se pueden usar para calcular intervalos de confianza. Un intervalo de confianza del $95\\%$ se define como un rango de valores en el cuál se encuentra el desconocido valor verdadero con un $95\\%$ de probabilidad.\n",
    "\n",
    "Otra forma de verlo es que si tomamos muestras repetidas y construimos un intervalo de confianza para cada una, el $95\\%$ de los intervalos creados van a contener el valor verdadero. Para la regresión el intervalo de confianza del $95\\%$ toma la forma:\n",
    "\n",
    "$$ \\hat{\\beta_j} \\pm 2\\text{SE}(\\hat{\\beta_j})$$"
   ]
  },
  {
   "cell_type": "markdown",
   "id": "a71aed31-b058-4217-8d45-9686b9611511",
   "metadata": {},
   "source": [
    "Calcula los intervalos de confianza para los coeficientes estimados:"
   ]
  },
  {
   "cell_type": "markdown",
   "id": "17ee68b1",
   "metadata": {},
   "source": [
    "### Intervalos de confianza de la TV"
   ]
  },
  {
   "cell_type": "code",
   "execution_count": 26,
   "id": "5d4b349f",
   "metadata": {},
   "outputs": [],
   "source": [
    "tv0 = 7.032593\n",
    "tv1 = 0.047536"
   ]
  },
  {
   "cell_type": "markdown",
   "id": "c8d8e58d",
   "metadata": {},
   "source": [
    "#### TV_B0 (Upper)"
   ]
  },
  {
   "cell_type": "code",
   "execution_count": 56,
   "id": "8b725487-4e48-471d-9c5a-547e7e176334",
   "metadata": {},
   "outputs": [
    {
     "data": {
      "text/plain": [
       "7.948278880546957"
      ]
     },
     "execution_count": 56,
     "metadata": {},
     "output_type": "execute_result"
    }
   ],
   "source": [
    "UTV0 = tv0 + 2*np.sqrt(SEB0TV)\n",
    "UTV0"
   ]
  },
  {
   "cell_type": "markdown",
   "id": "64e9ca01",
   "metadata": {},
   "source": [
    "#### TV_B0 (Lower)"
   ]
  },
  {
   "cell_type": "code",
   "execution_count": 57,
   "id": "644fac16",
   "metadata": {},
   "outputs": [
    {
     "data": {
      "text/plain": [
       "6.116907119453043"
      ]
     },
     "execution_count": 57,
     "metadata": {},
     "output_type": "execute_result"
    }
   ],
   "source": [
    "LTV0 = tv0 - 2*np.sqrt(SEB0TV)\n",
    "LTV0"
   ]
  },
  {
   "cell_type": "markdown",
   "id": "02dfdddd",
   "metadata": {},
   "source": [
    "#### TV_B1 (Upper)"
   ]
  },
  {
   "cell_type": "code",
   "execution_count": 58,
   "id": "b8173bfb-0766-4888-8c4b-2367cafde0c9",
   "metadata": {},
   "outputs": [
    {
     "data": {
      "text/plain": [
       "0.05291721437559374"
      ]
     },
     "execution_count": 58,
     "metadata": {},
     "output_type": "execute_result"
    }
   ],
   "source": [
    "UTV1 = tv1 + 2*np.sqrt(SEB1TV)\n",
    "UTV1"
   ]
  },
  {
   "cell_type": "markdown",
   "id": "5d50fcd7",
   "metadata": {},
   "source": [
    "#### TV_B1 (Lower)"
   ]
  },
  {
   "cell_type": "code",
   "execution_count": 59,
   "id": "e2681447-fa5c-4057-90c2-a32faa1d7277",
   "metadata": {
    "scrolled": true
   },
   "outputs": [
    {
     "data": {
      "text/plain": [
       "0.04215478562440626"
      ]
     },
     "execution_count": 59,
     "metadata": {},
     "output_type": "execute_result"
    }
   ],
   "source": [
    "LTV1 = tv1 - 2*np.sqrt(SEB1TV)\n",
    "LTV1"
   ]
  },
  {
   "cell_type": "markdown",
   "id": "27276f95",
   "metadata": {},
   "source": [
    "### Intervalos de confianza de la radio"
   ]
  },
  {
   "cell_type": "code",
   "execution_count": 31,
   "id": "059ef3e4",
   "metadata": {},
   "outputs": [],
   "source": [
    "ra0 = 9.311638095158283\n",
    "ra1 = 0.20249578"
   ]
  },
  {
   "cell_type": "markdown",
   "id": "d6b74dbc",
   "metadata": {},
   "source": [
    "#### ra_B0 (Upper)"
   ]
  },
  {
   "cell_type": "code",
   "execution_count": 62,
   "id": "112c0d89",
   "metadata": {},
   "outputs": [
    {
     "data": {
      "text/plain": [
       "10.437439087702025"
      ]
     },
     "execution_count": 62,
     "metadata": {},
     "output_type": "execute_result"
    }
   ],
   "source": [
    "URA0 = ra0 + 2*np.sqrt(SEB0RA)\n",
    "URA0"
   ]
  },
  {
   "cell_type": "markdown",
   "id": "b6b8918f",
   "metadata": {},
   "source": [
    "#### ra_B0 (Lower)"
   ]
  },
  {
   "cell_type": "code",
   "execution_count": 63,
   "id": "cd677aae",
   "metadata": {},
   "outputs": [
    {
     "data": {
      "text/plain": [
       "8.185837102614542"
      ]
     },
     "execution_count": 63,
     "metadata": {},
     "output_type": "execute_result"
    }
   ],
   "source": [
    "LRA0 = ra0 - 2*np.sqrt(SEB0RA)\n",
    "LRA0"
   ]
  },
  {
   "cell_type": "markdown",
   "id": "0d8b4c77",
   "metadata": {},
   "source": [
    "#### ra_B1 (Upper)"
   ]
  },
  {
   "cell_type": "code",
   "execution_count": 64,
   "id": "d384bb7d",
   "metadata": {},
   "outputs": [
    {
     "data": {
      "text/plain": [
       "0.24331839272018124"
      ]
     },
     "execution_count": 64,
     "metadata": {},
     "output_type": "execute_result"
    }
   ],
   "source": [
    "URA1 = ra1 + 2*np.sqrt(SEB1RA)\n",
    "URA1"
   ]
  },
  {
   "cell_type": "markdown",
   "id": "c69fbe8b",
   "metadata": {},
   "source": [
    "#### ra_B1 (Lower)"
   ]
  },
  {
   "cell_type": "code",
   "execution_count": 65,
   "id": "9d6e8038",
   "metadata": {},
   "outputs": [
    {
     "data": {
      "text/plain": [
       "0.16167316727981873"
      ]
     },
     "execution_count": 65,
     "metadata": {},
     "output_type": "execute_result"
    }
   ],
   "source": [
    "LRA1 = ra1 - 2*np.sqrt(SEB1RA)\n",
    "LRA1"
   ]
  },
  {
   "cell_type": "markdown",
   "id": "746f344d",
   "metadata": {},
   "source": [
    "### Intervales de confianza del periódico "
   ]
  },
  {
   "cell_type": "code",
   "execution_count": 36,
   "id": "9564c727",
   "metadata": {},
   "outputs": [],
   "source": [
    "new0 = 12.351407069278162\n",
    "new1 = 0.0546931"
   ]
  },
  {
   "cell_type": "markdown",
   "id": "86808fe8",
   "metadata": {},
   "source": [
    "#### new_B0 (Upper)"
   ]
  },
  {
   "cell_type": "code",
   "execution_count": 67,
   "id": "9a83c501",
   "metadata": {},
   "outputs": [
    {
     "data": {
      "text/plain": [
       "13.59424744449703"
      ]
     },
     "execution_count": 67,
     "metadata": {},
     "output_type": "execute_result"
    }
   ],
   "source": [
    "UNEW0 = new0 + 2*np.sqrt(SEB0NEW)\n",
    "UNEW0"
   ]
  },
  {
   "cell_type": "markdown",
   "id": "320331ee",
   "metadata": {},
   "source": [
    "#### new_B0 (Lower)"
   ]
  },
  {
   "cell_type": "code",
   "execution_count": 68,
   "id": "aafac24e",
   "metadata": {},
   "outputs": [
    {
     "data": {
      "text/plain": [
       "11.108566694059293"
      ]
     },
     "execution_count": 68,
     "metadata": {},
     "output_type": "execute_result"
    }
   ],
   "source": [
    "LNEW0 = new0 - 2*np.sqrt(SEB0NEW)\n",
    "LNEW0"
   ]
  },
  {
   "cell_type": "markdown",
   "id": "a5663f59",
   "metadata": {},
   "source": [
    "#### new_B1 (Upper)"
   ]
  },
  {
   "cell_type": "code",
   "execution_count": 69,
   "id": "fc71ab23",
   "metadata": {},
   "outputs": [
    {
     "data": {
      "text/plain": [
       "0.08784454375271633"
      ]
     },
     "execution_count": 69,
     "metadata": {},
     "output_type": "execute_result"
    }
   ],
   "source": [
    "UNEW1 = new1 + 2*np.sqrt(SEB1NEW)\n",
    "UNEW1"
   ]
  },
  {
   "cell_type": "markdown",
   "id": "62014649",
   "metadata": {},
   "source": [
    "#### new_B1 (Lower)"
   ]
  },
  {
   "cell_type": "code",
   "execution_count": 70,
   "id": "36f2ab96",
   "metadata": {},
   "outputs": [
    {
     "data": {
      "text/plain": [
       "0.021541656247283672"
      ]
     },
     "execution_count": 70,
     "metadata": {},
     "output_type": "execute_result"
    }
   ],
   "source": [
    "LNEW1 = new1 - 2*np.sqrt(SEB1NEW)\n",
    "LNEW1"
   ]
  },
  {
   "cell_type": "markdown",
   "id": "da3b3100-fb87-42de-9e74-75c72464bb7b",
   "metadata": {},
   "source": [
    "Los errores estándar también se usan para realizar pruebas de hipótesis. La prueba de hipótesis más común es probar la hipótesis nula de:\n",
    "\n",
    "$$ H_0: \\text{No hay relación entre } X \\text{ y } Y \\ \\ \\ \\ (\\beta_1=0)$$"
   ]
  },
  {
   "cell_type": "markdown",
   "id": "a1ef288e-55fe-45fb-bb86-4bef282b5947",
   "metadata": {},
   "source": [
    "contra la hipótesis alternativa:\n",
    "$$ H_0: \\text{Hay alguna relación entre } X \\text{ y } Y \\ \\ \\ (\\beta_1 \\neq 0)$$"
   ]
  },
  {
   "cell_type": "markdown",
   "id": "eaf0c27a-4a67-450c-b2ce-a65958938c25",
   "metadata": {},
   "source": [
    "Explica con tus palabras el significado de la hipótesis nula y la hipótesis alternativa."
   ]
  },
  {
   "cell_type": "markdown",
   "id": "41f7cb88-88a5-462f-84ec-6019911ebb64",
   "metadata": {},
   "source": [
    "Hipótesis nula: Es el escenario contrario al de la hipostesis alternativa, lo que no quieres o sospechas que pase. Y es la que tratamos de probar verdadera.\n",
    "\n",
    "Hipótesis alternativa: Es lo que quieres o sospechas que pase, y se considera si hay suficiente evidencia para rechazar H₀."
   ]
  },
  {
   "cell_type": "markdown",
   "id": "cc6404ea-89ae-45f0-9935-67dbd53b78c6",
   "metadata": {},
   "source": [
    "Para probal la hipótesis nula debemos determinar si nuestro estimado $\\hat{\\beta_1}$ de $\\beta_1$ está lo suficientemente alejado de cero para que podamos decir con confianza que este valor no es cero. \n",
    "\n",
    "¿Qué tan lejos? Depende de qué tanta confianza tengamos en el estimado encontrado. Si nuestro error estándar es pequeño y nuestro estimado está alejado de cero podríamos decir que hay muy poca probabilidad de que el valor verdadero sea 0. En cambio, si nuestro error estándar es grande y nuestro estimado está muy cerca de cero, entonces podrías ser que el valor verdadero sea cero y que no haya relación entre las variables."
   ]
  },
  {
   "cell_type": "markdown",
   "id": "96161b14-6a16-41ea-aec8-0394f729447d",
   "metadata": {},
   "source": [
    "Se calcula un *estadístico t* dado por\n",
    "$$ t = \\frac{\\hat{\\beta_j} - \\mu}{\\text{SE}(\\hat{\\beta_j})} $$"
   ]
  },
  {
   "cell_type": "markdown",
   "id": "4f04296d-854b-4fcb-9c79-6b23b516f2f3",
   "metadata": {},
   "source": [
    "donde $\\mu$ es el valor contra el que queremos probar.\n",
    "\n",
    "Calcula el estadístico t para tus coeficientes estimados, usando como referencia la prueba de hipótesis."
   ]
  },
  {
   "cell_type": "markdown",
   "id": "df9e55f2",
   "metadata": {},
   "source": [
    "### TV estadístico t"
   ]
  },
  {
   "cell_type": "markdown",
   "id": "4f729237",
   "metadata": {},
   "source": [
    "#### B0t"
   ]
  },
  {
   "cell_type": "code",
   "execution_count": 41,
   "id": "68f15e0c-6c64-4ff5-a03c-8d72b639db7f",
   "metadata": {},
   "outputs": [
    {
     "data": {
      "text/plain": [
       "15.360273974737485"
      ]
     },
     "execution_count": 41,
     "metadata": {},
     "output_type": "execute_result"
    }
   ],
   "source": [
    "t0TV = (tv0)/(np.sqrt(SEB0TV))\n",
    "t0TV"
   ]
  },
  {
   "cell_type": "markdown",
   "id": "6ead4bf1",
   "metadata": {},
   "source": [
    "#### B1t"
   ]
  },
  {
   "cell_type": "code",
   "execution_count": 42,
   "id": "3b101c1c-0570-4b3b-bb87-eb7b53e6ec51",
   "metadata": {},
   "outputs": [
    {
     "data": {
      "text/plain": [
       "17.667387575413244"
      ]
     },
     "execution_count": 42,
     "metadata": {},
     "output_type": "execute_result"
    }
   ],
   "source": [
    "t1TV = (tv1)/(np.sqrt(SEB1TV))\n",
    "t1TV"
   ]
  },
  {
   "cell_type": "markdown",
   "id": "6671c7b2",
   "metadata": {},
   "source": [
    "### Radio estadístico t"
   ]
  },
  {
   "cell_type": "markdown",
   "id": "345a5d67",
   "metadata": {},
   "source": [
    "#### B0t"
   ]
  },
  {
   "cell_type": "code",
   "execution_count": 43,
   "id": "da0d0a7e",
   "metadata": {},
   "outputs": [
    {
     "data": {
      "text/plain": [
       "16.542245311258217"
      ]
     },
     "execution_count": 43,
     "metadata": {},
     "output_type": "execute_result"
    }
   ],
   "source": [
    "t0RA = (ra0)/(np.sqrt(SEB0RA))\n",
    "t0RA"
   ]
  },
  {
   "cell_type": "markdown",
   "id": "bca212e0",
   "metadata": {},
   "source": [
    "#### B1t"
   ]
  },
  {
   "cell_type": "code",
   "execution_count": 44,
   "id": "0a845a09",
   "metadata": {},
   "outputs": [
    {
     "data": {
      "text/plain": [
       "9.920765306621012"
      ]
     },
     "execution_count": 44,
     "metadata": {},
     "output_type": "execute_result"
    }
   ],
   "source": [
    "t1RA = (ra1)/(np.sqrt(SEB1RA))\n",
    "t1RA"
   ]
  },
  {
   "cell_type": "markdown",
   "id": "81c798de",
   "metadata": {},
   "source": [
    "### Periodíco estadístico t"
   ]
  },
  {
   "cell_type": "markdown",
   "id": "6b989200",
   "metadata": {},
   "source": [
    "#### B0t"
   ]
  },
  {
   "cell_type": "code",
   "execution_count": 45,
   "id": "d9057053",
   "metadata": {},
   "outputs": [
    {
     "data": {
      "text/plain": [
       "19.87609562024895"
      ]
     },
     "execution_count": 45,
     "metadata": {},
     "output_type": "execute_result"
    }
   ],
   "source": [
    "t0NEW = (new0)/(np.sqrt(SEB0NEW))\n",
    "t0NEW"
   ]
  },
  {
   "cell_type": "markdown",
   "id": "8e143ba3",
   "metadata": {},
   "source": [
    "#### B1t"
   ]
  },
  {
   "cell_type": "code",
   "execution_count": 46,
   "id": "aba5a613",
   "metadata": {},
   "outputs": [
    {
     "data": {
      "text/plain": [
       "3.299590835799941"
      ]
     },
     "execution_count": 46,
     "metadata": {},
     "output_type": "execute_result"
    }
   ],
   "source": [
    "t1NEW = (new1)/(np.sqrt(SEB1NEW))\n",
    "t1NEW"
   ]
  },
  {
   "cell_type": "markdown",
   "id": "7737b123-f4c5-403c-92f2-4800c79107d9",
   "metadata": {},
   "source": [
    "La distribución t tiene forma de campana y se parece bastante a la distribución normal cuando $n > 30$. Ya sólo es cuestión de calcular la probabilidad de observar cualquier número tal que su valor absoluto sea igual o mayor que el valor absoluto del estadístico t calculado. En otras palabras:\n",
    "$$ P(|x| \\geq |t|) $$"
   ]
  },
  {
   "cell_type": "markdown",
   "id": "6bb2ccf1-b4b1-4c0c-a15b-d4fdd2f4552a",
   "metadata": {},
   "source": [
    "A esta probabilidad la llamamos *p-value*. Un *p-value* pequeño indica que es poco probable que exista por puro azar una relación significativa entre predictor y respuesta, en caso de que no haya una asociación real entre predictor y respuesta. En otras palabras, el *p-value* te dice la probabilidad de que parezca que hay relación cuando no la hay.\n",
    "\n",
    "Si el *p-value* es pequeño, inferimos que sí hay una asociación entre el predictor y la respuesta, y **rechazamos la hipótesis nula**.\n",
    "  "
   ]
  },
  {
   "cell_type": "markdown",
   "id": "c7f17065-a71d-4322-8782-3e805df65d29",
   "metadata": {},
   "source": [
    "¿Qué tan pequeño? Depende de la aplicación. Un valor muy común es del $5\\%$.\n",
    "\n",
    "Utiliza el siguiente código para calcular el *p-value* para tus coeficientes\n",
    "\n",
    "`from scipy import stats`\n",
    "\n",
    "`p_bj = 2*(1 - stats.t.cdf(np.abs(t_bj), n-p))`"
   ]
  },
  {
   "cell_type": "code",
   "execution_count": 47,
   "id": "7a542d04-f9cb-4ea2-9af1-ca79d1539860",
   "metadata": {},
   "outputs": [],
   "source": [
    "from scipy import stats\n",
    "\n",
    "p = 2\n",
    "# P = 2, por que son dos factores B0 y B1"
   ]
  },
  {
   "cell_type": "markdown",
   "id": "10462dad",
   "metadata": {},
   "source": [
    "### p-value de la TV"
   ]
  },
  {
   "cell_type": "code",
   "execution_count": 48,
   "id": "16a8e272",
   "metadata": {},
   "outputs": [
    {
     "data": {
      "text/plain": [
       "0.0"
      ]
     },
     "execution_count": 48,
     "metadata": {},
     "output_type": "execute_result"
    }
   ],
   "source": [
    "p_b0TV = 2*(1 - stats.t.cdf(np.abs(t0TV), n-p))\n",
    "p_b0TV"
   ]
  },
  {
   "cell_type": "code",
   "execution_count": 49,
   "id": "18100af3-810f-4bce-8e9c-85e3aeda8b53",
   "metadata": {},
   "outputs": [
    {
     "data": {
      "text/plain": [
       "0.0"
      ]
     },
     "execution_count": 49,
     "metadata": {},
     "output_type": "execute_result"
    }
   ],
   "source": [
    "p_b1TV = 2*(1 - stats.t.cdf(np.abs(t1TV), n-p))\n",
    "p_b1TV"
   ]
  },
  {
   "cell_type": "markdown",
   "id": "29e6149a",
   "metadata": {},
   "source": [
    "### p-value radio"
   ]
  },
  {
   "cell_type": "code",
   "execution_count": 50,
   "id": "42d3ccd6",
   "metadata": {},
   "outputs": [
    {
     "data": {
      "text/plain": [
       "0.0"
      ]
     },
     "execution_count": 50,
     "metadata": {},
     "output_type": "execute_result"
    }
   ],
   "source": [
    "p_b0RA = 2*(1 - stats.t.cdf(np.abs(t0RA), n-p))\n",
    "p_b0RA"
   ]
  },
  {
   "cell_type": "code",
   "execution_count": 51,
   "id": "226d94cd",
   "metadata": {},
   "outputs": [
    {
     "data": {
      "text/plain": [
       "0.0"
      ]
     },
     "execution_count": 51,
     "metadata": {},
     "output_type": "execute_result"
    }
   ],
   "source": [
    "p_b1RA = 2*(1 - stats.t.cdf(np.abs(t1RA), n-p))\n",
    "p_b1RA"
   ]
  },
  {
   "cell_type": "markdown",
   "id": "d56287ec",
   "metadata": {},
   "source": [
    "### p-value newspaper"
   ]
  },
  {
   "cell_type": "code",
   "execution_count": 52,
   "id": "d6d195c7",
   "metadata": {},
   "outputs": [
    {
     "data": {
      "text/plain": [
       "0.0"
      ]
     },
     "execution_count": 52,
     "metadata": {},
     "output_type": "execute_result"
    }
   ],
   "source": [
    "p_b0NEW = 2*(1 - stats.t.cdf(np.abs(t0NEW), n-p))\n",
    "p_b0NEW"
   ]
  },
  {
   "cell_type": "code",
   "execution_count": 53,
   "id": "33216884",
   "metadata": {},
   "outputs": [
    {
     "data": {
      "text/plain": [
       "0.0011481955116945386"
      ]
     },
     "execution_count": 53,
     "metadata": {},
     "output_type": "execute_result"
    }
   ],
   "source": [
    "p_b1NEW = 2*(1 - stats.t.cdf(np.abs(t1NEW), n-p))\n",
    "p_b1NEW"
   ]
  },
  {
   "cell_type": "markdown",
   "id": "2be9ad17-db40-405e-b88a-d0af8a05aacf",
   "metadata": {},
   "source": [
    "¿Se rechaza la hipótesis nula? ¿Qué significa?"
   ]
  },
  {
   "cell_type": "markdown",
   "id": "48c2c509",
   "metadata": {},
   "source": [
    "El p-value es la probabilidad de que tu resultado de la significancia de los factores (coeficientes) y el modelo sea un chiripaso. En otras palabras que los resultados hayan sido por pura suerte. Y como en este caso el p_value tuvo valores muy pequeños nos da a entender que los resultados si serían exactos y no solo coincidencia. "
   ]
  },
  {
   "cell_type": "markdown",
   "id": "37a538ac",
   "metadata": {},
   "source": [
    "### Observaciones TV"
   ]
  },
  {
   "cell_type": "code",
   "execution_count": 60,
   "id": "47b0994e",
   "metadata": {},
   "outputs": [
    {
     "name": "stdout",
     "output_type": "stream",
     "text": [
      "r2 =  0.611875050850071\n",
      "Intercepto =  7.0325935491276965\n",
      "Coeficiente =  0.04753664\n",
      "Error Estandar B0 =  0.209620157958264\n",
      "Error Estandar B1 =  7.2393670390241845e-06\n",
      "Intervalo de Confiaza Upper B0 7.948278880546957 Intervalo de confianza Lower B0 6.116907119453043\n",
      "Intervalo de Confiaza Upper B1 0.05291721437559374 Intervalo de confianza Lower B0 0.04215478562440626\n",
      "Estadístico de Confianza B0 =  15.360273974737485\n",
      "Estadístico de Confianza B1 =  17.667387575413244\n",
      "p_value0 =  0.0\n",
      "p_value1 =  0.0\n"
     ]
    }
   ],
   "source": [
    "print (\"r2 =  0.611875050850071\")\n",
    "print(\"Intercepto =  7.0325935491276965\")\n",
    "print(\"Coeficiente =  0.04753664\")\n",
    "print(\"Error Estandar B0 = \", SEB0TV)\n",
    "print(\"Error Estandar B1 = \", SEB1TV)\n",
    "print(\"Intervalo de Confiaza Upper B0\", UTV0, \"Intervalo de confianza Lower B0\", LTV0)\n",
    "print(\"Intervalo de Confiaza Upper B1\", UTV1, \"Intervalo de confianza Lower B0\", LTV1)\n",
    "print(\"Estadístico de Confianza B0 = \", t0TV)\n",
    "print(\"Estadístico de Confianza B1 = \", t1TV)\n",
    "print(\"p_value0 = \", p_b0TV)\n",
    "print(\"p_value1 = \", p_b1TV)"
   ]
  },
  {
   "cell_type": "markdown",
   "id": "45f9cbd0",
   "metadata": {},
   "source": [
    "El **61%** de la varianza la explica el modelo. Si no se invierte nada en tele tendríamos **7.032** ventas y por cada unidad que gastemos en TV aumentarían nuestras ventas un **0.047**. Los errores estandar son pequeños por ende el modelo es confiable. Los intervalos de confianza no pasan por el cero lo que nos habla que son significativos pero vemos que el de B0 es más significativo que el de B1. Y por último como los p_value de ambos están muy cerca del cerco podemos decir que son confiables los resultados que obtuvimos"
   ]
  },
  {
   "cell_type": "markdown",
   "id": "b9b74fd3",
   "metadata": {},
   "source": [
    "### Observaciones radio"
   ]
  },
  {
   "cell_type": "code",
   "execution_count": 66,
   "id": "0da7e887",
   "metadata": {},
   "outputs": [
    {
     "name": "stdout",
     "output_type": "stream",
     "text": [
      "r2 =  0.33203245544529525\n",
      "Intercepto =  9.311638095158283\n",
      "Coeficiente =  0.20249578\n",
      "Error Estandar B0 =  0.3168569687031188\n",
      "Error Estandar B1 =  0.00041662142732547643\n",
      "Intervalo de Confiaza Upper B0 10.437439087702025 Intervalo de confianza Lower B0 8.185837102614542\n",
      "Intervalo de Confiaza Upper B1 0.24331839272018124 Intervalo de confianza Lower B0 0.16167316727981873\n",
      "Estadístico de Confianza B0 =  16.542245311258217\n",
      "Estadístico de Confianza B1 =  9.920765306621012\n",
      "p_value0 =  0.0\n",
      "p_value1 =  0.0\n"
     ]
    }
   ],
   "source": [
    "print (\"r2 =  0.33203245544529525\")\n",
    "print(\"Intercepto =  9.311638095158283\")\n",
    "print(\"Coeficiente =  0.20249578\")\n",
    "print(\"Error Estandar B0 = \", SEB0RA)\n",
    "print(\"Error Estandar B1 = \", SEB1RA)\n",
    "print(\"Intervalo de Confiaza Upper B0\", URA0, \"Intervalo de confianza Lower B0\", LRA0)\n",
    "print(\"Intervalo de Confiaza Upper B1\", URA1, \"Intervalo de confianza Lower B0\", LRA1)\n",
    "print(\"Estadístico de Confianza B0 = \", t0RA)\n",
    "print(\"Estadístico de Confianza B1 = \", t1RA)\n",
    "print(\"p_value0 = \", p_b0RA)\n",
    "print(\"p_value1 = \", p_b1RA)"
   ]
  },
  {
   "cell_type": "markdown",
   "id": "ad230113",
   "metadata": {},
   "source": [
    "El **33%** de la varianza la explica el modelo. Si no se invierte nada en radio tendríamos **9.311** ventas y por cada unidad que gastemos en radio se aumentarían nuestras ventas un **0.202**. Los errores estandar son pequeños por ende el modelo es confiable. Los intervalos de confianza no pasan por el cero lo que nos habla que son significativos pero vemos que el de B0 es más significativo que el de B1. Y por último como los p_value de ambos están muy cerca del cerco podemos decir que son confiables los resultados que obtuvimos"
   ]
  },
  {
   "cell_type": "markdown",
   "id": "b8bf6537",
   "metadata": {},
   "source": [
    "### Observaciones newspaper"
   ]
  },
  {
   "cell_type": "code",
   "execution_count": 71,
   "id": "e0844d72",
   "metadata": {},
   "outputs": [
    {
     "name": "stdout",
     "output_type": "stream",
     "text": [
      "r2 =  0.05212044544430516\n",
      "Intercepto =  12.351407069278162\n",
      "Coeficiente =  0.0546931\n",
      "Error Estandar B0 =  0.3861630495685448\n",
      "Error Estandar B1 =  0.0002747545557223786\n",
      "Intervalo de Confiaza Upper B0 13.59424744449703 Intervalo de confianza Lower B0 11.108566694059293\n",
      "Intervalo de Confiaza Upper B1 0.08784454375271633 Intervalo de confianza Lower B0 0.021541656247283672\n",
      "Estadístico de Confianza B0 =  19.87609562024895\n",
      "Estadístico de Confianza B1 =  3.299590835799941\n",
      "p_value0 =  0.0\n",
      "p_value1 =  0.0011481955116945386\n"
     ]
    }
   ],
   "source": [
    "print (\"r2 =  0.05212044544430516\")\n",
    "print(\"Intercepto =  12.351407069278162\")\n",
    "print(\"Coeficiente =  0.0546931\")\n",
    "print(\"Error Estandar B0 = \", SEB0NEW)\n",
    "print(\"Error Estandar B1 = \", SEB1NEW)\n",
    "print(\"Intervalo de Confiaza Upper B0\", UNEW0, \"Intervalo de confianza Lower B0\", LNEW0)\n",
    "print(\"Intervalo de Confiaza Upper B1\", UNEW1, \"Intervalo de confianza Lower B0\", LNEW1)\n",
    "print(\"Estadístico de Confianza B0 = \", t0NEW)\n",
    "print(\"Estadístico de Confianza B1 = \", t1NEW)\n",
    "print(\"p_value0 = \", p_b0NEW)\n",
    "print(\"p_value1 = \", p_b1NEW)"
   ]
  },
  {
   "cell_type": "markdown",
   "id": "f289ab56",
   "metadata": {},
   "source": [
    "El **5.21%** de la varianza la explica el modelo. Si no se invierte nada en radio tendríamos **12.35** ventas (el más alto de los tres) y por cada unidad que gastemos en radio se aumentarían nuestras ventas un **0.05**. Los errores estandar son pequeños en relación a los valores de del intercepto y coeficiente, por ende el modelo es confiable. Los intervalos de confianza no pasan por el cero lo que nos habla que son significativos pero vemos que el de B0 es más significativo que el de B1. Y por último como los p_value de ambos están muy cerca del cerco podemos decir que son confiables los resultados que obtuvimos"
   ]
  },
  {
   "cell_type": "markdown",
   "id": "3a994d1a-6187-491c-a518-7971cebe3c0a",
   "metadata": {},
   "source": [
    "Realiza otras dos regresiones. Ya tienes hecha la regresión de ventas dado el gasto en publicidad de TV. Realiza la regresión para gastos en radio y gastos en periódico. Organiza las respuestas para que debajo de esta celda se tenga:\n",
    "- Título de regresión -\n",
    "- Coeficientes estimados -\n",
    "- Errores estándar de los coeficientes -\n",
    "- Intervalos de confianza -\n",
    "- Estadísticos t -\n",
    "- p-values\n",
    "- Observaciones"
   ]
  },
  {
   "cell_type": "markdown",
   "id": "556988ae-3656-428d-817b-76f9e1534f46",
   "metadata": {},
   "source": [
    "## Regresión lineal múltiple"
   ]
  },
  {
   "cell_type": "markdown",
   "id": "943698d8-7f84-4245-8be3-e4c8f34be5da",
   "metadata": {},
   "source": [
    "En lugar de hacer una regresión para cada factor independiente, quizás se puede extender el modelo para que tenga varios factores dentro:\n",
    "\n",
    "$$ Y = \\beta_0 + \\beta_1 X_1 + \\beta_2 X_2 + ... + \\beta_p X_p + \\epsilon $$\n",
    "\n",
    "Para nuestro ejemplo de publicidad:\n",
    "\n",
    "$$ \\text{sales} = \\beta_0 + \\beta_1 (\\text{TV}) + \\beta_2 (\\text{radio}) + \\beta_3 (\\text{newspaper}) + \\epsilon $$"
   ]
  },
  {
   "cell_type": "markdown",
   "id": "df8cd89a-0c25-4e1d-9213-292807e17ccf",
   "metadata": {},
   "source": [
    "Utiliza la librería `statsmodels` para realizar la regresión. Por defecto la librería statsmodels no toma en cuenta el intercepto ($\\beta_0$), por lo que se tendrá que agregar una columna de unos de tamaño *n* a la matriz X.\n",
    "\n",
    "`import statsmodels.api as sm`\n",
    "\n",
    "`ols = sm.OLS(Y, X)`\n",
    "\n",
    "`results = ols.fit()`\n",
    "\n",
    "`results.summary()`"
   ]
  },
  {
   "cell_type": "code",
   "execution_count": 73,
   "id": "022522eb-2c18-435e-b51b-4ed5a5c54669",
   "metadata": {
    "scrolled": false
   },
   "outputs": [
    {
     "data": {
      "text/html": [
       "<table class=\"simpletable\">\n",
       "<caption>OLS Regression Results</caption>\n",
       "<tr>\n",
       "  <th>Dep. Variable:</th>            <td>y</td>        <th>  R-squared:         </th> <td>   0.897</td>\n",
       "</tr>\n",
       "<tr>\n",
       "  <th>Model:</th>                   <td>OLS</td>       <th>  Adj. R-squared:    </th> <td>   0.896</td>\n",
       "</tr>\n",
       "<tr>\n",
       "  <th>Method:</th>             <td>Least Squares</td>  <th>  F-statistic:       </th> <td>   570.3</td>\n",
       "</tr>\n",
       "<tr>\n",
       "  <th>Date:</th>             <td>Tue, 04 Feb 2025</td> <th>  Prob (F-statistic):</th> <td>1.58e-96</td>\n",
       "</tr>\n",
       "<tr>\n",
       "  <th>Time:</th>                 <td>11:42:09</td>     <th>  Log-Likelihood:    </th> <td> -386.18</td>\n",
       "</tr>\n",
       "<tr>\n",
       "  <th>No. Observations:</th>      <td>   200</td>      <th>  AIC:               </th> <td>   780.4</td>\n",
       "</tr>\n",
       "<tr>\n",
       "  <th>Df Residuals:</th>          <td>   196</td>      <th>  BIC:               </th> <td>   793.6</td>\n",
       "</tr>\n",
       "<tr>\n",
       "  <th>Df Model:</th>              <td>     3</td>      <th>                     </th>     <td> </td>   \n",
       "</tr>\n",
       "<tr>\n",
       "  <th>Covariance Type:</th>      <td>nonrobust</td>    <th>                     </th>     <td> </td>   \n",
       "</tr>\n",
       "</table>\n",
       "<table class=\"simpletable\">\n",
       "<tr>\n",
       "    <td></td>       <th>coef</th>     <th>std err</th>      <th>t</th>      <th>P>|t|</th>  <th>[0.025</th>    <th>0.975]</th>  \n",
       "</tr>\n",
       "<tr>\n",
       "  <th>const</th> <td>    2.9389</td> <td>    0.312</td> <td>    9.422</td> <td> 0.000</td> <td>    2.324</td> <td>    3.554</td>\n",
       "</tr>\n",
       "<tr>\n",
       "  <th>x1</th>    <td>    0.0458</td> <td>    0.001</td> <td>   32.809</td> <td> 0.000</td> <td>    0.043</td> <td>    0.049</td>\n",
       "</tr>\n",
       "<tr>\n",
       "  <th>x2</th>    <td>    0.1885</td> <td>    0.009</td> <td>   21.893</td> <td> 0.000</td> <td>    0.172</td> <td>    0.206</td>\n",
       "</tr>\n",
       "<tr>\n",
       "  <th>x3</th>    <td>   -0.0010</td> <td>    0.006</td> <td>   -0.177</td> <td> 0.860</td> <td>   -0.013</td> <td>    0.011</td>\n",
       "</tr>\n",
       "</table>\n",
       "<table class=\"simpletable\">\n",
       "<tr>\n",
       "  <th>Omnibus:</th>       <td>60.414</td> <th>  Durbin-Watson:     </th> <td>   2.084</td>\n",
       "</tr>\n",
       "<tr>\n",
       "  <th>Prob(Omnibus):</th> <td> 0.000</td> <th>  Jarque-Bera (JB):  </th> <td> 151.241</td>\n",
       "</tr>\n",
       "<tr>\n",
       "  <th>Skew:</th>          <td>-1.327</td> <th>  Prob(JB):          </th> <td>1.44e-33</td>\n",
       "</tr>\n",
       "<tr>\n",
       "  <th>Kurtosis:</th>      <td> 6.332</td> <th>  Cond. No.          </th> <td>    454.</td>\n",
       "</tr>\n",
       "</table><br/><br/>Notes:<br/>[1] Standard Errors assume that the covariance matrix of the errors is correctly specified."
      ],
      "text/latex": [
       "\\begin{center}\n",
       "\\begin{tabular}{lclc}\n",
       "\\toprule\n",
       "\\textbf{Dep. Variable:}    &        y         & \\textbf{  R-squared:         } &     0.897   \\\\\n",
       "\\textbf{Model:}            &       OLS        & \\textbf{  Adj. R-squared:    } &     0.896   \\\\\n",
       "\\textbf{Method:}           &  Least Squares   & \\textbf{  F-statistic:       } &     570.3   \\\\\n",
       "\\textbf{Date:}             & Tue, 04 Feb 2025 & \\textbf{  Prob (F-statistic):} &  1.58e-96   \\\\\n",
       "\\textbf{Time:}             &     11:42:09     & \\textbf{  Log-Likelihood:    } &   -386.18   \\\\\n",
       "\\textbf{No. Observations:} &         200      & \\textbf{  AIC:               } &     780.4   \\\\\n",
       "\\textbf{Df Residuals:}     &         196      & \\textbf{  BIC:               } &     793.6   \\\\\n",
       "\\textbf{Df Model:}         &           3      & \\textbf{                     } &             \\\\\n",
       "\\textbf{Covariance Type:}  &    nonrobust     & \\textbf{                     } &             \\\\\n",
       "\\bottomrule\n",
       "\\end{tabular}\n",
       "\\begin{tabular}{lcccccc}\n",
       "               & \\textbf{coef} & \\textbf{std err} & \\textbf{t} & \\textbf{P$> |$t$|$} & \\textbf{[0.025} & \\textbf{0.975]}  \\\\\n",
       "\\midrule\n",
       "\\textbf{const} &       2.9389  &        0.312     &     9.422  &         0.000        &        2.324    &        3.554     \\\\\n",
       "\\textbf{x1}    &       0.0458  &        0.001     &    32.809  &         0.000        &        0.043    &        0.049     \\\\\n",
       "\\textbf{x2}    &       0.1885  &        0.009     &    21.893  &         0.000        &        0.172    &        0.206     \\\\\n",
       "\\textbf{x3}    &      -0.0010  &        0.006     &    -0.177  &         0.860        &       -0.013    &        0.011     \\\\\n",
       "\\bottomrule\n",
       "\\end{tabular}\n",
       "\\begin{tabular}{lclc}\n",
       "\\textbf{Omnibus:}       & 60.414 & \\textbf{  Durbin-Watson:     } &    2.084  \\\\\n",
       "\\textbf{Prob(Omnibus):} &  0.000 & \\textbf{  Jarque-Bera (JB):  } &  151.241  \\\\\n",
       "\\textbf{Skew:}          & -1.327 & \\textbf{  Prob(JB):          } & 1.44e-33  \\\\\n",
       "\\textbf{Kurtosis:}      &  6.332 & \\textbf{  Cond. No.          } &     454.  \\\\\n",
       "\\bottomrule\n",
       "\\end{tabular}\n",
       "%\\caption{OLS Regression Results}\n",
       "\\end{center}\n",
       "\n",
       "Notes: \\newline\n",
       " [1] Standard Errors assume that the covariance matrix of the errors is correctly specified."
      ],
      "text/plain": [
       "<class 'statsmodels.iolib.summary.Summary'>\n",
       "\"\"\"\n",
       "                            OLS Regression Results                            \n",
       "==============================================================================\n",
       "Dep. Variable:                      y   R-squared:                       0.897\n",
       "Model:                            OLS   Adj. R-squared:                  0.896\n",
       "Method:                 Least Squares   F-statistic:                     570.3\n",
       "Date:                Tue, 04 Feb 2025   Prob (F-statistic):           1.58e-96\n",
       "Time:                        11:42:09   Log-Likelihood:                -386.18\n",
       "No. Observations:                 200   AIC:                             780.4\n",
       "Df Residuals:                     196   BIC:                             793.6\n",
       "Df Model:                           3                                         \n",
       "Covariance Type:            nonrobust                                         \n",
       "==============================================================================\n",
       "                 coef    std err          t      P>|t|      [0.025      0.975]\n",
       "------------------------------------------------------------------------------\n",
       "const          2.9389      0.312      9.422      0.000       2.324       3.554\n",
       "x1             0.0458      0.001     32.809      0.000       0.043       0.049\n",
       "x2             0.1885      0.009     21.893      0.000       0.172       0.206\n",
       "x3            -0.0010      0.006     -0.177      0.860      -0.013       0.011\n",
       "==============================================================================\n",
       "Omnibus:                       60.414   Durbin-Watson:                   2.084\n",
       "Prob(Omnibus):                  0.000   Jarque-Bera (JB):              151.241\n",
       "Skew:                          -1.327   Prob(JB):                     1.44e-33\n",
       "Kurtosis:                       6.332   Cond. No.                         454.\n",
       "==============================================================================\n",
       "\n",
       "Notes:\n",
       "[1] Standard Errors assume that the covariance matrix of the errors is correctly specified.\n",
       "\"\"\""
      ]
     },
     "execution_count": 73,
     "metadata": {},
     "output_type": "execute_result"
    }
   ],
   "source": [
    "import statsmodels.api as sm\n",
    "xtv = np.reshape(de[\"TV\"].values, [-1, 1])\n",
    "xra = np.reshape(de[\"radio\"].values, [-1, 1])\n",
    "xpe = np.reshape(de[\"newspaper\"].values, [-1, 1])\n",
    "ones = np.ones([n, 1])\n",
    "X = np.hstack((ones, xtv, xra, xpe))\n",
    "ols = sm.OLS(y_columnTV, X)\n",
    "results = ols.fit()\n",
    "results.summary()"
   ]
  },
  {
   "cell_type": "code",
   "execution_count": 74,
   "id": "a7a3bd74-0f56-4199-a327-278c3ec9919e",
   "metadata": {},
   "outputs": [
    {
     "data": {
      "text/html": [
       "<table class=\"simpletable\">\n",
       "<caption>OLS Regression Results</caption>\n",
       "<tr>\n",
       "  <th>Dep. Variable:</th>            <td>y</td>        <th>  R-squared:         </th> <td>   0.612</td>\n",
       "</tr>\n",
       "<tr>\n",
       "  <th>Model:</th>                   <td>OLS</td>       <th>  Adj. R-squared:    </th> <td>   0.610</td>\n",
       "</tr>\n",
       "<tr>\n",
       "  <th>Method:</th>             <td>Least Squares</td>  <th>  F-statistic:       </th> <td>   312.1</td>\n",
       "</tr>\n",
       "<tr>\n",
       "  <th>Date:</th>             <td>Tue, 04 Feb 2025</td> <th>  Prob (F-statistic):</th> <td>1.47e-42</td>\n",
       "</tr>\n",
       "<tr>\n",
       "  <th>Time:</th>                 <td>11:44:00</td>     <th>  Log-Likelihood:    </th> <td> -519.05</td>\n",
       "</tr>\n",
       "<tr>\n",
       "  <th>No. Observations:</th>      <td>   200</td>      <th>  AIC:               </th> <td>   1042.</td>\n",
       "</tr>\n",
       "<tr>\n",
       "  <th>Df Residuals:</th>          <td>   198</td>      <th>  BIC:               </th> <td>   1049.</td>\n",
       "</tr>\n",
       "<tr>\n",
       "  <th>Df Model:</th>              <td>     1</td>      <th>                     </th>     <td> </td>   \n",
       "</tr>\n",
       "<tr>\n",
       "  <th>Covariance Type:</th>      <td>nonrobust</td>    <th>                     </th>     <td> </td>   \n",
       "</tr>\n",
       "</table>\n",
       "<table class=\"simpletable\">\n",
       "<tr>\n",
       "    <td></td>       <th>coef</th>     <th>std err</th>      <th>t</th>      <th>P>|t|</th>  <th>[0.025</th>    <th>0.975]</th>  \n",
       "</tr>\n",
       "<tr>\n",
       "  <th>const</th> <td>    7.0326</td> <td>    0.458</td> <td>   15.360</td> <td> 0.000</td> <td>    6.130</td> <td>    7.935</td>\n",
       "</tr>\n",
       "<tr>\n",
       "  <th>x1</th>    <td>    0.0475</td> <td>    0.003</td> <td>   17.668</td> <td> 0.000</td> <td>    0.042</td> <td>    0.053</td>\n",
       "</tr>\n",
       "</table>\n",
       "<table class=\"simpletable\">\n",
       "<tr>\n",
       "  <th>Omnibus:</th>       <td> 0.531</td> <th>  Durbin-Watson:     </th> <td>   1.935</td>\n",
       "</tr>\n",
       "<tr>\n",
       "  <th>Prob(Omnibus):</th> <td> 0.767</td> <th>  Jarque-Bera (JB):  </th> <td>   0.669</td>\n",
       "</tr>\n",
       "<tr>\n",
       "  <th>Skew:</th>          <td>-0.089</td> <th>  Prob(JB):          </th> <td>   0.716</td>\n",
       "</tr>\n",
       "<tr>\n",
       "  <th>Kurtosis:</th>      <td> 2.779</td> <th>  Cond. No.          </th> <td>    338.</td>\n",
       "</tr>\n",
       "</table><br/><br/>Notes:<br/>[1] Standard Errors assume that the covariance matrix of the errors is correctly specified."
      ],
      "text/latex": [
       "\\begin{center}\n",
       "\\begin{tabular}{lclc}\n",
       "\\toprule\n",
       "\\textbf{Dep. Variable:}    &        y         & \\textbf{  R-squared:         } &     0.612   \\\\\n",
       "\\textbf{Model:}            &       OLS        & \\textbf{  Adj. R-squared:    } &     0.610   \\\\\n",
       "\\textbf{Method:}           &  Least Squares   & \\textbf{  F-statistic:       } &     312.1   \\\\\n",
       "\\textbf{Date:}             & Tue, 04 Feb 2025 & \\textbf{  Prob (F-statistic):} &  1.47e-42   \\\\\n",
       "\\textbf{Time:}             &     11:44:00     & \\textbf{  Log-Likelihood:    } &   -519.05   \\\\\n",
       "\\textbf{No. Observations:} &         200      & \\textbf{  AIC:               } &     1042.   \\\\\n",
       "\\textbf{Df Residuals:}     &         198      & \\textbf{  BIC:               } &     1049.   \\\\\n",
       "\\textbf{Df Model:}         &           1      & \\textbf{                     } &             \\\\\n",
       "\\textbf{Covariance Type:}  &    nonrobust     & \\textbf{                     } &             \\\\\n",
       "\\bottomrule\n",
       "\\end{tabular}\n",
       "\\begin{tabular}{lcccccc}\n",
       "               & \\textbf{coef} & \\textbf{std err} & \\textbf{t} & \\textbf{P$> |$t$|$} & \\textbf{[0.025} & \\textbf{0.975]}  \\\\\n",
       "\\midrule\n",
       "\\textbf{const} &       7.0326  &        0.458     &    15.360  &         0.000        &        6.130    &        7.935     \\\\\n",
       "\\textbf{x1}    &       0.0475  &        0.003     &    17.668  &         0.000        &        0.042    &        0.053     \\\\\n",
       "\\bottomrule\n",
       "\\end{tabular}\n",
       "\\begin{tabular}{lclc}\n",
       "\\textbf{Omnibus:}       &  0.531 & \\textbf{  Durbin-Watson:     } &    1.935  \\\\\n",
       "\\textbf{Prob(Omnibus):} &  0.767 & \\textbf{  Jarque-Bera (JB):  } &    0.669  \\\\\n",
       "\\textbf{Skew:}          & -0.089 & \\textbf{  Prob(JB):          } &    0.716  \\\\\n",
       "\\textbf{Kurtosis:}      &  2.779 & \\textbf{  Cond. No.          } &     338.  \\\\\n",
       "\\bottomrule\n",
       "\\end{tabular}\n",
       "%\\caption{OLS Regression Results}\n",
       "\\end{center}\n",
       "\n",
       "Notes: \\newline\n",
       " [1] Standard Errors assume that the covariance matrix of the errors is correctly specified."
      ],
      "text/plain": [
       "<class 'statsmodels.iolib.summary.Summary'>\n",
       "\"\"\"\n",
       "                            OLS Regression Results                            \n",
       "==============================================================================\n",
       "Dep. Variable:                      y   R-squared:                       0.612\n",
       "Model:                            OLS   Adj. R-squared:                  0.610\n",
       "Method:                 Least Squares   F-statistic:                     312.1\n",
       "Date:                Tue, 04 Feb 2025   Prob (F-statistic):           1.47e-42\n",
       "Time:                        11:44:00   Log-Likelihood:                -519.05\n",
       "No. Observations:                 200   AIC:                             1042.\n",
       "Df Residuals:                     198   BIC:                             1049.\n",
       "Df Model:                           1                                         \n",
       "Covariance Type:            nonrobust                                         \n",
       "==============================================================================\n",
       "                 coef    std err          t      P>|t|      [0.025      0.975]\n",
       "------------------------------------------------------------------------------\n",
       "const          7.0326      0.458     15.360      0.000       6.130       7.935\n",
       "x1             0.0475      0.003     17.668      0.000       0.042       0.053\n",
       "==============================================================================\n",
       "Omnibus:                        0.531   Durbin-Watson:                   1.935\n",
       "Prob(Omnibus):                  0.767   Jarque-Bera (JB):                0.669\n",
       "Skew:                          -0.089   Prob(JB):                        0.716\n",
       "Kurtosis:                       2.779   Cond. No.                         338.\n",
       "==============================================================================\n",
       "\n",
       "Notes:\n",
       "[1] Standard Errors assume that the covariance matrix of the errors is correctly specified.\n",
       "\"\"\""
      ]
     },
     "execution_count": 74,
     "metadata": {},
     "output_type": "execute_result"
    }
   ],
   "source": [
    "import statsmodels.api as sm\n",
    "xtv = np.reshape(de[\"TV\"].values, [-1, 1])\n",
    "ones = np.ones([n, 1])\n",
    "X = np.hstack((ones, xtv))\n",
    "ols = sm.OLS(y_columnTV, X)\n",
    "results = ols.fit()\n",
    "results.summary()"
   ]
  },
  {
   "cell_type": "code",
   "execution_count": 76,
   "id": "3e2df55a",
   "metadata": {},
   "outputs": [
    {
     "data": {
      "text/html": [
       "<table class=\"simpletable\">\n",
       "<caption>OLS Regression Results</caption>\n",
       "<tr>\n",
       "  <th>Dep. Variable:</th>            <td>y</td>        <th>  R-squared:         </th> <td>   0.332</td>\n",
       "</tr>\n",
       "<tr>\n",
       "  <th>Model:</th>                   <td>OLS</td>       <th>  Adj. R-squared:    </th> <td>   0.329</td>\n",
       "</tr>\n",
       "<tr>\n",
       "  <th>Method:</th>             <td>Least Squares</td>  <th>  F-statistic:       </th> <td>   98.42</td>\n",
       "</tr>\n",
       "<tr>\n",
       "  <th>Date:</th>             <td>Tue, 04 Feb 2025</td> <th>  Prob (F-statistic):</th> <td>4.35e-19</td>\n",
       "</tr>\n",
       "<tr>\n",
       "  <th>Time:</th>                 <td>11:45:35</td>     <th>  Log-Likelihood:    </th> <td> -573.34</td>\n",
       "</tr>\n",
       "<tr>\n",
       "  <th>No. Observations:</th>      <td>   200</td>      <th>  AIC:               </th> <td>   1151.</td>\n",
       "</tr>\n",
       "<tr>\n",
       "  <th>Df Residuals:</th>          <td>   198</td>      <th>  BIC:               </th> <td>   1157.</td>\n",
       "</tr>\n",
       "<tr>\n",
       "  <th>Df Model:</th>              <td>     1</td>      <th>                     </th>     <td> </td>   \n",
       "</tr>\n",
       "<tr>\n",
       "  <th>Covariance Type:</th>      <td>nonrobust</td>    <th>                     </th>     <td> </td>   \n",
       "</tr>\n",
       "</table>\n",
       "<table class=\"simpletable\">\n",
       "<tr>\n",
       "    <td></td>       <th>coef</th>     <th>std err</th>      <th>t</th>      <th>P>|t|</th>  <th>[0.025</th>    <th>0.975]</th>  \n",
       "</tr>\n",
       "<tr>\n",
       "  <th>const</th> <td>    9.3116</td> <td>    0.563</td> <td>   16.542</td> <td> 0.000</td> <td>    8.202</td> <td>   10.422</td>\n",
       "</tr>\n",
       "<tr>\n",
       "  <th>x1</th>    <td>    0.2025</td> <td>    0.020</td> <td>    9.921</td> <td> 0.000</td> <td>    0.162</td> <td>    0.243</td>\n",
       "</tr>\n",
       "</table>\n",
       "<table class=\"simpletable\">\n",
       "<tr>\n",
       "  <th>Omnibus:</th>       <td>19.358</td> <th>  Durbin-Watson:     </th> <td>   1.946</td>\n",
       "</tr>\n",
       "<tr>\n",
       "  <th>Prob(Omnibus):</th> <td> 0.000</td> <th>  Jarque-Bera (JB):  </th> <td>  21.910</td>\n",
       "</tr>\n",
       "<tr>\n",
       "  <th>Skew:</th>          <td>-0.764</td> <th>  Prob(JB):          </th> <td>1.75e-05</td>\n",
       "</tr>\n",
       "<tr>\n",
       "  <th>Kurtosis:</th>      <td> 3.544</td> <th>  Cond. No.          </th> <td>    51.4</td>\n",
       "</tr>\n",
       "</table><br/><br/>Notes:<br/>[1] Standard Errors assume that the covariance matrix of the errors is correctly specified."
      ],
      "text/latex": [
       "\\begin{center}\n",
       "\\begin{tabular}{lclc}\n",
       "\\toprule\n",
       "\\textbf{Dep. Variable:}    &        y         & \\textbf{  R-squared:         } &     0.332   \\\\\n",
       "\\textbf{Model:}            &       OLS        & \\textbf{  Adj. R-squared:    } &     0.329   \\\\\n",
       "\\textbf{Method:}           &  Least Squares   & \\textbf{  F-statistic:       } &     98.42   \\\\\n",
       "\\textbf{Date:}             & Tue, 04 Feb 2025 & \\textbf{  Prob (F-statistic):} &  4.35e-19   \\\\\n",
       "\\textbf{Time:}             &     11:45:35     & \\textbf{  Log-Likelihood:    } &   -573.34   \\\\\n",
       "\\textbf{No. Observations:} &         200      & \\textbf{  AIC:               } &     1151.   \\\\\n",
       "\\textbf{Df Residuals:}     &         198      & \\textbf{  BIC:               } &     1157.   \\\\\n",
       "\\textbf{Df Model:}         &           1      & \\textbf{                     } &             \\\\\n",
       "\\textbf{Covariance Type:}  &    nonrobust     & \\textbf{                     } &             \\\\\n",
       "\\bottomrule\n",
       "\\end{tabular}\n",
       "\\begin{tabular}{lcccccc}\n",
       "               & \\textbf{coef} & \\textbf{std err} & \\textbf{t} & \\textbf{P$> |$t$|$} & \\textbf{[0.025} & \\textbf{0.975]}  \\\\\n",
       "\\midrule\n",
       "\\textbf{const} &       9.3116  &        0.563     &    16.542  &         0.000        &        8.202    &       10.422     \\\\\n",
       "\\textbf{x1}    &       0.2025  &        0.020     &     9.921  &         0.000        &        0.162    &        0.243     \\\\\n",
       "\\bottomrule\n",
       "\\end{tabular}\n",
       "\\begin{tabular}{lclc}\n",
       "\\textbf{Omnibus:}       & 19.358 & \\textbf{  Durbin-Watson:     } &    1.946  \\\\\n",
       "\\textbf{Prob(Omnibus):} &  0.000 & \\textbf{  Jarque-Bera (JB):  } &   21.910  \\\\\n",
       "\\textbf{Skew:}          & -0.764 & \\textbf{  Prob(JB):          } & 1.75e-05  \\\\\n",
       "\\textbf{Kurtosis:}      &  3.544 & \\textbf{  Cond. No.          } &     51.4  \\\\\n",
       "\\bottomrule\n",
       "\\end{tabular}\n",
       "%\\caption{OLS Regression Results}\n",
       "\\end{center}\n",
       "\n",
       "Notes: \\newline\n",
       " [1] Standard Errors assume that the covariance matrix of the errors is correctly specified."
      ],
      "text/plain": [
       "<class 'statsmodels.iolib.summary.Summary'>\n",
       "\"\"\"\n",
       "                            OLS Regression Results                            \n",
       "==============================================================================\n",
       "Dep. Variable:                      y   R-squared:                       0.332\n",
       "Model:                            OLS   Adj. R-squared:                  0.329\n",
       "Method:                 Least Squares   F-statistic:                     98.42\n",
       "Date:                Tue, 04 Feb 2025   Prob (F-statistic):           4.35e-19\n",
       "Time:                        11:45:35   Log-Likelihood:                -573.34\n",
       "No. Observations:                 200   AIC:                             1151.\n",
       "Df Residuals:                     198   BIC:                             1157.\n",
       "Df Model:                           1                                         \n",
       "Covariance Type:            nonrobust                                         \n",
       "==============================================================================\n",
       "                 coef    std err          t      P>|t|      [0.025      0.975]\n",
       "------------------------------------------------------------------------------\n",
       "const          9.3116      0.563     16.542      0.000       8.202      10.422\n",
       "x1             0.2025      0.020      9.921      0.000       0.162       0.243\n",
       "==============================================================================\n",
       "Omnibus:                       19.358   Durbin-Watson:                   1.946\n",
       "Prob(Omnibus):                  0.000   Jarque-Bera (JB):               21.910\n",
       "Skew:                          -0.764   Prob(JB):                     1.75e-05\n",
       "Kurtosis:                       3.544   Cond. No.                         51.4\n",
       "==============================================================================\n",
       "\n",
       "Notes:\n",
       "[1] Standard Errors assume that the covariance matrix of the errors is correctly specified.\n",
       "\"\"\""
      ]
     },
     "execution_count": 76,
     "metadata": {},
     "output_type": "execute_result"
    }
   ],
   "source": [
    "import statsmodels.api as sm\n",
    "xra = np.reshape(de[\"radio\"].values, [-1, 1])\n",
    "ones = np.ones([n, 1])\n",
    "X = np.hstack((ones, xra))\n",
    "ols = sm.OLS(y_columnRA, X)\n",
    "results = ols.fit()\n",
    "results.summary()"
   ]
  },
  {
   "cell_type": "code",
   "execution_count": 77,
   "id": "e9c9f7ea-0b4c-4f54-922e-6d1222da5da5",
   "metadata": {},
   "outputs": [
    {
     "data": {
      "text/html": [
       "<table class=\"simpletable\">\n",
       "<caption>OLS Regression Results</caption>\n",
       "<tr>\n",
       "  <th>Dep. Variable:</th>            <td>y</td>        <th>  R-squared:         </th> <td>   0.052</td>\n",
       "</tr>\n",
       "<tr>\n",
       "  <th>Model:</th>                   <td>OLS</td>       <th>  Adj. R-squared:    </th> <td>   0.047</td>\n",
       "</tr>\n",
       "<tr>\n",
       "  <th>Method:</th>             <td>Least Squares</td>  <th>  F-statistic:       </th> <td>   10.89</td>\n",
       "</tr>\n",
       "<tr>\n",
       "  <th>Date:</th>             <td>Tue, 04 Feb 2025</td> <th>  Prob (F-statistic):</th>  <td>0.00115</td>\n",
       "</tr>\n",
       "<tr>\n",
       "  <th>Time:</th>                 <td>11:46:46</td>     <th>  Log-Likelihood:    </th> <td> -608.34</td>\n",
       "</tr>\n",
       "<tr>\n",
       "  <th>No. Observations:</th>      <td>   200</td>      <th>  AIC:               </th> <td>   1221.</td>\n",
       "</tr>\n",
       "<tr>\n",
       "  <th>Df Residuals:</th>          <td>   198</td>      <th>  BIC:               </th> <td>   1227.</td>\n",
       "</tr>\n",
       "<tr>\n",
       "  <th>Df Model:</th>              <td>     1</td>      <th>                     </th>     <td> </td>   \n",
       "</tr>\n",
       "<tr>\n",
       "  <th>Covariance Type:</th>      <td>nonrobust</td>    <th>                     </th>     <td> </td>   \n",
       "</tr>\n",
       "</table>\n",
       "<table class=\"simpletable\">\n",
       "<tr>\n",
       "    <td></td>       <th>coef</th>     <th>std err</th>      <th>t</th>      <th>P>|t|</th>  <th>[0.025</th>    <th>0.975]</th>  \n",
       "</tr>\n",
       "<tr>\n",
       "  <th>const</th> <td>   12.3514</td> <td>    0.621</td> <td>   19.876</td> <td> 0.000</td> <td>   11.126</td> <td>   13.577</td>\n",
       "</tr>\n",
       "<tr>\n",
       "  <th>x1</th>    <td>    0.0547</td> <td>    0.017</td> <td>    3.300</td> <td> 0.001</td> <td>    0.022</td> <td>    0.087</td>\n",
       "</tr>\n",
       "</table>\n",
       "<table class=\"simpletable\">\n",
       "<tr>\n",
       "  <th>Omnibus:</th>       <td> 6.231</td> <th>  Durbin-Watson:     </th> <td>   1.983</td>\n",
       "</tr>\n",
       "<tr>\n",
       "  <th>Prob(Omnibus):</th> <td> 0.044</td> <th>  Jarque-Bera (JB):  </th> <td>   5.483</td>\n",
       "</tr>\n",
       "<tr>\n",
       "  <th>Skew:</th>          <td> 0.330</td> <th>  Prob(JB):          </th> <td>  0.0645</td>\n",
       "</tr>\n",
       "<tr>\n",
       "  <th>Kurtosis:</th>      <td> 2.527</td> <th>  Cond. No.          </th> <td>    64.7</td>\n",
       "</tr>\n",
       "</table><br/><br/>Notes:<br/>[1] Standard Errors assume that the covariance matrix of the errors is correctly specified."
      ],
      "text/latex": [
       "\\begin{center}\n",
       "\\begin{tabular}{lclc}\n",
       "\\toprule\n",
       "\\textbf{Dep. Variable:}    &        y         & \\textbf{  R-squared:         } &     0.052   \\\\\n",
       "\\textbf{Model:}            &       OLS        & \\textbf{  Adj. R-squared:    } &     0.047   \\\\\n",
       "\\textbf{Method:}           &  Least Squares   & \\textbf{  F-statistic:       } &     10.89   \\\\\n",
       "\\textbf{Date:}             & Tue, 04 Feb 2025 & \\textbf{  Prob (F-statistic):} &  0.00115    \\\\\n",
       "\\textbf{Time:}             &     11:46:46     & \\textbf{  Log-Likelihood:    } &   -608.34   \\\\\n",
       "\\textbf{No. Observations:} &         200      & \\textbf{  AIC:               } &     1221.   \\\\\n",
       "\\textbf{Df Residuals:}     &         198      & \\textbf{  BIC:               } &     1227.   \\\\\n",
       "\\textbf{Df Model:}         &           1      & \\textbf{                     } &             \\\\\n",
       "\\textbf{Covariance Type:}  &    nonrobust     & \\textbf{                     } &             \\\\\n",
       "\\bottomrule\n",
       "\\end{tabular}\n",
       "\\begin{tabular}{lcccccc}\n",
       "               & \\textbf{coef} & \\textbf{std err} & \\textbf{t} & \\textbf{P$> |$t$|$} & \\textbf{[0.025} & \\textbf{0.975]}  \\\\\n",
       "\\midrule\n",
       "\\textbf{const} &      12.3514  &        0.621     &    19.876  &         0.000        &       11.126    &       13.577     \\\\\n",
       "\\textbf{x1}    &       0.0547  &        0.017     &     3.300  &         0.001        &        0.022    &        0.087     \\\\\n",
       "\\bottomrule\n",
       "\\end{tabular}\n",
       "\\begin{tabular}{lclc}\n",
       "\\textbf{Omnibus:}       &  6.231 & \\textbf{  Durbin-Watson:     } &    1.983  \\\\\n",
       "\\textbf{Prob(Omnibus):} &  0.044 & \\textbf{  Jarque-Bera (JB):  } &    5.483  \\\\\n",
       "\\textbf{Skew:}          &  0.330 & \\textbf{  Prob(JB):          } &   0.0645  \\\\\n",
       "\\textbf{Kurtosis:}      &  2.527 & \\textbf{  Cond. No.          } &     64.7  \\\\\n",
       "\\bottomrule\n",
       "\\end{tabular}\n",
       "%\\caption{OLS Regression Results}\n",
       "\\end{center}\n",
       "\n",
       "Notes: \\newline\n",
       " [1] Standard Errors assume that the covariance matrix of the errors is correctly specified."
      ],
      "text/plain": [
       "<class 'statsmodels.iolib.summary.Summary'>\n",
       "\"\"\"\n",
       "                            OLS Regression Results                            \n",
       "==============================================================================\n",
       "Dep. Variable:                      y   R-squared:                       0.052\n",
       "Model:                            OLS   Adj. R-squared:                  0.047\n",
       "Method:                 Least Squares   F-statistic:                     10.89\n",
       "Date:                Tue, 04 Feb 2025   Prob (F-statistic):            0.00115\n",
       "Time:                        11:46:46   Log-Likelihood:                -608.34\n",
       "No. Observations:                 200   AIC:                             1221.\n",
       "Df Residuals:                     198   BIC:                             1227.\n",
       "Df Model:                           1                                         \n",
       "Covariance Type:            nonrobust                                         \n",
       "==============================================================================\n",
       "                 coef    std err          t      P>|t|      [0.025      0.975]\n",
       "------------------------------------------------------------------------------\n",
       "const         12.3514      0.621     19.876      0.000      11.126      13.577\n",
       "x1             0.0547      0.017      3.300      0.001       0.022       0.087\n",
       "==============================================================================\n",
       "Omnibus:                        6.231   Durbin-Watson:                   1.983\n",
       "Prob(Omnibus):                  0.044   Jarque-Bera (JB):                5.483\n",
       "Skew:                           0.330   Prob(JB):                       0.0645\n",
       "Kurtosis:                       2.527   Cond. No.                         64.7\n",
       "==============================================================================\n",
       "\n",
       "Notes:\n",
       "[1] Standard Errors assume that the covariance matrix of the errors is correctly specified.\n",
       "\"\"\""
      ]
     },
     "execution_count": 77,
     "metadata": {},
     "output_type": "execute_result"
    }
   ],
   "source": [
    "import statsmodels.api as sm\n",
    "xnew = np.reshape(de[\"newspaper\"].values, [-1, 1])\n",
    "ones = np.ones([n, 1])\n",
    "X = np.hstack((ones, xnew))\n",
    "ols = sm.OLS(y_columnRA, X)\n",
    "results = ols.fit()\n",
    "results.summary()"
   ]
  },
  {
   "cell_type": "markdown",
   "id": "df0f403f-b246-4706-a4c6-5f17be224048",
   "metadata": {},
   "source": [
    "¿Qué diferencias puedes observar entre los *p-values* de una regresión múltiple y los encontrados en las regresiones simples? ¿Por qué crees que existen estas diferencias?"
   ]
  },
  {
   "cell_type": "markdown",
   "id": "4f350d6e",
   "metadata": {},
   "source": [
    "En el caso de la regresión múltiple se observa que el p_value de \"newspaper\" es cercano a 1, eso nos dice que los resultados obtenidos o las aproximaciones que hicimos fueron pura coincidencia y que realmente no aporta información relevante al modelo. Esto llega a ser un poco contradictorio ya que cuando hicimos la regresión simple del newspaper nos salió que si tenia una gran significacia pero en la múltiple no, esto seguramente se debe a una correlación entre el newspaper y algún otro factor de la regresión múltiple. "
   ]
  },
  {
   "cell_type": "markdown",
   "id": "3898858d-5dda-42ae-b458-b5e7fcd2df76",
   "metadata": {},
   "source": [
    "## Referencia\n",
    "\n",
    "James, G., Witten, D., Hastie, T., Tibshirani, R.,, Taylor, J. (2023). An Introduction to Statistical Learning with Applications in Python. Cham: Springer. ISBN: 978-3-031-38746-3"
   ]
  },
  {
   "cell_type": "markdown",
   "id": "8a72b870-2174-4ea9-adac-260d6aa97067",
   "metadata": {},
   "source": [
    "## Addendum"
   ]
  },
  {
   "cell_type": "markdown",
   "id": "8dacc515-40ee-4ac8-a6f6-9e1a22b97313",
   "metadata": {},
   "source": [
    "Para calcular los *p-values* de los parámetros sin `statsmodels`:\n",
    "1. Calcular RSS\n",
    "2. Calcular RSE\n",
    "3. `var_beta = np.linalg.inv(X.T @ X) * rse**2` (X con columna de intercepto)\n",
    "4. `std_beta = np.sqrt(var_beta.diagonal())` El orden de los valores corresponde al orden de los factores en las columnas de la matriz $X$.\n",
    "5. Calcular *estadístico t*\n",
    "6. Calcular *p-value*"
   ]
  }
 ],
 "metadata": {
  "kernelspec": {
   "display_name": "Python 3 (ipykernel)",
   "language": "python",
   "name": "python3"
  },
  "language_info": {
   "codemirror_mode": {
    "name": "ipython",
    "version": 3
   },
   "file_extension": ".py",
   "mimetype": "text/x-python",
   "name": "python",
   "nbconvert_exporter": "python",
   "pygments_lexer": "ipython3",
   "version": "3.11.4"
  }
 },
 "nbformat": 4,
 "nbformat_minor": 5
}
