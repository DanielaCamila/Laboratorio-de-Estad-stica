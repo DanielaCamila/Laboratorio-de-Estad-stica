{
 "cells": [
  {
   "cell_type": "markdown",
   "id": "2e2753e4-9dc7-41d7-b080-d1abfbb16b28",
   "metadata": {},
   "source": [
    "# Laboratorio de regresión - 4"
   ]
  },
  {
   "cell_type": "markdown",
   "id": "c396ea70-b88c-4346-a14f-4aa7ca2e1b00",
   "metadata": {},
   "source": [
    "|                |   |\n",
    ":----------------|---|\n",
    "| **Nombre**     | Camial Daniela Zapata Castañeda  |\n",
    "| **Fecha**      | 11 de Febrero del 2025  |\n",
    "| **Expediente** | 745624  |"
   ]
  },
  {
   "cell_type": "markdown",
   "id": "77def53e-10bf-474e-acdf-728e07bef102",
   "metadata": {},
   "source": [
    "## Modelos penalizados"
   ]
  },
  {
   "cell_type": "markdown",
   "id": "d9bb791d-1843-4b4d-bd8b-69e6419511e8",
   "metadata": {},
   "source": [
    "Hasta ahora la función de costo que usamos para decidir qué tan bueno es nuestro modelo al momento de ajustar es:\n",
    "\n",
    "$$ \\text{RSS} = \\sum_{i=1}^n e_i^2 = \\sum_{i=1}^n (y_i - \\hat{y_i})^2 $$"
   ]
  },
  {
   "cell_type": "markdown",
   "id": "4e6b5e6b-abe9-4b75-b045-e4444de4fc35",
   "metadata": {},
   "source": [
    "Dado que los errores obtenidos son una combinación de sesgo y varianza, puede ser que se sesgue un parámetro para minimizar el error. Esto significa que el modelo puede decidir que la salida no sea una combinación de los factores, sino una fuerte predilección sobre uno de los factores solamente. "
   ]
  },
  {
   "cell_type": "markdown",
   "id": "84901f9e-5551-455a-a70c-c7e39d9e55ae",
   "metadata": {},
   "source": [
    "E.g. se quiere ajustar un modelo\n",
    "\n",
    "$$ \\hat{z} = \\hat{\\beta_0} + \\hat{\\beta_1} x + \\hat{\\beta_2} y $$"
   ]
  },
  {
   "cell_type": "markdown",
   "id": "d6f473fc-6364-4b15-9bd4-f21a94cae151",
   "metadata": {},
   "source": [
    "Se ajusta el modelo y se decide que la mejor decisión es $\\hat{\\beta_1} = 10000$ y $\\hat{\\beta_2}=50$. Considera limitaciones de problemas reales:\n",
    "- Quizás los parámetros son ajustes de maquinaria que se deben realizar para conseguir el mejor producto posible, y que $10000$ sea imposible de asignar.\n",
    "- Quizás los datos actuales están sesgados y sólo hacen parecer que uno de los factores importa más que el otro."
   ]
  },
  {
   "cell_type": "markdown",
   "id": "ff32fbaa-7965-42c1-9b73-3640414b77f2",
   "metadata": {},
   "source": [
    "Una de las formas en las que se puede mitigar este problema es penalizando a los parámetros del modelo, cambiando la función de costo:"
   ]
  },
  {
   "cell_type": "markdown",
   "id": "3fc78736-9d8e-4e8b-94f3-6647bdaeb0d1",
   "metadata": {},
   "source": [
    "$$ \\text{RSS}_{L2} = \\sum_{i=1}^n e_i^2  + \\lambda \\sum_{j=1}^p \\hat{\\beta_j}^2 $$"
   ]
  },
  {
   "cell_type": "markdown",
   "id": "2d942bf5-fb39-44a0-b612-4ec05ab99b71",
   "metadata": {},
   "source": [
    "El *L2* significa que se está agregando una penalización de segundo orden. Lo que hace esta penalización es que los factores ahora sólo tendrán permitido crecer si hay una reducción al menos proporcional en el error (sacrificamos sesgo, pero reducimos la varianza)."
   ]
  },
  {
   "cell_type": "markdown",
   "id": "45c0cafb-c152-48e4-a345-bb5348eb16c7",
   "metadata": {},
   "source": [
    "Asimismo, existe la penalización *L1*"
   ]
  },
  {
   "cell_type": "markdown",
   "id": "9d9f2d93-d151-47ed-834f-4a7e91e94286",
   "metadata": {},
   "source": [
    "$$ \\text{RSS}_{L1} = \\sum_{i=1}^n e_i^2  + \\lambda \\sum_{j=1}^p |\\hat{\\beta_j}| $$"
   ]
  },
  {
   "cell_type": "markdown",
   "id": "ea95f232-25ab-4b4c-99b3-075a18878d95",
   "metadata": {},
   "source": [
    "A las penalizaciones *L2* y *L1* se les conoce también como Ridge y Lasso, respectivamente."
   ]
  },
  {
   "cell_type": "markdown",
   "id": "e41dfafb-fd1f-475a-a718-dec1e3773326",
   "metadata": {},
   "source": [
    "Para realizar una regresión con penalización de Ridge o de Lasso usamos el objeto `Ridge(alpha=?)` o `Lasso(alpha=?)` en lugar de `LinearRegression()` de `sklearn`."
   ]
  },
  {
   "cell_type": "markdown",
   "id": "ce36cb41-005e-4cb0-b8ab-92e6ae6c4c19",
   "metadata": {},
   "source": [
    "Utiliza el dataset de publicidad (Advertising.csv) y realiza 3 regresiones múltiples:\n",
    "\n",
    "$$ \\text{sales} = \\beta_0 + \\beta_1 (\\text{TV}) + \\beta_2 (\\text{radio}) + \\beta_3 (\\text{newspaper}) + \\epsilon $$"
   ]
  },
  {
   "cell_type": "markdown",
   "id": "d92e4008-ada1-4e82-9756-23fd357821d2",
   "metadata": {},
   "source": [
    "1. Sin penalización\n",
    "2. Con penalización L2\n",
    "3. Con penalización L1\n",
    "\n",
    "Compara los resultados de los parámetros y sus *p-values*, y los $R^2$ resultantes."
   ]
  },
  {
   "cell_type": "code",
   "execution_count": 98,
   "id": "489b6c52-9025-4ca7-8e96-ca70c294cf7c",
   "metadata": {},
   "outputs": [],
   "source": [
    "import numpy as np\n",
    "import pandas as pd\n",
    "from sklearn.metrics import r2_score\n",
    "from sklearn.preprocessing import StandardScaler\n",
    "from sklearn.model_selection import train_test_split\n",
    "from sklearn.linear_model import LinearRegression\n",
    "from sklearn.linear_model import Ridge\n",
    "from sklearn.linear_model import Lasso\n",
    "from scipy import stats"
   ]
  },
  {
   "cell_type": "code",
   "execution_count": 9,
   "id": "6f859166-06cf-478e-89d7-e6e5c2cb5ff0",
   "metadata": {},
   "outputs": [],
   "source": [
    "data = pd.read_csv(\"Advertising.csv\")"
   ]
  },
  {
   "cell_type": "code",
   "execution_count": 10,
   "id": "53efacc6-e600-4705-b180-3d297324a244",
   "metadata": {},
   "outputs": [
    {
     "data": {
      "text/html": [
       "<div>\n",
       "<style scoped>\n",
       "    .dataframe tbody tr th:only-of-type {\n",
       "        vertical-align: middle;\n",
       "    }\n",
       "\n",
       "    .dataframe tbody tr th {\n",
       "        vertical-align: top;\n",
       "    }\n",
       "\n",
       "    .dataframe thead th {\n",
       "        text-align: right;\n",
       "    }\n",
       "</style>\n",
       "<table border=\"1\" class=\"dataframe\">\n",
       "  <thead>\n",
       "    <tr style=\"text-align: right;\">\n",
       "      <th></th>\n",
       "      <th>Unnamed: 0</th>\n",
       "      <th>TV</th>\n",
       "      <th>radio</th>\n",
       "      <th>newspaper</th>\n",
       "      <th>sales</th>\n",
       "    </tr>\n",
       "  </thead>\n",
       "  <tbody>\n",
       "    <tr>\n",
       "      <th>0</th>\n",
       "      <td>1</td>\n",
       "      <td>230.1</td>\n",
       "      <td>37.8</td>\n",
       "      <td>69.2</td>\n",
       "      <td>22.1</td>\n",
       "    </tr>\n",
       "    <tr>\n",
       "      <th>1</th>\n",
       "      <td>2</td>\n",
       "      <td>44.5</td>\n",
       "      <td>39.3</td>\n",
       "      <td>45.1</td>\n",
       "      <td>10.4</td>\n",
       "    </tr>\n",
       "    <tr>\n",
       "      <th>2</th>\n",
       "      <td>3</td>\n",
       "      <td>17.2</td>\n",
       "      <td>45.9</td>\n",
       "      <td>69.3</td>\n",
       "      <td>9.3</td>\n",
       "    </tr>\n",
       "  </tbody>\n",
       "</table>\n",
       "</div>"
      ],
      "text/plain": [
       "   Unnamed: 0     TV  radio  newspaper  sales\n",
       "0           1  230.1   37.8       69.2   22.1\n",
       "1           2   44.5   39.3       45.1   10.4\n",
       "2           3   17.2   45.9       69.3    9.3"
      ]
     },
     "execution_count": 10,
     "metadata": {},
     "output_type": "execute_result"
    }
   ],
   "source": [
    "data.head(3)"
   ]
  },
  {
   "cell_type": "code",
   "execution_count": 11,
   "id": "9a80a566",
   "metadata": {},
   "outputs": [],
   "source": [
    "data = data.drop(columns = [\"Unnamed: 0\"])"
   ]
  },
  {
   "cell_type": "code",
   "execution_count": 18,
   "id": "4cf3f5f9",
   "metadata": {},
   "outputs": [],
   "source": [
    "x = data.iloc[:, :-1].values"
   ]
  },
  {
   "cell_type": "code",
   "execution_count": 19,
   "id": "39499f7c",
   "metadata": {},
   "outputs": [],
   "source": [
    "y = np.reshape(data[\"sales\"].values, [-1, 1])"
   ]
  },
  {
   "cell_type": "code",
   "execution_count": 21,
   "id": "8bedcebf",
   "metadata": {},
   "outputs": [],
   "source": [
    "X_train, X_test, y_train, y_test = train_test_split(X, y, train_size = 0.4, random_state = 2)"
   ]
  },
  {
   "cell_type": "code",
   "execution_count": 69,
   "id": "f8b63f40",
   "metadata": {},
   "outputs": [],
   "source": [
    "n = len(X_test)"
   ]
  },
  {
   "cell_type": "code",
   "execution_count": 22,
   "id": "e178905c",
   "metadata": {},
   "outputs": [],
   "source": [
    "scaler = StandardScaler()"
   ]
  },
  {
   "cell_type": "code",
   "execution_count": 23,
   "id": "3dcf28c0",
   "metadata": {},
   "outputs": [
    {
     "data": {
      "text/html": [
       "<style>#sk-container-id-1 {color: black;}#sk-container-id-1 pre{padding: 0;}#sk-container-id-1 div.sk-toggleable {background-color: white;}#sk-container-id-1 label.sk-toggleable__label {cursor: pointer;display: block;width: 100%;margin-bottom: 0;padding: 0.3em;box-sizing: border-box;text-align: center;}#sk-container-id-1 label.sk-toggleable__label-arrow:before {content: \"▸\";float: left;margin-right: 0.25em;color: #696969;}#sk-container-id-1 label.sk-toggleable__label-arrow:hover:before {color: black;}#sk-container-id-1 div.sk-estimator:hover label.sk-toggleable__label-arrow:before {color: black;}#sk-container-id-1 div.sk-toggleable__content {max-height: 0;max-width: 0;overflow: hidden;text-align: left;background-color: #f0f8ff;}#sk-container-id-1 div.sk-toggleable__content pre {margin: 0.2em;color: black;border-radius: 0.25em;background-color: #f0f8ff;}#sk-container-id-1 input.sk-toggleable__control:checked~div.sk-toggleable__content {max-height: 200px;max-width: 100%;overflow: auto;}#sk-container-id-1 input.sk-toggleable__control:checked~label.sk-toggleable__label-arrow:before {content: \"▾\";}#sk-container-id-1 div.sk-estimator input.sk-toggleable__control:checked~label.sk-toggleable__label {background-color: #d4ebff;}#sk-container-id-1 div.sk-label input.sk-toggleable__control:checked~label.sk-toggleable__label {background-color: #d4ebff;}#sk-container-id-1 input.sk-hidden--visually {border: 0;clip: rect(1px 1px 1px 1px);clip: rect(1px, 1px, 1px, 1px);height: 1px;margin: -1px;overflow: hidden;padding: 0;position: absolute;width: 1px;}#sk-container-id-1 div.sk-estimator {font-family: monospace;background-color: #f0f8ff;border: 1px dotted black;border-radius: 0.25em;box-sizing: border-box;margin-bottom: 0.5em;}#sk-container-id-1 div.sk-estimator:hover {background-color: #d4ebff;}#sk-container-id-1 div.sk-parallel-item::after {content: \"\";width: 100%;border-bottom: 1px solid gray;flex-grow: 1;}#sk-container-id-1 div.sk-label:hover label.sk-toggleable__label {background-color: #d4ebff;}#sk-container-id-1 div.sk-serial::before {content: \"\";position: absolute;border-left: 1px solid gray;box-sizing: border-box;top: 0;bottom: 0;left: 50%;z-index: 0;}#sk-container-id-1 div.sk-serial {display: flex;flex-direction: column;align-items: center;background-color: white;padding-right: 0.2em;padding-left: 0.2em;position: relative;}#sk-container-id-1 div.sk-item {position: relative;z-index: 1;}#sk-container-id-1 div.sk-parallel {display: flex;align-items: stretch;justify-content: center;background-color: white;position: relative;}#sk-container-id-1 div.sk-item::before, #sk-container-id-1 div.sk-parallel-item::before {content: \"\";position: absolute;border-left: 1px solid gray;box-sizing: border-box;top: 0;bottom: 0;left: 50%;z-index: -1;}#sk-container-id-1 div.sk-parallel-item {display: flex;flex-direction: column;z-index: 1;position: relative;background-color: white;}#sk-container-id-1 div.sk-parallel-item:first-child::after {align-self: flex-end;width: 50%;}#sk-container-id-1 div.sk-parallel-item:last-child::after {align-self: flex-start;width: 50%;}#sk-container-id-1 div.sk-parallel-item:only-child::after {width: 0;}#sk-container-id-1 div.sk-dashed-wrapped {border: 1px dashed gray;margin: 0 0.4em 0.5em 0.4em;box-sizing: border-box;padding-bottom: 0.4em;background-color: white;}#sk-container-id-1 div.sk-label label {font-family: monospace;font-weight: bold;display: inline-block;line-height: 1.2em;}#sk-container-id-1 div.sk-label-container {text-align: center;}#sk-container-id-1 div.sk-container {/* jupyter's `normalize.less` sets `[hidden] { display: none; }` but bootstrap.min.css set `[hidden] { display: none !important; }` so we also need the `!important` here to be able to override the default hidden behavior on the sphinx rendered scikit-learn.org. See: https://github.com/scikit-learn/scikit-learn/issues/21755 */display: inline-block !important;position: relative;}#sk-container-id-1 div.sk-text-repr-fallback {display: none;}</style><div id=\"sk-container-id-1\" class=\"sk-top-container\"><div class=\"sk-text-repr-fallback\"><pre>StandardScaler()</pre><b>In a Jupyter environment, please rerun this cell to show the HTML representation or trust the notebook. <br />On GitHub, the HTML representation is unable to render, please try loading this page with nbviewer.org.</b></div><div class=\"sk-container\" hidden><div class=\"sk-item\"><div class=\"sk-estimator sk-toggleable\"><input class=\"sk-toggleable__control sk-hidden--visually\" id=\"sk-estimator-id-1\" type=\"checkbox\" checked><label for=\"sk-estimator-id-1\" class=\"sk-toggleable__label sk-toggleable__label-arrow\">StandardScaler</label><div class=\"sk-toggleable__content\"><pre>StandardScaler()</pre></div></div></div></div></div>"
      ],
      "text/plain": [
       "StandardScaler()"
      ]
     },
     "execution_count": 23,
     "metadata": {},
     "output_type": "execute_result"
    }
   ],
   "source": [
    "scaler.fit(X_train)"
   ]
  },
  {
   "cell_type": "code",
   "execution_count": 108,
   "id": "f525c127",
   "metadata": {},
   "outputs": [],
   "source": [
    "X_std_test = scaler.transform(X_test)"
   ]
  },
  {
   "cell_type": "markdown",
   "id": "fadf7db0",
   "metadata": {},
   "source": [
    "### Sin penalización "
   ]
  },
  {
   "cell_type": "code",
   "execution_count": 38,
   "id": "af6d72c8",
   "metadata": {},
   "outputs": [],
   "source": [
    "model = LinearRegression()"
   ]
  },
  {
   "cell_type": "code",
   "execution_count": 39,
   "id": "e821bae4",
   "metadata": {},
   "outputs": [],
   "source": [
    "model = model.fit(X_std_train, y_train)"
   ]
  },
  {
   "cell_type": "code",
   "execution_count": 40,
   "id": "24e14097",
   "metadata": {},
   "outputs": [],
   "source": [
    "y_pred_test = model.predict(X_std_test)"
   ]
  },
  {
   "cell_type": "markdown",
   "id": "8c18727b",
   "metadata": {},
   "source": [
    "#### Coeficientes"
   ]
  },
  {
   "cell_type": "code",
   "execution_count": 101,
   "id": "c67c44d7",
   "metadata": {},
   "outputs": [
    {
     "data": {
      "text/plain": [
       "(array([13.78875]), array([[ 3.89613949,  2.70744689, -0.00495557]]))"
      ]
     },
     "execution_count": 101,
     "metadata": {},
     "output_type": "execute_result"
    }
   ],
   "source": [
    "intercepto = model.intercept_\n",
    "betas = model.coef_\n",
    "intercepto, betas"
   ]
  },
  {
   "cell_type": "markdown",
   "id": "4997c5f6",
   "metadata": {},
   "source": [
    "#### r_2"
   ]
  },
  {
   "cell_type": "code",
   "execution_count": 102,
   "id": "d3073fb6",
   "metadata": {},
   "outputs": [
    {
     "data": {
      "text/plain": [
       "0.8668365598374413"
      ]
     },
     "execution_count": 102,
     "metadata": {},
     "output_type": "execute_result"
    }
   ],
   "source": [
    "r2_test = r2_score(y_test, y_pred_test)\n",
    "r2_test"
   ]
  },
  {
   "cell_type": "markdown",
   "id": "edf44ac2",
   "metadata": {},
   "source": [
    "####  P_values"
   ]
  },
  {
   "cell_type": "code",
   "execution_count": 62,
   "id": "1a5c1f32",
   "metadata": {},
   "outputs": [],
   "source": [
    "p = 4"
   ]
  },
  {
   "cell_type": "code",
   "execution_count": 109,
   "id": "e1b20698",
   "metadata": {},
   "outputs": [],
   "source": [
    "ones = np.ones([n, 1])\n",
    "X_std_test_1 = np.hstack((ones, X_std_test))"
   ]
  },
  {
   "cell_type": "code",
   "execution_count": 111,
   "id": "dfbe0f24",
   "metadata": {},
   "outputs": [
    {
     "name": "stdout",
     "output_type": "stream",
     "text": [
      "[0.17702478 0.16439446 0.19198209 0.17450881]\n"
     ]
    }
   ],
   "source": [
    "#Error Estadar de los coeficientes para la regresión sin penalización\n",
    "\n",
    "RSS = np.sum((y_pred_test - y_test)**2)\n",
    "sig = RSS/(n-p)\n",
    "\n",
    "\n",
    "X_inv = np.linalg.inv(X_std_test_1.T @ X_std_test_1)\n",
    "std_error_Sp = np.sqrt(np.diagonal(sig * X_inv))\n",
    "\n",
    "print(std_error_Sp)"
   ]
  },
  {
   "cell_type": "code",
   "execution_count": 94,
   "id": "9c108d0b",
   "metadata": {},
   "outputs": [
    {
     "name": "stdout",
     "output_type": "stream",
     "text": [
      "[32.772371] 9.609281418517819 6.179162032000547 -0.011862744608324375\n"
     ]
    }
   ],
   "source": [
    "# valores t-estadístico \n",
    "\n",
    "t0 = intercepto/np.sqrt(std_error_Sp[0])\n",
    "t1 = betas[0, 0]/np.sqrt(std_error_Sp[1])\n",
    "t2 = betas[0, 1]/np.sqrt(std_error_Sp[2])\n",
    "t3 = betas[0, 2]/np.sqrt(std_error_Sp[3])\n",
    "\n",
    "print(t0, t1, t2, t3)"
   ]
  },
  {
   "cell_type": "code",
   "execution_count": 100,
   "id": "d404a804",
   "metadata": {},
   "outputs": [
    {
     "name": "stdout",
     "output_type": "stream",
     "text": [
      "[0.] 2.220446049250313e-16 1.0056493637833341e-08 0.9905556763611092\n"
     ]
    }
   ],
   "source": [
    "# Sacamos los p_values\n",
    "\n",
    "pvalue_b0 = 2*(1 - stats.t.cdf(np.abs(t0), n-p))\n",
    "pvalue_b1 = 2*(1 - stats.t.cdf(np.abs(t1), n-p))\n",
    "pvalue_b2 = 2*(1 - stats.t.cdf(np.abs(t2), n-p))\n",
    "pvalue_b3 = 2*(1 - stats.t.cdf(np.abs(t3), n-p))\n",
    "\n",
    "print(pvalue_b0, pvalue_b1, pvalue_b2, pvalue_b3)"
   ]
  },
  {
   "cell_type": "markdown",
   "id": "1176eb03",
   "metadata": {},
   "source": [
    "### Con penalización Ridge"
   ]
  },
  {
   "cell_type": "code",
   "execution_count": 104,
   "id": "f292ccff",
   "metadata": {},
   "outputs": [],
   "source": [
    "Ridge = Ridge(alpha = 0.5)"
   ]
  },
  {
   "cell_type": "code",
   "execution_count": 105,
   "id": "3b1f40ae",
   "metadata": {},
   "outputs": [],
   "source": [
    "Ridge = Ridge.fit(X_std_train, y_train)"
   ]
  },
  {
   "cell_type": "code",
   "execution_count": 112,
   "id": "b5205ebe",
   "metadata": {},
   "outputs": [],
   "source": [
    "y_pred_test_Ridge = Ridge.predict(X_std_test)"
   ]
  },
  {
   "cell_type": "markdown",
   "id": "2643563c",
   "metadata": {},
   "source": [
    "#### Coeficientes"
   ]
  },
  {
   "cell_type": "code",
   "execution_count": 135,
   "id": "3adaaeb2",
   "metadata": {},
   "outputs": [
    {
     "data": {
      "text/plain": [
       "(array([13.78875]), array([[3.8720266 , 2.69148142, 0.00614817]]))"
      ]
     },
     "execution_count": 135,
     "metadata": {},
     "output_type": "execute_result"
    }
   ],
   "source": [
    "intercepto_Ridge = Ridge.intercept_\n",
    "betas_Ridge = Ridge.coef_\n",
    "\n",
    "intercepto_Ridge, betas_Ridge"
   ]
  },
  {
   "cell_type": "markdown",
   "id": "f903a7c0",
   "metadata": {},
   "source": [
    "#### r_2"
   ]
  },
  {
   "cell_type": "code",
   "execution_count": 132,
   "id": "71f3473a",
   "metadata": {},
   "outputs": [
    {
     "data": {
      "text/plain": [
       "0.8671426653788139"
      ]
     },
     "execution_count": 132,
     "metadata": {},
     "output_type": "execute_result"
    }
   ],
   "source": [
    "r2_test_Ridge = r2_score(y_test, y_pred_test_Ridge)\n",
    "r2_test_Ridge"
   ]
  },
  {
   "cell_type": "markdown",
   "id": "0d79d514",
   "metadata": {},
   "source": [
    "#### P_values"
   ]
  },
  {
   "cell_type": "code",
   "execution_count": 122,
   "id": "ccef52f2",
   "metadata": {},
   "outputs": [
    {
     "name": "stdout",
     "output_type": "stream",
     "text": [
      "[0.1768212  0.1642054  0.19176131 0.17430812]\n",
      "[32.79123174] 9.555306332736055 6.146259479775914 0.014726083214920806\n",
      "[0.] 2.220446049250313e-16 1.1756593476519583e-08 0.9882762277714625\n"
     ]
    }
   ],
   "source": [
    "#Error Estadar de los coeficientes para la regresión sin penalización\n",
    "\n",
    "RSS_Ridge = np.sum((y_pred_test_Ridge - y_test)**2)\n",
    "sig_Ridge = RSS_Ridge/(n-p)\n",
    "\n",
    "\n",
    "X_inv = np.linalg.inv(X_std_test_1.T @ X_std_test_1)\n",
    "std_error_Sp_Ridge = np.sqrt(np.diagonal(sig_Ridge * X_inv))\n",
    "\n",
    "print(std_error_Sp_Ridge)\n",
    "\n",
    "# valores t-estadístico \n",
    "\n",
    "t0_Ridge = interpecto_Ridge/np.sqrt(std_error_Sp_Ridge[0])\n",
    "t1_Ridge = betas_Ridge[0, 0]/np.sqrt(std_error_Sp_Ridge[1])\n",
    "t2_Ridge = betas_Ridge[0, 1]/np.sqrt(std_error_Sp_Ridge[2])\n",
    "t3_Ridge = betas_Ridge[0, 2]/np.sqrt(std_error_Sp_Ridge[3])\n",
    "\n",
    "print(t0_Ridge, t1_Ridge, t2_Ridge, t3_Ridge)\n",
    "\n",
    "# Sacamos los p_values\n",
    "\n",
    "pvalue_b0_Ridge = 2*(1 - stats.t.cdf(np.abs(t0_Ridge), n-p))\n",
    "pvalue_b1_Ridge = 2*(1 - stats.t.cdf(np.abs(t1_Ridge), n-p))\n",
    "pvalue_b2_Ridge = 2*(1 - stats.t.cdf(np.abs(t2_Ridge), n-p))\n",
    "pvalue_b3_Ridge = 2*(1 - stats.t.cdf(np.abs(t3_Ridge), n-p))\n",
    "\n",
    "print(pvalue_b0_Ridge, pvalue_b1_Ridge, pvalue_b2_Ridge, pvalue_b3_Ridge)"
   ]
  },
  {
   "cell_type": "markdown",
   "id": "c3934642",
   "metadata": {},
   "source": [
    "### Con penalización Lasso"
   ]
  },
  {
   "cell_type": "code",
   "execution_count": 124,
   "id": "88f85ccb",
   "metadata": {},
   "outputs": [],
   "source": [
    "Lasso = Lasso(alpha = 0.5)"
   ]
  },
  {
   "cell_type": "code",
   "execution_count": 125,
   "id": "a0c66cf9",
   "metadata": {},
   "outputs": [],
   "source": [
    "Lasso = Lasso.fit(X_std_train, y_train)"
   ]
  },
  {
   "cell_type": "code",
   "execution_count": 126,
   "id": "a52df4df",
   "metadata": {},
   "outputs": [],
   "source": [
    "y_pred_test_Lasso = Lasso.predict(X_std_test)"
   ]
  },
  {
   "cell_type": "markdown",
   "id": "7aa9305c",
   "metadata": {},
   "source": [
    "#### Coeficientes"
   ]
  },
  {
   "cell_type": "code",
   "execution_count": 127,
   "id": "5c7fdd30",
   "metadata": {},
   "outputs": [
    {
     "data": {
      "text/plain": [
       "(array([13.78875]), array([3.47183185, 2.28275329, 0.        ]))"
      ]
     },
     "execution_count": 127,
     "metadata": {},
     "output_type": "execute_result"
    }
   ],
   "source": [
    "intercepto_Lasso = Lasso.intercept_\n",
    "betas_Lasso = Lasso.coef_\n",
    "\n",
    "intercepto_Lasso, betas_Lasso"
   ]
  },
  {
   "cell_type": "markdown",
   "id": "97c025e2",
   "metadata": {},
   "source": [
    "#### r_2"
   ]
  },
  {
   "cell_type": "code",
   "execution_count": 128,
   "id": "43bf465c",
   "metadata": {},
   "outputs": [
    {
     "data": {
      "text/plain": [
       "0.8567155028190123"
      ]
     },
     "execution_count": 128,
     "metadata": {},
     "output_type": "execute_result"
    }
   ],
   "source": [
    "r2_test_Lasso = r2_score(y_test, y_pred_test_Lasso)\n",
    "r2_test_Lasso"
   ]
  },
  {
   "cell_type": "markdown",
   "id": "19871013",
   "metadata": {},
   "source": [
    "#### P_values"
   ]
  },
  {
   "cell_type": "code",
   "execution_count": 131,
   "id": "0c78e924",
   "metadata": {},
   "outputs": [
    {
     "name": "stdout",
     "output_type": "stream",
     "text": [
      "[6.91954982 6.42585528 7.50420167 6.8212054 ]\n",
      "[5.24186676] 1.3695983156465663 0.8333102599062119 0.0\n",
      "[7.3020393e-07] 0.17348080827747037 0.4063971745549173 1.0\n"
     ]
    }
   ],
   "source": [
    "#Error Estadar de los coeficientes para la regresión sin penalización\n",
    "\n",
    "RSS_Lasso = np.sum((y_pred_test_Lasso - y_test)**2)\n",
    "sig_Lasso = RSS_Lasso/(n-p)\n",
    "\n",
    "\n",
    "X_inv = np.linalg.inv(X_std_test_1.T @ X_std_test_1)\n",
    "std_error_Sp_Lasso = np.sqrt(np.diagonal(sig_Lasso * X_inv))\n",
    "\n",
    "print(std_error_Sp_Lasso)\n",
    "\n",
    "# valores t-estadístico \n",
    "\n",
    "t0_Lasso = intercepto_Lasso/np.sqrt(std_error_Sp_Lasso[0])\n",
    "t1_Lasso = betas_Lasso[0]/np.sqrt(std_error_Sp_Lasso[1])\n",
    "t2_Lasso = betas_Lasso[1]/np.sqrt(std_error_Sp_Lasso[2])\n",
    "t3_Lasso = betas_Lasso[2]/np.sqrt(std_error_Sp_Lasso[3])\n",
    "\n",
    "print(t0_Lasso, t1_Lasso, t2_Lasso, t3_Lasso)\n",
    "\n",
    "# Sacamos los p_values\n",
    "\n",
    "pvalue_b0_Lasso = 2*(1 - stats.t.cdf(np.abs(t0_Lasso), n-p))\n",
    "pvalue_b1_Lasso = 2*(1 - stats.t.cdf(np.abs(t1_Lasso), n-p))\n",
    "pvalue_b2_Lasso = 2*(1 - stats.t.cdf(np.abs(t2_Lasso), n-p))\n",
    "pvalue_b3_Lasso = 2*(1 - stats.t.cdf(np.abs(t3_Lasso), n-p))\n",
    "\n",
    "print(pvalue_b0_Lasso, pvalue_b1_Lasso, pvalue_b2_Lasso, pvalue_b3_Lasso)"
   ]
  },
  {
   "cell_type": "markdown",
   "id": "def85dc8",
   "metadata": {},
   "source": [
    "********************************************"
   ]
  },
  {
   "cell_type": "markdown",
   "id": "2f4ae45d",
   "metadata": {},
   "source": [
    "#### Comparación de datos "
   ]
  },
  {
   "cell_type": "code",
   "execution_count": 138,
   "id": "c52f1078",
   "metadata": {},
   "outputs": [
    {
     "data": {
      "text/html": [
       "<div>\n",
       "<style scoped>\n",
       "    .dataframe tbody tr th:only-of-type {\n",
       "        vertical-align: middle;\n",
       "    }\n",
       "\n",
       "    .dataframe tbody tr th {\n",
       "        vertical-align: top;\n",
       "    }\n",
       "\n",
       "    .dataframe thead th {\n",
       "        text-align: right;\n",
       "    }\n",
       "</style>\n",
       "<table border=\"1\" class=\"dataframe\">\n",
       "  <thead>\n",
       "    <tr style=\"text-align: right;\">\n",
       "      <th></th>\n",
       "      <th>r_2</th>\n",
       "      <th>Intercepto</th>\n",
       "      <th>p_value</th>\n",
       "      <th>TV</th>\n",
       "      <th>p_valueTV</th>\n",
       "      <th>radio</th>\n",
       "      <th>p_valueRa</th>\n",
       "      <th>NewsPaper</th>\n",
       "      <th>p_valueNews</th>\n",
       "    </tr>\n",
       "  </thead>\n",
       "  <tbody>\n",
       "    <tr>\n",
       "      <th>Regresión</th>\n",
       "      <td>0.867143</td>\n",
       "      <td>[13.788749999999999]</td>\n",
       "      <td>[0.0]</td>\n",
       "      <td>3.896139</td>\n",
       "      <td>0.0</td>\n",
       "      <td>2.707447</td>\n",
       "      <td>0.0</td>\n",
       "      <td>-0.004956</td>\n",
       "      <td>0.990556</td>\n",
       "    </tr>\n",
       "    <tr>\n",
       "      <th>Ridge</th>\n",
       "      <td>0.867143</td>\n",
       "      <td>[13.788749999999999]</td>\n",
       "      <td>[0.0]</td>\n",
       "      <td>3.872027</td>\n",
       "      <td>0.0</td>\n",
       "      <td>2.691481</td>\n",
       "      <td>0.0</td>\n",
       "      <td>0.006148</td>\n",
       "      <td>0.988276</td>\n",
       "    </tr>\n",
       "    <tr>\n",
       "      <th>Lasso</th>\n",
       "      <td>0.856716</td>\n",
       "      <td>[13.788749999999999]</td>\n",
       "      <td>[7.302039304324381e-07]</td>\n",
       "      <td>3.471832</td>\n",
       "      <td>0.173481</td>\n",
       "      <td>2.282753</td>\n",
       "      <td>0.406397</td>\n",
       "      <td>0.0</td>\n",
       "      <td>1.0</td>\n",
       "    </tr>\n",
       "  </tbody>\n",
       "</table>\n",
       "</div>"
      ],
      "text/plain": [
       "                r_2            Intercepto                  p_value        TV  \\\n",
       "Regresión  0.867143  [13.788749999999999]                    [0.0]  3.896139   \n",
       "Ridge      0.867143  [13.788749999999999]                    [0.0]  3.872027   \n",
       "Lasso      0.856716  [13.788749999999999]  [7.302039304324381e-07]  3.471832   \n",
       "\n",
       "          p_valueTV     radio p_valueRa NewsPaper p_valueNews  \n",
       "Regresión       0.0  2.707447       0.0 -0.004956    0.990556  \n",
       "Ridge           0.0  2.691481       0.0  0.006148    0.988276  \n",
       "Lasso      0.173481  2.282753  0.406397       0.0         1.0  "
      ]
     },
     "execution_count": 138,
     "metadata": {},
     "output_type": "execute_result"
    }
   ],
   "source": [
    "data = {\n",
    "    \"Regresión\": [r2_test, intercepto, pvalue_b0, betas[0, 0], pvalue_b1, betas[0, 1], pvalue_b2, betas[0, 2], pvalue_b3],\n",
    "    \"Ridge\": [r2_test_Ridge, intercepto_Ridge, pvalue_b0_Ridge, betas_Ridge[0, 0], pvalue_b1_Ridge, betas_Ridge[0, 1], pvalue_b2_Ridge, betas_Ridge[0, 2], pvalue_b3_Ridge],\n",
    "    \"Lasso\": [r2_test_Lasso, intercepto_Lasso, pvalue_b0_Lasso, betas_Lasso[0], pvalue_b1_Lasso, betas_Lasso[1], pvalue_b2_Lasso, betas_Lasso[2], pvalue_b3_Lasso]\n",
    "}\n",
    "\n",
    "# Convertirlo en DataFrame y trasponerlo para cambiar filas y columnas\n",
    "df = pd.DataFrame(data, index=[\"r_2\", \"Intercepto\", \"p_value\", \"TV\", \"p_valueTV\", \"radio\", \"p_valueRa\", \"NewsPaper\", \"p_valueNews\"]).T\n",
    "\n",
    "df"
   ]
  },
  {
   "cell_type": "markdown",
   "id": "c2ce1d75",
   "metadata": {},
   "source": [
    "Vemos como el r_2 es mayor en la regresión normal, lo cual ya se esperaba dado que estas sacrificando un mejor r_2 al tratar de nivelar los valores de beta con la penalización. los interceptos son los mismos. De ahí en más todos los valores son relativamente similares y solo es importante señalar que el modelo de Lasso vuelve cero el beta de Newspaper ya que no aporta información relevante al modelo.  "
   ]
  }
 ],
 "metadata": {
  "kernelspec": {
   "display_name": "Python 3 (ipykernel)",
   "language": "python",
   "name": "python3"
  },
  "language_info": {
   "codemirror_mode": {
    "name": "ipython",
    "version": 3
   },
   "file_extension": ".py",
   "mimetype": "text/x-python",
   "name": "python",
   "nbconvert_exporter": "python",
   "pygments_lexer": "ipython3",
   "version": "3.11.4"
  }
 },
 "nbformat": 4,
 "nbformat_minor": 5
}
