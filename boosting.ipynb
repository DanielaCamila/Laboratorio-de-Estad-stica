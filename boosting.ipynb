{
 "cells": [
  {
   "cell_type": "code",
   "execution_count": 2,
   "id": "dbd00524-7e99-438c-bd5d-0a6b7f6b9b87",
   "metadata": {},
   "outputs": [
    {
     "name": "stdout",
     "output_type": "stream",
     "text": [
      "Requirement already satisfied: xgboost in c:\\users\\52332\\anaconda3\\lib\\site-packages (2.1.1)\n",
      "Requirement already satisfied: numpy in c:\\users\\52332\\anaconda3\\lib\\site-packages (from xgboost) (1.26.3)\n",
      "Requirement already satisfied: scipy in c:\\users\\52332\\anaconda3\\lib\\site-packages (from xgboost) (1.15.1)\n"
     ]
    }
   ],
   "source": [
    "!pip install xgboost"
   ]
  },
  {
   "cell_type": "code",
   "execution_count": 34,
   "id": "fb5bbf37-bba0-4a4a-b112-a4ee85aa35f4",
   "metadata": {},
   "outputs": [],
   "source": [
    "import pandas as pd\n",
    "import numpy as np\n",
    "from xgboost import XGBRegressor\n",
    "from sklearn.model_selection import train_test_split\n",
    "from sklearn.tree import DecisionTreeRegressor\n",
    "from sklearn.metrics import r2_score\n",
    "import matplotlib.pyplot as plt"
   ]
  },
  {
   "cell_type": "code",
   "execution_count": 6,
   "id": "3fa22055-e515-4fdb-97df-69f664520508",
   "metadata": {},
   "outputs": [
    {
     "data": {
      "text/html": [
       "<div>\n",
       "<style scoped>\n",
       "    .dataframe tbody tr th:only-of-type {\n",
       "        vertical-align: middle;\n",
       "    }\n",
       "\n",
       "    .dataframe tbody tr th {\n",
       "        vertical-align: top;\n",
       "    }\n",
       "\n",
       "    .dataframe thead th {\n",
       "        text-align: right;\n",
       "    }\n",
       "</style>\n",
       "<table border=\"1\" class=\"dataframe\">\n",
       "  <thead>\n",
       "    <tr style=\"text-align: right;\">\n",
       "      <th></th>\n",
       "      <th>Unnamed: 0</th>\n",
       "      <th>TV</th>\n",
       "      <th>radio</th>\n",
       "      <th>newspaper</th>\n",
       "      <th>sales</th>\n",
       "    </tr>\n",
       "  </thead>\n",
       "  <tbody>\n",
       "    <tr>\n",
       "      <th>0</th>\n",
       "      <td>1</td>\n",
       "      <td>230.1</td>\n",
       "      <td>37.8</td>\n",
       "      <td>69.2</td>\n",
       "      <td>22.1</td>\n",
       "    </tr>\n",
       "    <tr>\n",
       "      <th>1</th>\n",
       "      <td>2</td>\n",
       "      <td>44.5</td>\n",
       "      <td>39.3</td>\n",
       "      <td>45.1</td>\n",
       "      <td>10.4</td>\n",
       "    </tr>\n",
       "    <tr>\n",
       "      <th>2</th>\n",
       "      <td>3</td>\n",
       "      <td>17.2</td>\n",
       "      <td>45.9</td>\n",
       "      <td>69.3</td>\n",
       "      <td>9.3</td>\n",
       "    </tr>\n",
       "  </tbody>\n",
       "</table>\n",
       "</div>"
      ],
      "text/plain": [
       "   Unnamed: 0     TV  radio  newspaper  sales\n",
       "0           1  230.1   37.8       69.2   22.1\n",
       "1           2   44.5   39.3       45.1   10.4\n",
       "2           3   17.2   45.9       69.3    9.3"
      ]
     },
     "execution_count": 6,
     "metadata": {},
     "output_type": "execute_result"
    }
   ],
   "source": [
    "data = pd.read_csv(\"Advertising.csv\")\n",
    "data.head(3)"
   ]
  },
  {
   "cell_type": "code",
   "execution_count": 27,
   "id": "edcd904b-b97b-488f-b96b-0f5b43cfa755",
   "metadata": {},
   "outputs": [],
   "source": [
    "x = data.drop(columns = [\"Unnamed: 0\", \"sales\"])\n",
    "y = data[\"sales\"]\n",
    "\n",
    "x[\"TV*radio\"] = x[\"radio\"]*x[\"TV\"]\n",
    "x[\"TV*newspaper\"] = x[\"TV\"]*x[\"newspaper\"]\n",
    "x[\"newspaper*radio\"] = x[\"newspaper\"]*x[\"radio\"]\n",
    "\n",
    "X_train, X_test, y_train, y_test = train_test_split(x, y, train_size = 0.5, random_state=42)\n",
    "\n",
    "model = XGBRegressor(random_state = 42, n_estimators = 10, max_depth = 10, max_leaves = 10)"
   ]
  },
  {
   "cell_type": "code",
   "execution_count": 28,
   "id": "7aeebd52-9537-4c4f-a3c8-e8b6a005ea28",
   "metadata": {},
   "outputs": [
    {
     "data": {
      "text/plain": [
       "(0.9822521580151204, 0.9943305753975434)"
      ]
     },
     "execution_count": 28,
     "metadata": {},
     "output_type": "execute_result"
    }
   ],
   "source": [
    "XGBR = model.fit(X_train, y_train)\n",
    "\n",
    "y_pred_test = XGBR.predict(X_test)\n",
    "\n",
    "r2_test = r2_score(y_test, y_pred_test)\n",
    "\n",
    "y_pred_train = XGBR.predict(X_train)\n",
    "\n",
    "r2_train = r2_score(y_train, y_pred_train)\n",
    "r2_test, r2_train"
   ]
  },
  {
   "cell_type": "code",
   "execution_count": 29,
   "id": "a1e1828b-9760-403b-aef0-e252a8e697d8",
   "metadata": {},
   "outputs": [
    {
     "name": "stdout",
     "output_type": "stream",
     "text": [
      "Fitting 3 folds for each of 1 candidates, totalling 3 fits\n",
      "Fitting 3 folds for each of 1 candidates, totalling 3 fits\n",
      "Fitting 3 folds for each of 1 candidates, totalling 3 fits\n",
      "Fitting 3 folds for each of 1 candidates, totalling 3 fits\n",
      "Fitting 3 folds for each of 1 candidates, totalling 3 fits\n",
      "Fitting 3 folds for each of 1 candidates, totalling 3 fits\n",
      "Fitting 3 folds for each of 1 candidates, totalling 3 fits\n",
      "Fitting 3 folds for each of 1 candidates, totalling 3 fits\n",
      "Fitting 3 folds for each of 1 candidates, totalling 3 fits\n",
      "Fitting 3 folds for each of 1 candidates, totalling 3 fits\n",
      "Fitting 3 folds for each of 1 candidates, totalling 3 fits\n",
      "Fitting 3 folds for each of 1 candidates, totalling 3 fits\n",
      "Fitting 3 folds for each of 1 candidates, totalling 3 fits\n",
      "Fitting 3 folds for each of 1 candidates, totalling 3 fits\n",
      "Fitting 3 folds for each of 1 candidates, totalling 3 fits\n",
      "Fitting 3 folds for each of 1 candidates, totalling 3 fits\n",
      "Fitting 3 folds for each of 1 candidates, totalling 3 fits\n",
      "Fitting 3 folds for each of 1 candidates, totalling 3 fits\n",
      "Fitting 3 folds for each of 1 candidates, totalling 3 fits\n",
      "Fitting 3 folds for each of 1 candidates, totalling 3 fits\n",
      "Fitting 3 folds for each of 1 candidates, totalling 3 fits\n",
      "Fitting 3 folds for each of 1 candidates, totalling 3 fits\n",
      "Fitting 3 folds for each of 1 candidates, totalling 3 fits\n",
      "Fitting 3 folds for each of 1 candidates, totalling 3 fits\n",
      "Fitting 3 folds for each of 1 candidates, totalling 3 fits\n",
      "Fitting 3 folds for each of 1 candidates, totalling 3 fits\n",
      "Fitting 3 folds for each of 1 candidates, totalling 3 fits\n",
      "Fitting 3 folds for each of 1 candidates, totalling 3 fits\n",
      "Fitting 3 folds for each of 1 candidates, totalling 3 fits\n",
      "Fitting 3 folds for each of 1 candidates, totalling 3 fits\n",
      "Fitting 3 folds for each of 1 candidates, totalling 3 fits\n",
      "Fitting 3 folds for each of 1 candidates, totalling 3 fits\n",
      "Fitting 3 folds for each of 1 candidates, totalling 3 fits\n",
      "Fitting 3 folds for each of 1 candidates, totalling 3 fits\n",
      "Fitting 3 folds for each of 1 candidates, totalling 3 fits\n",
      "Fitting 3 folds for each of 1 candidates, totalling 3 fits\n",
      "Fitting 3 folds for each of 1 candidates, totalling 3 fits\n",
      "Fitting 3 folds for each of 1 candidates, totalling 3 fits\n",
      "Fitting 3 folds for each of 1 candidates, totalling 3 fits\n",
      "Fitting 3 folds for each of 1 candidates, totalling 3 fits\n",
      "Fitting 3 folds for each of 1 candidates, totalling 3 fits\n",
      "Fitting 3 folds for each of 1 candidates, totalling 3 fits\n",
      "Fitting 3 folds for each of 1 candidates, totalling 3 fits\n",
      "Fitting 3 folds for each of 1 candidates, totalling 3 fits\n",
      "Fitting 3 folds for each of 1 candidates, totalling 3 fits\n",
      "Fitting 3 folds for each of 1 candidates, totalling 3 fits\n",
      "Fitting 3 folds for each of 1 candidates, totalling 3 fits\n",
      "Fitting 3 folds for each of 1 candidates, totalling 3 fits\n",
      "Fitting 3 folds for each of 1 candidates, totalling 3 fits\n",
      "Fitting 3 folds for each of 1 candidates, totalling 3 fits\n",
      "Mejores hiperparámetros encontrados:\n",
      "  - max_depth: 15\n",
      "  - max_leaves: 9\n",
      "  - n_estimators: 52\n",
      "\n",
      "R2 final en test: 0.9801\n",
      "Varianza del R2 (en CV): 0.000003\n"
     ]
    }
   ],
   "source": [
    "from skopt import BayesSearchCV\n",
    "from skopt.space import Real, Integer\n",
    "\n",
    "model = XGBRegressor(random_state=42)\n",
    "\n",
    "search_space = {\n",
    "    'n_estimators': Integer(50, 300),\n",
    "    'max_depth': Integer(3, 15),\n",
    "    'max_leaves': Integer(3, 15),\n",
    "}\n",
    "\n",
    "opt = BayesSearchCV(\n",
    "    estimator=model,\n",
    "    search_spaces=search_space,\n",
    "    n_iter=50,\n",
    "    scoring='r2',\n",
    "    cv=3,\n",
    "    random_state=2,\n",
    "    verbose=1,\n",
    "    n_jobs=-1\n",
    ")\n",
    "\n",
    "opt.fit(X_train, y_train)\n",
    "\n",
    "best_model = opt.best_estimator_\n",
    "\n",
    "y_pred_test = best_model.predict(X_test)\n",
    "r2_test = r2_score(y_test, y_pred_test)\n",
    "\n",
    "r2_scores_cv = opt.cv_results_['mean_test_score']\n",
    "r2_var = np.var(r2_scores_cv)\n",
    "\n",
    "print(\"Mejores hiperparámetros encontrados:\")\n",
    "for param, value in opt.best_params_.items():\n",
    "    print(f\"  - {param}: {value}\")\n",
    "\n",
    "print(f\"\\nR2 final en test: {r2_test:.4f}\")\n",
    "print(f\"Varianza del R2 (en CV): {r2_var:.6f}\")"
   ]
  },
  {
   "cell_type": "code",
   "execution_count": 36,
   "id": "cde025a0-85f9-41ae-bf94-a0d6c5a244ff",
   "metadata": {},
   "outputs": [],
   "source": [
    "x = data.drop(columns = [\"Unnamed: 0\", \"sales\"])\n",
    "y = data[\"sales\"]\n",
    "\n",
    "x[\"TV*radio\"] = x[\"radio\"]*x[\"TV\"]\n",
    "x[\"TV*newspaper\"] = x[\"TV\"]*x[\"newspaper\"]\n",
    "x[\"newspaper*radio\"] = x[\"newspaper\"]*x[\"radio\"]\n",
    "\n",
    "model = XGBRegressor(random_state=42)\n",
    "model.fit(x, y)\n",
    "y_pred = model.predict(x)\n",
    "\n",
    "W = y_pred - y"
   ]
  },
  {
   "cell_type": "code",
   "execution_count": 38,
   "id": "b9a11226-0bbd-4545-b163-f8daa27e62fb",
   "metadata": {},
   "outputs": [],
   "source": [
    "from sklearn.linear_model import LinearRegression\n",
    "\n",
    "linreg = LinearRegression(fit_intercept = True)\n",
    "\n",
    "W = np.reshape(W, [-1, 1])\n",
    "y_pred = np.reshape(y_pred, [-1, 1])\n",
    "\n",
    "linreg.fit(y_pred, W)\n",
    "\n",
    "linreg_pred = linreg.predict(y_pred)"
   ]
  },
  {
   "cell_type": "code",
   "execution_count": 40,
   "id": "c29781e8-00f6-4be3-9413-76039e1eb95d",
   "metadata": {},
   "outputs": [
    {
     "data": {
      "text/plain": [
       "[<matplotlib.lines.Line2D at 0x1e3f2448c90>]"
      ]
     },
     "execution_count": 40,
     "metadata": {},
     "output_type": "execute_result"
    },
    {
     "data": {
      "image/png": "[encoded data removed]",
      "text/plain": [
       "<Figure size 640x480 with 1 Axes>"
      ]
     },
     "metadata": {},
     "output_type": "display_data"
    }
   ],
   "source": [
    "plt.scatter(y_pred, W, c = \"pink\")\n",
    "plt.plot(y_pred, linreg_pred, c = \"blue\")"
   ]
  },
  {
   "cell_type": "code",
   "execution_count": 41,
   "id": "57fa5336-5e18-41c7-ab7e-f6a0b4df5d9c",
   "metadata": {},
   "outputs": [
    {
     "data": {
      "text/html": [
       "<table class=\"simpletable\">\n",
       "<caption>OLS Regression Results</caption>\n",
       "<tr>\n",
       "  <th>Dep. Variable:</th>            <td>y</td>        <th>  R-squared (uncentered):</th>      <td>   0.000</td>\n",
       "</tr>\n",
       "<tr>\n",
       "  <th>Model:</th>                   <td>OLS</td>       <th>  Adj. R-squared (uncentered):</th> <td>  -0.005</td>\n",
       "</tr>\n",
       "<tr>\n",
       "  <th>Method:</th>             <td>Least Squares</td>  <th>  F-statistic:       </th>          <td> 0.02607</td>\n",
       "</tr>\n",
       "<tr>\n",
       "  <th>Date:</th>             <td>Thu, 24 Apr 2025</td> <th>  Prob (F-statistic):</th>           <td> 0.872</td> \n",
       "</tr>\n",
       "<tr>\n",
       "  <th>Time:</th>                 <td>17:44:29</td>     <th>  Log-Likelihood:    </th>          <td> -824.81</td>\n",
       "</tr>\n",
       "<tr>\n",
       "  <th>No. Observations:</th>      <td>   200</td>      <th>  AIC:               </th>          <td>   1652.</td>\n",
       "</tr>\n",
       "<tr>\n",
       "  <th>Df Residuals:</th>          <td>   199</td>      <th>  BIC:               </th>          <td>   1655.</td>\n",
       "</tr>\n",
       "<tr>\n",
       "  <th>Df Model:</th>              <td>     1</td>      <th>                     </th>              <td> </td>   \n",
       "</tr>\n",
       "<tr>\n",
       "  <th>Covariance Type:</th>      <td>nonrobust</td>    <th>                     </th>              <td> </td>   \n",
       "</tr>\n",
       "</table>\n",
       "<table class=\"simpletable\">\n",
       "<tr>\n",
       "   <td></td>     <th>coef</th>     <th>std err</th>      <th>t</th>      <th>P>|t|</th>  <th>[0.025</th>    <th>0.975]</th>  \n",
       "</tr>\n",
       "<tr>\n",
       "  <th>x1</th> <td> -152.0388</td> <td>  941.571</td> <td>   -0.161</td> <td> 0.872</td> <td>-2008.777</td> <td> 1704.699</td>\n",
       "</tr>\n",
       "</table>\n",
       "<table class=\"simpletable\">\n",
       "<tr>\n",
       "  <th>Omnibus:</th>       <td> 7.396</td> <th>  Durbin-Watson:     </th> <td>   0.238</td>\n",
       "</tr>\n",
       "<tr>\n",
       "  <th>Prob(Omnibus):</th> <td> 0.025</td> <th>  Jarque-Bera (JB):  </th> <td>   7.033</td>\n",
       "</tr>\n",
       "<tr>\n",
       "  <th>Skew:</th>          <td> 0.406</td> <th>  Prob(JB):          </th> <td>  0.0297</td>\n",
       "</tr>\n",
       "<tr>\n",
       "  <th>Kurtosis:</th>      <td> 2.570</td> <th>  Cond. No.          </th> <td>    1.00</td>\n",
       "</tr>\n",
       "</table><br/><br/>Notes:<br/>[1] R² is computed without centering (uncentered) since the model does not contain a constant.<br/>[2] Standard Errors assume that the covariance matrix of the errors is correctly specified."
      ],
      "text/latex": [
       "\\begin{center}\n",
       "\\begin{tabular}{lclc}\n",
       "\\toprule\n",
       "\\textbf{Dep. Variable:}    &        y         & \\textbf{  R-squared (uncentered):}      &     0.000   \\\\\n",
       "\\textbf{Model:}            &       OLS        & \\textbf{  Adj. R-squared (uncentered):} &    -0.005   \\\\\n",
       "\\textbf{Method:}           &  Least Squares   & \\textbf{  F-statistic:       }          &   0.02607   \\\\\n",
       "\\textbf{Date:}             & Thu, 24 Apr 2025 & \\textbf{  Prob (F-statistic):}          &    0.872    \\\\\n",
       "\\textbf{Time:}             &     17:44:29     & \\textbf{  Log-Likelihood:    }          &   -824.81   \\\\\n",
       "\\textbf{No. Observations:} &         200      & \\textbf{  AIC:               }          &     1652.   \\\\\n",
       "\\textbf{Df Residuals:}     &         199      & \\textbf{  BIC:               }          &     1655.   \\\\\n",
       "\\textbf{Df Model:}         &           1      & \\textbf{                     }          &             \\\\\n",
       "\\textbf{Covariance Type:}  &    nonrobust     & \\textbf{                     }          &             \\\\\n",
       "\\bottomrule\n",
       "\\end{tabular}\n",
       "\\begin{tabular}{lcccccc}\n",
       "            & \\textbf{coef} & \\textbf{std err} & \\textbf{t} & \\textbf{P$> |$t$|$} & \\textbf{[0.025} & \\textbf{0.975]}  \\\\\n",
       "\\midrule\n",
       "\\textbf{x1} &    -152.0388  &      941.571     &    -0.161  &         0.872        &    -2008.777    &     1704.699     \\\\\n",
       "\\bottomrule\n",
       "\\end{tabular}\n",
       "\\begin{tabular}{lclc}\n",
       "\\textbf{Omnibus:}       &  7.396 & \\textbf{  Durbin-Watson:     } &    0.238  \\\\\n",
       "\\textbf{Prob(Omnibus):} &  0.025 & \\textbf{  Jarque-Bera (JB):  } &    7.033  \\\\\n",
       "\\textbf{Skew:}          &  0.406 & \\textbf{  Prob(JB):          } &   0.0297  \\\\\n",
       "\\textbf{Kurtosis:}      &  2.570 & \\textbf{  Cond. No.          } &     1.00  \\\\\n",
       "\\bottomrule\n",
       "\\end{tabular}\n",
       "%\\caption{OLS Regression Results}\n",
       "\\end{center}\n",
       "\n",
       "Notes: \\newline\n",
       " [1] R² is computed without centering (uncentered) since the model does not contain a constant. \\newline\n",
       " [2] Standard Errors assume that the covariance matrix of the errors is correctly specified."
      ],
      "text/plain": [
       "<class 'statsmodels.iolib.summary.Summary'>\n",
       "\"\"\"\n",
       "                                 OLS Regression Results                                \n",
       "=======================================================================================\n",
       "Dep. Variable:                      y   R-squared (uncentered):                   0.000\n",
       "Model:                            OLS   Adj. R-squared (uncentered):             -0.005\n",
       "Method:                 Least Squares   F-statistic:                            0.02607\n",
       "Date:                Thu, 24 Apr 2025   Prob (F-statistic):                       0.872\n",
       "Time:                        17:44:29   Log-Likelihood:                         -824.81\n",
       "No. Observations:                 200   AIC:                                      1652.\n",
       "Df Residuals:                     199   BIC:                                      1655.\n",
       "Df Model:                           1                                                  \n",
       "Covariance Type:            nonrobust                                                  \n",
       "==============================================================================\n",
       "                 coef    std err          t      P>|t|      [0.025      0.975]\n",
       "------------------------------------------------------------------------------\n",
       "x1          -152.0388    941.571     -0.161      0.872   -2008.777    1704.699\n",
       "==============================================================================\n",
       "Omnibus:                        7.396   Durbin-Watson:                   0.238\n",
       "Prob(Omnibus):                  0.025   Jarque-Bera (JB):                7.033\n",
       "Skew:                           0.406   Prob(JB):                       0.0297\n",
       "Kurtosis:                       2.570   Cond. No.                         1.00\n",
       "==============================================================================\n",
       "\n",
       "Notes:\n",
       "[1] R² is computed without centering (uncentered) since the model does not contain a constant.\n",
       "[2] Standard Errors assume that the covariance matrix of the errors is correctly specified.\n",
       "\"\"\""
      ]
     },
     "execution_count": 41,
     "metadata": {},
     "output_type": "execute_result"
    }
   ],
   "source": [
    "import statsmodels.api as sm\n",
    "x = sm.add_constant(W)\n",
    "ols = sm.OLS(y_pred, W)\n",
    "results = ols.fit()\n",
    "results.summary()"
   ]
  },
  {
   "cell_type": "code",
   "execution_count": null,
   "id": "0173f708-e8d7-40f2-b030-6f45b4732261",
   "metadata": {},
   "outputs": [],
   "source": []
  }
 ],
 "metadata": {
  "kernelspec": {
   "display_name": "Python 3 (ipykernel)",
   "language": "python",
   "name": "python3"
  },
  "language_info": {
   "codemirror_mode": {
    "name": "ipython",
    "version": 3
   },
   "file_extension": ".py",
   "mimetype": "text/x-python",
   "name": "python",
   "nbconvert_exporter": "python",
   "pygments_lexer": "ipython3",
   "version": "3.11.4"
  }
 },
 "nbformat": 4,
 "nbformat_minor": 5
}
