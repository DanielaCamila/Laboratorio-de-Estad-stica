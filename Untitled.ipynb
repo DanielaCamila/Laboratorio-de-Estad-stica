{
 "cells": [
  {
   "cell_type": "markdown",
   "id": "50ff4a53-0754-437b-a983-8edd8b802f38",
   "metadata": {},
   "source": [
    "### Arboles de decisión\n",
    "- Camila Daniela Zapata Castañeda\n",
    "- 745624\n",
    "- 31 de Marzo del 2025"
   ]
  },
  {
   "cell_type": "code",
   "execution_count": 81,
   "id": "90984dfa-804b-45df-8235-e04bc0c823e6",
   "metadata": {},
   "outputs": [],
   "source": [
    "import pandas as pd\n",
    "import numpy as np\n",
    "from sklearn.tree import DecisionTreeRegressor\n",
    "from sklearn.model_selection import train_test_split\n",
    "from sklearn.linear_model import LinearRegression\n",
    "from sklearn.metrics import r2_score\n",
    "from sklearn.pipeline import Pipeline\n",
    "from sklearn.preprocessing import OneHotEncoder\n",
    "from sklearn.preprocessing import StandardScaler\n",
    "from sklearn.compose import ColumnTransformer\n",
    "from sklearn.svm import SVC"
   ]
  },
  {
   "cell_type": "code",
   "execution_count": 59,
   "id": "0c985908-4728-410f-9152-27376bcfe172",
   "metadata": {},
   "outputs": [
    {
     "data": {
      "text/html": [
       "<div>\n",
       "<style scoped>\n",
       "    .dataframe tbody tr th:only-of-type {\n",
       "        vertical-align: middle;\n",
       "    }\n",
       "\n",
       "    .dataframe tbody tr th {\n",
       "        vertical-align: top;\n",
       "    }\n",
       "\n",
       "    .dataframe thead th {\n",
       "        text-align: right;\n",
       "    }\n",
       "</style>\n",
       "<table border=\"1\" class=\"dataframe\">\n",
       "  <thead>\n",
       "    <tr style=\"text-align: right;\">\n",
       "      <th></th>\n",
       "      <th>Unnamed: 0</th>\n",
       "      <th>TV</th>\n",
       "      <th>radio</th>\n",
       "      <th>newspaper</th>\n",
       "      <th>sales</th>\n",
       "    </tr>\n",
       "  </thead>\n",
       "  <tbody>\n",
       "    <tr>\n",
       "      <th>0</th>\n",
       "      <td>1</td>\n",
       "      <td>230.1</td>\n",
       "      <td>37.8</td>\n",
       "      <td>69.2</td>\n",
       "      <td>22.1</td>\n",
       "    </tr>\n",
       "    <tr>\n",
       "      <th>1</th>\n",
       "      <td>2</td>\n",
       "      <td>44.5</td>\n",
       "      <td>39.3</td>\n",
       "      <td>45.1</td>\n",
       "      <td>10.4</td>\n",
       "    </tr>\n",
       "    <tr>\n",
       "      <th>2</th>\n",
       "      <td>3</td>\n",
       "      <td>17.2</td>\n",
       "      <td>45.9</td>\n",
       "      <td>69.3</td>\n",
       "      <td>9.3</td>\n",
       "    </tr>\n",
       "    <tr>\n",
       "      <th>3</th>\n",
       "      <td>4</td>\n",
       "      <td>151.5</td>\n",
       "      <td>41.3</td>\n",
       "      <td>58.5</td>\n",
       "      <td>18.5</td>\n",
       "    </tr>\n",
       "    <tr>\n",
       "      <th>4</th>\n",
       "      <td>5</td>\n",
       "      <td>180.8</td>\n",
       "      <td>10.8</td>\n",
       "      <td>58.4</td>\n",
       "      <td>12.9</td>\n",
       "    </tr>\n",
       "  </tbody>\n",
       "</table>\n",
       "</div>"
      ],
      "text/plain": [
       "   Unnamed: 0     TV  radio  newspaper  sales\n",
       "0           1  230.1   37.8       69.2   22.1\n",
       "1           2   44.5   39.3       45.1   10.4\n",
       "2           3   17.2   45.9       69.3    9.3\n",
       "3           4  151.5   41.3       58.5   18.5\n",
       "4           5  180.8   10.8       58.4   12.9"
      ]
     },
     "execution_count": 59,
     "metadata": {},
     "output_type": "execute_result"
    }
   ],
   "source": [
    "data = pd.read_csv(\"Advertising.csv\")\n",
    "data.head(5)"
   ]
  },
  {
   "cell_type": "code",
   "execution_count": 63,
   "id": "6aab7d6e-24b6-47f0-a407-cd83a1e484a3",
   "metadata": {},
   "outputs": [],
   "source": [
    "X = data.drop(columns = [\"Unnamed: 0\", \"sales\"]).values\n",
    "y = data[\"sales\"].values.ravel()"
   ]
  },
  {
   "cell_type": "markdown",
   "id": "18afe602-740f-4a1f-ac06-f4f323c78206",
   "metadata": {},
   "source": [
    "#### r2 de Árbol"
   ]
  },
  {
   "cell_type": "code",
   "execution_count": 66,
   "id": "5a80fbfb-f0b3-45ec-b51a-762a987bde00",
   "metadata": {},
   "outputs": [
    {
     "data": {
      "text/plain": [
       "1.0"
      ]
     },
     "execution_count": 66,
     "metadata": {},
     "output_type": "execute_result"
    }
   ],
   "source": [
    "model = DecisionTreeRegressor(random_state = 42)\n",
    "\n",
    "model.fit(X, y)\n",
    "\n",
    "r2 = r2_score(y, model.predict(X))\n",
    "r2"
   ]
  },
  {
   "cell_type": "markdown",
   "id": "7e63967e-bb6e-4b01-a8e8-1ff85ac3d829",
   "metadata": {},
   "source": [
    "#### r2 de RegLin"
   ]
  },
  {
   "cell_type": "code",
   "execution_count": 67,
   "id": "f979cae0-6eeb-46eb-b4b9-599b25b50c27",
   "metadata": {},
   "outputs": [
    {
     "data": {
      "text/plain": [
       "0.8972106381789522"
      ]
     },
     "execution_count": 67,
     "metadata": {},
     "output_type": "execute_result"
    }
   ],
   "source": [
    "linreg = LinearRegression()\n",
    "\n",
    "linreg.fit(X, y)\n",
    "\n",
    "r2 = r2_score(y, linreg.predict(X))\n",
    "r2"
   ]
  },
  {
   "cell_type": "markdown",
   "id": "955a180e-653b-4c98-97d8-89d1a5c2e4b5",
   "metadata": {},
   "source": [
    "#### r2 de Árbol con train y test"
   ]
  },
  {
   "cell_type": "code",
   "execution_count": 74,
   "id": "30190361-a035-434e-9df7-2db3c81239ae",
   "metadata": {},
   "outputs": [
    {
     "data": {
      "text/plain": [
       "0.9344975035059896"
      ]
     },
     "execution_count": 74,
     "metadata": {},
     "output_type": "execute_result"
    }
   ],
   "source": [
    "X_train, X_test, y_train, y_test = train_test_split(X, y, train_size = 0.5, random_state=42)\n",
    "\n",
    "model.fit(X_train, y_train)\n",
    "\n",
    "y_pred = model.predict(X_test)\n",
    "\n",
    "r2 = r2_score(y_test, y_pred)\n",
    "r2"
   ]
  },
  {
   "cell_type": "markdown",
   "id": "efd303ee-cf95-46bc-ac15-a8a839c8ba8d",
   "metadata": {},
   "source": [
    "#### r2 de RegLin con train y test"
   ]
  },
  {
   "cell_type": "code",
   "execution_count": 73,
   "id": "90bbd026-77ef-46cb-9b01-84bb83c9ba3b",
   "metadata": {},
   "outputs": [
    {
     "data": {
      "text/plain": [
       "0.8721004816045134"
      ]
     },
     "execution_count": 73,
     "metadata": {},
     "output_type": "execute_result"
    }
   ],
   "source": [
    "linreg.fit(X_train, y_train)\n",
    "\n",
    "y_pred = linreg.predict(X_test)\n",
    "\n",
    "r2 = r2_score(y_test, linreg.predict(X_test))\n",
    "r2"
   ]
  },
  {
   "cell_type": "code",
   "execution_count": null,
   "id": "3ecc9608-cc7c-4072-8bc2-081ed07e0614",
   "metadata": {},
   "outputs": [],
   "source": [
    "Funciones de activación"
   ]
  }
 ],
 "metadata": {
  "kernelspec": {
   "display_name": "Python 3 (ipykernel)",
   "language": "python",
   "name": "python3"
  },
  "language_info": {
   "codemirror_mode": {
    "name": "ipython",
    "version": 3
   },
   "file_extension": ".py",
   "mimetype": "text/x-python",
   "name": "python",
   "nbconvert_exporter": "python",
   "pygments_lexer": "ipython3",
   "version": "3.11.4"
  }
 },
 "nbformat": 4,
 "nbformat_minor": 5
}
