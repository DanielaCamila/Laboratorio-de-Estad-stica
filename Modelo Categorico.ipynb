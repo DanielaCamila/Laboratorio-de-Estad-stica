{
 "cells": [
  {
   "cell_type": "markdown",
   "id": "1f9f4481",
   "metadata": {},
   "source": [
    "## Modelo Categóricos"
   ]
  },
  {
   "cell_type": "markdown",
   "id": "9cc4415b",
   "metadata": {},
   "source": [
    "|                |   |\n",
    ":----------------|---|\n",
    "| **Nombre**     |   Camila Daniela Zapata Castañeda|\n",
    "| **Fecha**      |   17 de Febrero del 2025|\n",
    "| **Expediente** |   745624|"
   ]
  },
  {
   "cell_type": "code",
   "execution_count": 251,
   "id": "53e81910",
   "metadata": {},
   "outputs": [],
   "source": [
    "import pandas as pd\n",
    "import numpy as np\n",
    "import matplotlib.pyplot as plt"
   ]
  },
  {
   "cell_type": "code",
   "execution_count": 252,
   "id": "ade487fd",
   "metadata": {},
   "outputs": [],
   "source": [
    "data = pd.read_excel(\"Motor Trend Car Road Tests.xlsx\")"
   ]
  },
  {
   "cell_type": "code",
   "execution_count": 253,
   "id": "72cad5d5",
   "metadata": {},
   "outputs": [
    {
     "data": {
      "text/html": [
       "<div>\n",
       "<style scoped>\n",
       "    .dataframe tbody tr th:only-of-type {\n",
       "        vertical-align: middle;\n",
       "    }\n",
       "\n",
       "    .dataframe tbody tr th {\n",
       "        vertical-align: top;\n",
       "    }\n",
       "\n",
       "    .dataframe thead th {\n",
       "        text-align: right;\n",
       "    }\n",
       "</style>\n",
       "<table border=\"1\" class=\"dataframe\">\n",
       "  <thead>\n",
       "    <tr style=\"text-align: right;\">\n",
       "      <th></th>\n",
       "      <th>model</th>\n",
       "      <th>mpg</th>\n",
       "      <th>cyl</th>\n",
       "      <th>disp</th>\n",
       "      <th>hp</th>\n",
       "      <th>drat</th>\n",
       "      <th>wt</th>\n",
       "      <th>qsec</th>\n",
       "      <th>vs</th>\n",
       "      <th>am</th>\n",
       "      <th>gear</th>\n",
       "      <th>carb</th>\n",
       "    </tr>\n",
       "  </thead>\n",
       "  <tbody>\n",
       "    <tr>\n",
       "      <th>0</th>\n",
       "      <td>Mazda RX4</td>\n",
       "      <td>21.0</td>\n",
       "      <td>6</td>\n",
       "      <td>160.0</td>\n",
       "      <td>110</td>\n",
       "      <td>3.90</td>\n",
       "      <td>2.620</td>\n",
       "      <td>16.46</td>\n",
       "      <td>0</td>\n",
       "      <td>1</td>\n",
       "      <td>4</td>\n",
       "      <td>4</td>\n",
       "    </tr>\n",
       "    <tr>\n",
       "      <th>1</th>\n",
       "      <td>Mazda RX4 Wag</td>\n",
       "      <td>21.0</td>\n",
       "      <td>6</td>\n",
       "      <td>160.0</td>\n",
       "      <td>110</td>\n",
       "      <td>3.90</td>\n",
       "      <td>2.875</td>\n",
       "      <td>17.02</td>\n",
       "      <td>0</td>\n",
       "      <td>1</td>\n",
       "      <td>4</td>\n",
       "      <td>4</td>\n",
       "    </tr>\n",
       "    <tr>\n",
       "      <th>2</th>\n",
       "      <td>Datsun 710</td>\n",
       "      <td>22.8</td>\n",
       "      <td>4</td>\n",
       "      <td>108.0</td>\n",
       "      <td>93</td>\n",
       "      <td>3.85</td>\n",
       "      <td>2.320</td>\n",
       "      <td>18.61</td>\n",
       "      <td>1</td>\n",
       "      <td>1</td>\n",
       "      <td>4</td>\n",
       "      <td>1</td>\n",
       "    </tr>\n",
       "    <tr>\n",
       "      <th>3</th>\n",
       "      <td>Hornet 4 Drive</td>\n",
       "      <td>21.4</td>\n",
       "      <td>6</td>\n",
       "      <td>258.0</td>\n",
       "      <td>110</td>\n",
       "      <td>3.08</td>\n",
       "      <td>3.215</td>\n",
       "      <td>19.44</td>\n",
       "      <td>1</td>\n",
       "      <td>0</td>\n",
       "      <td>3</td>\n",
       "      <td>1</td>\n",
       "    </tr>\n",
       "    <tr>\n",
       "      <th>4</th>\n",
       "      <td>Hornet Sportabout</td>\n",
       "      <td>18.7</td>\n",
       "      <td>8</td>\n",
       "      <td>360.0</td>\n",
       "      <td>175</td>\n",
       "      <td>3.15</td>\n",
       "      <td>3.440</td>\n",
       "      <td>17.02</td>\n",
       "      <td>0</td>\n",
       "      <td>0</td>\n",
       "      <td>3</td>\n",
       "      <td>2</td>\n",
       "    </tr>\n",
       "  </tbody>\n",
       "</table>\n",
       "</div>"
      ],
      "text/plain": [
       "               model   mpg  cyl   disp   hp  drat     wt   qsec  vs  am  gear  \\\n",
       "0          Mazda RX4  21.0    6  160.0  110  3.90  2.620  16.46   0   1     4   \n",
       "1      Mazda RX4 Wag  21.0    6  160.0  110  3.90  2.875  17.02   0   1     4   \n",
       "2         Datsun 710  22.8    4  108.0   93  3.85  2.320  18.61   1   1     4   \n",
       "3     Hornet 4 Drive  21.4    6  258.0  110  3.08  3.215  19.44   1   0     3   \n",
       "4  Hornet Sportabout  18.7    8  360.0  175  3.15  3.440  17.02   0   0     3   \n",
       "\n",
       "   carb  \n",
       "0     4  \n",
       "1     4  \n",
       "2     1  \n",
       "3     1  \n",
       "4     2  "
      ]
     },
     "execution_count": 253,
     "metadata": {},
     "output_type": "execute_result"
    }
   ],
   "source": [
    "data.head(5)"
   ]
  },
  {
   "cell_type": "code",
   "execution_count": 254,
   "id": "272ab205",
   "metadata": {},
   "outputs": [
    {
     "data": {
      "text/html": [
       "<div>\n",
       "<style scoped>\n",
       "    .dataframe tbody tr th:only-of-type {\n",
       "        vertical-align: middle;\n",
       "    }\n",
       "\n",
       "    .dataframe tbody tr th {\n",
       "        vertical-align: top;\n",
       "    }\n",
       "\n",
       "    .dataframe thead th {\n",
       "        text-align: right;\n",
       "    }\n",
       "</style>\n",
       "<table border=\"1\" class=\"dataframe\">\n",
       "  <thead>\n",
       "    <tr style=\"text-align: right;\">\n",
       "      <th></th>\n",
       "      <th>mpg</th>\n",
       "      <th>cyl</th>\n",
       "      <th>disp</th>\n",
       "      <th>hp</th>\n",
       "      <th>drat</th>\n",
       "      <th>wt</th>\n",
       "      <th>qsec</th>\n",
       "      <th>vs</th>\n",
       "      <th>am</th>\n",
       "      <th>gear</th>\n",
       "      <th>carb</th>\n",
       "    </tr>\n",
       "  </thead>\n",
       "  <tbody>\n",
       "    <tr>\n",
       "      <th>count</th>\n",
       "      <td>32.000000</td>\n",
       "      <td>32.000000</td>\n",
       "      <td>32.000000</td>\n",
       "      <td>32.000000</td>\n",
       "      <td>32.000000</td>\n",
       "      <td>32.000000</td>\n",
       "      <td>32.000000</td>\n",
       "      <td>32.000000</td>\n",
       "      <td>32.000000</td>\n",
       "      <td>32.000000</td>\n",
       "      <td>32.0000</td>\n",
       "    </tr>\n",
       "    <tr>\n",
       "      <th>mean</th>\n",
       "      <td>20.090625</td>\n",
       "      <td>6.187500</td>\n",
       "      <td>230.721875</td>\n",
       "      <td>146.687500</td>\n",
       "      <td>3.596563</td>\n",
       "      <td>3.217250</td>\n",
       "      <td>17.848750</td>\n",
       "      <td>0.437500</td>\n",
       "      <td>0.406250</td>\n",
       "      <td>3.687500</td>\n",
       "      <td>2.8125</td>\n",
       "    </tr>\n",
       "    <tr>\n",
       "      <th>std</th>\n",
       "      <td>6.026948</td>\n",
       "      <td>1.785922</td>\n",
       "      <td>123.938694</td>\n",
       "      <td>68.562868</td>\n",
       "      <td>0.534679</td>\n",
       "      <td>0.978457</td>\n",
       "      <td>1.786943</td>\n",
       "      <td>0.504016</td>\n",
       "      <td>0.498991</td>\n",
       "      <td>0.737804</td>\n",
       "      <td>1.6152</td>\n",
       "    </tr>\n",
       "    <tr>\n",
       "      <th>min</th>\n",
       "      <td>10.400000</td>\n",
       "      <td>4.000000</td>\n",
       "      <td>71.100000</td>\n",
       "      <td>52.000000</td>\n",
       "      <td>2.760000</td>\n",
       "      <td>1.513000</td>\n",
       "      <td>14.500000</td>\n",
       "      <td>0.000000</td>\n",
       "      <td>0.000000</td>\n",
       "      <td>3.000000</td>\n",
       "      <td>1.0000</td>\n",
       "    </tr>\n",
       "    <tr>\n",
       "      <th>25%</th>\n",
       "      <td>15.425000</td>\n",
       "      <td>4.000000</td>\n",
       "      <td>120.825000</td>\n",
       "      <td>96.500000</td>\n",
       "      <td>3.080000</td>\n",
       "      <td>2.581250</td>\n",
       "      <td>16.892500</td>\n",
       "      <td>0.000000</td>\n",
       "      <td>0.000000</td>\n",
       "      <td>3.000000</td>\n",
       "      <td>2.0000</td>\n",
       "    </tr>\n",
       "    <tr>\n",
       "      <th>50%</th>\n",
       "      <td>19.200000</td>\n",
       "      <td>6.000000</td>\n",
       "      <td>196.300000</td>\n",
       "      <td>123.000000</td>\n",
       "      <td>3.695000</td>\n",
       "      <td>3.325000</td>\n",
       "      <td>17.710000</td>\n",
       "      <td>0.000000</td>\n",
       "      <td>0.000000</td>\n",
       "      <td>4.000000</td>\n",
       "      <td>2.0000</td>\n",
       "    </tr>\n",
       "    <tr>\n",
       "      <th>75%</th>\n",
       "      <td>22.800000</td>\n",
       "      <td>8.000000</td>\n",
       "      <td>326.000000</td>\n",
       "      <td>180.000000</td>\n",
       "      <td>3.920000</td>\n",
       "      <td>3.610000</td>\n",
       "      <td>18.900000</td>\n",
       "      <td>1.000000</td>\n",
       "      <td>1.000000</td>\n",
       "      <td>4.000000</td>\n",
       "      <td>4.0000</td>\n",
       "    </tr>\n",
       "    <tr>\n",
       "      <th>max</th>\n",
       "      <td>33.900000</td>\n",
       "      <td>8.000000</td>\n",
       "      <td>472.000000</td>\n",
       "      <td>335.000000</td>\n",
       "      <td>4.930000</td>\n",
       "      <td>5.424000</td>\n",
       "      <td>22.900000</td>\n",
       "      <td>1.000000</td>\n",
       "      <td>1.000000</td>\n",
       "      <td>5.000000</td>\n",
       "      <td>8.0000</td>\n",
       "    </tr>\n",
       "  </tbody>\n",
       "</table>\n",
       "</div>"
      ],
      "text/plain": [
       "             mpg        cyl        disp          hp       drat         wt  \\\n",
       "count  32.000000  32.000000   32.000000   32.000000  32.000000  32.000000   \n",
       "mean   20.090625   6.187500  230.721875  146.687500   3.596563   3.217250   \n",
       "std     6.026948   1.785922  123.938694   68.562868   0.534679   0.978457   \n",
       "min    10.400000   4.000000   71.100000   52.000000   2.760000   1.513000   \n",
       "25%    15.425000   4.000000  120.825000   96.500000   3.080000   2.581250   \n",
       "50%    19.200000   6.000000  196.300000  123.000000   3.695000   3.325000   \n",
       "75%    22.800000   8.000000  326.000000  180.000000   3.920000   3.610000   \n",
       "max    33.900000   8.000000  472.000000  335.000000   4.930000   5.424000   \n",
       "\n",
       "            qsec         vs         am       gear     carb  \n",
       "count  32.000000  32.000000  32.000000  32.000000  32.0000  \n",
       "mean   17.848750   0.437500   0.406250   3.687500   2.8125  \n",
       "std     1.786943   0.504016   0.498991   0.737804   1.6152  \n",
       "min    14.500000   0.000000   0.000000   3.000000   1.0000  \n",
       "25%    16.892500   0.000000   0.000000   3.000000   2.0000  \n",
       "50%    17.710000   0.000000   0.000000   4.000000   2.0000  \n",
       "75%    18.900000   1.000000   1.000000   4.000000   4.0000  \n",
       "max    22.900000   1.000000   1.000000   5.000000   8.0000  "
      ]
     },
     "execution_count": 254,
     "metadata": {},
     "output_type": "execute_result"
    }
   ],
   "source": [
    "data.describe()"
   ]
  },
  {
   "cell_type": "code",
   "execution_count": 255,
   "id": "dfeec756",
   "metadata": {},
   "outputs": [],
   "source": [
    "x = data.copy()\n",
    "x = x.drop(columns = [\"qsec\"])\n",
    "y = data[\"qsec\"]"
   ]
  },
  {
   "cell_type": "code",
   "execution_count": 256,
   "id": "9286b882",
   "metadata": {},
   "outputs": [
    {
     "data": {
      "text/html": [
       "<div>\n",
       "<style scoped>\n",
       "    .dataframe tbody tr th:only-of-type {\n",
       "        vertical-align: middle;\n",
       "    }\n",
       "\n",
       "    .dataframe tbody tr th {\n",
       "        vertical-align: top;\n",
       "    }\n",
       "\n",
       "    .dataframe thead th {\n",
       "        text-align: right;\n",
       "    }\n",
       "</style>\n",
       "<table border=\"1\" class=\"dataframe\">\n",
       "  <thead>\n",
       "    <tr style=\"text-align: right;\">\n",
       "      <th></th>\n",
       "      <th>model</th>\n",
       "      <th>mpg</th>\n",
       "      <th>cyl</th>\n",
       "      <th>disp</th>\n",
       "      <th>hp</th>\n",
       "      <th>drat</th>\n",
       "      <th>wt</th>\n",
       "      <th>vs</th>\n",
       "      <th>am</th>\n",
       "      <th>gear</th>\n",
       "      <th>carb</th>\n",
       "    </tr>\n",
       "  </thead>\n",
       "  <tbody>\n",
       "    <tr>\n",
       "      <th>0</th>\n",
       "      <td>Mazda RX4</td>\n",
       "      <td>21.0</td>\n",
       "      <td>6</td>\n",
       "      <td>160.0</td>\n",
       "      <td>110</td>\n",
       "      <td>3.90</td>\n",
       "      <td>2.620</td>\n",
       "      <td>0</td>\n",
       "      <td>1</td>\n",
       "      <td>4</td>\n",
       "      <td>4</td>\n",
       "    </tr>\n",
       "    <tr>\n",
       "      <th>1</th>\n",
       "      <td>Mazda RX4 Wag</td>\n",
       "      <td>21.0</td>\n",
       "      <td>6</td>\n",
       "      <td>160.0</td>\n",
       "      <td>110</td>\n",
       "      <td>3.90</td>\n",
       "      <td>2.875</td>\n",
       "      <td>0</td>\n",
       "      <td>1</td>\n",
       "      <td>4</td>\n",
       "      <td>4</td>\n",
       "    </tr>\n",
       "    <tr>\n",
       "      <th>2</th>\n",
       "      <td>Datsun 710</td>\n",
       "      <td>22.8</td>\n",
       "      <td>4</td>\n",
       "      <td>108.0</td>\n",
       "      <td>93</td>\n",
       "      <td>3.85</td>\n",
       "      <td>2.320</td>\n",
       "      <td>1</td>\n",
       "      <td>1</td>\n",
       "      <td>4</td>\n",
       "      <td>1</td>\n",
       "    </tr>\n",
       "    <tr>\n",
       "      <th>3</th>\n",
       "      <td>Hornet 4 Drive</td>\n",
       "      <td>21.4</td>\n",
       "      <td>6</td>\n",
       "      <td>258.0</td>\n",
       "      <td>110</td>\n",
       "      <td>3.08</td>\n",
       "      <td>3.215</td>\n",
       "      <td>1</td>\n",
       "      <td>0</td>\n",
       "      <td>3</td>\n",
       "      <td>1</td>\n",
       "    </tr>\n",
       "    <tr>\n",
       "      <th>4</th>\n",
       "      <td>Hornet Sportabout</td>\n",
       "      <td>18.7</td>\n",
       "      <td>8</td>\n",
       "      <td>360.0</td>\n",
       "      <td>175</td>\n",
       "      <td>3.15</td>\n",
       "      <td>3.440</td>\n",
       "      <td>0</td>\n",
       "      <td>0</td>\n",
       "      <td>3</td>\n",
       "      <td>2</td>\n",
       "    </tr>\n",
       "  </tbody>\n",
       "</table>\n",
       "</div>"
      ],
      "text/plain": [
       "               model   mpg  cyl   disp   hp  drat     wt  vs  am  gear  carb\n",
       "0          Mazda RX4  21.0    6  160.0  110  3.90  2.620   0   1     4     4\n",
       "1      Mazda RX4 Wag  21.0    6  160.0  110  3.90  2.875   0   1     4     4\n",
       "2         Datsun 710  22.8    4  108.0   93  3.85  2.320   1   1     4     1\n",
       "3     Hornet 4 Drive  21.4    6  258.0  110  3.08  3.215   1   0     3     1\n",
       "4  Hornet Sportabout  18.7    8  360.0  175  3.15  3.440   0   0     3     2"
      ]
     },
     "execution_count": 256,
     "metadata": {},
     "output_type": "execute_result"
    }
   ],
   "source": [
    "x.head(5)"
   ]
  },
  {
   "cell_type": "code",
   "execution_count": 257,
   "id": "7d427869",
   "metadata": {
    "scrolled": false
   },
   "outputs": [
    {
     "data": {
      "image/png": "[encoded data removed]",
      "text/plain": [
       "<Figure size 640x480 with 1 Axes>"
      ]
     },
     "metadata": {},
     "output_type": "display_data"
    }
   ],
   "source": [
    "fig, ax = plt.subplots()\n",
    "plt.hist(y)\n",
    "plt.show()"
   ]
  },
  {
   "cell_type": "markdown",
   "id": "70c5b687",
   "metadata": {},
   "source": [
    "Graficamos \"y\""
   ]
  },
  {
   "cell_type": "code",
   "execution_count": 201,
   "id": "97faa52c",
   "metadata": {},
   "outputs": [
    {
     "data": {
      "text/plain": [
       "<Axes: ylabel='Frequency'>"
      ]
     },
     "execution_count": 201,
     "metadata": {},
     "output_type": "execute_result"
    },
    {
     "data": {
      "image/png": "[encoded data removed]",
      "text/plain": [
       "<Figure size 640x480 with 1 Axes>"
      ]
     },
     "metadata": {},
     "output_type": "display_data"
    }
   ],
   "source": [
    "y.plot.hist()"
   ]
  },
  {
   "cell_type": "markdown",
   "id": "1d4f2a4d",
   "metadata": {},
   "source": [
    "Quitamos la columna que no creemos necesaria y luego hacemos una regresión"
   ]
  },
  {
   "cell_type": "code",
   "execution_count": 258,
   "id": "93d02fde",
   "metadata": {},
   "outputs": [],
   "source": [
    "x = x.drop(columns = [\"model\"])\n",
    "n = len(y)\n",
    "ones = np.ones([n, 1])\n",
    "X = np.hstack((ones, x))"
   ]
  },
  {
   "cell_type": "code",
   "execution_count": 259,
   "id": "5fd1d0c5",
   "metadata": {},
   "outputs": [
    {
     "data": {
      "text/html": [
       "<table class=\"simpletable\">\n",
       "<caption>OLS Regression Results</caption>\n",
       "<tr>\n",
       "  <th>Dep. Variable:</th>          <td>qsec</td>       <th>  R-squared:         </th> <td>   0.875</td>\n",
       "</tr>\n",
       "<tr>\n",
       "  <th>Model:</th>                   <td>OLS</td>       <th>  Adj. R-squared:    </th> <td>   0.815</td>\n",
       "</tr>\n",
       "<tr>\n",
       "  <th>Method:</th>             <td>Least Squares</td>  <th>  F-statistic:       </th> <td>   14.66</td>\n",
       "</tr>\n",
       "<tr>\n",
       "  <th>Date:</th>             <td>Thu, 20 Feb 2025</td> <th>  Prob (F-statistic):</th> <td>2.44e-07</td>\n",
       "</tr>\n",
       "<tr>\n",
       "  <th>Time:</th>                 <td>13:25:01</td>     <th>  Log-Likelihood:    </th> <td> -30.242</td>\n",
       "</tr>\n",
       "<tr>\n",
       "  <th>No. Observations:</th>      <td>    32</td>      <th>  AIC:               </th> <td>   82.48</td>\n",
       "</tr>\n",
       "<tr>\n",
       "  <th>Df Residuals:</th>          <td>    21</td>      <th>  BIC:               </th> <td>   98.61</td>\n",
       "</tr>\n",
       "<tr>\n",
       "  <th>Df Model:</th>              <td>    10</td>      <th>                     </th>     <td> </td>   \n",
       "</tr>\n",
       "<tr>\n",
       "  <th>Covariance Type:</th>      <td>nonrobust</td>    <th>                     </th>     <td> </td>   \n",
       "</tr>\n",
       "</table>\n",
       "<table class=\"simpletable\">\n",
       "<tr>\n",
       "    <td></td>       <th>coef</th>     <th>std err</th>      <th>t</th>      <th>P>|t|</th>  <th>[0.025</th>    <th>0.975]</th>  \n",
       "</tr>\n",
       "<tr>\n",
       "  <th>const</th> <td>   17.7762</td> <td>    3.876</td> <td>    4.586</td> <td> 0.000</td> <td>    9.716</td> <td>   25.837</td>\n",
       "</tr>\n",
       "<tr>\n",
       "  <th>x1</th>    <td>    0.0690</td> <td>    0.061</td> <td>    1.123</td> <td> 0.274</td> <td>   -0.059</td> <td>    0.197</td>\n",
       "</tr>\n",
       "<tr>\n",
       "  <th>x2</th>    <td>   -0.3627</td> <td>    0.293</td> <td>   -1.239</td> <td> 0.229</td> <td>   -0.971</td> <td>    0.246</td>\n",
       "</tr>\n",
       "<tr>\n",
       "  <th>x3</th>    <td>   -0.0075</td> <td>    0.005</td> <td>   -1.505</td> <td> 0.147</td> <td>   -0.018</td> <td>    0.003</td>\n",
       "</tr>\n",
       "<tr>\n",
       "  <th>x4</th>    <td>   -0.0016</td> <td>    0.006</td> <td>   -0.242</td> <td> 0.811</td> <td>   -0.015</td> <td>    0.012</td>\n",
       "</tr>\n",
       "<tr>\n",
       "  <th>x5</th>    <td>   -0.1311</td> <td>    0.476</td> <td>   -0.275</td> <td> 0.786</td> <td>   -1.121</td> <td>    0.859</td>\n",
       "</tr>\n",
       "<tr>\n",
       "  <th>x6</th>    <td>    1.4963</td> <td>    0.500</td> <td>    2.990</td> <td> 0.007</td> <td>    0.456</td> <td>    2.537</td>\n",
       "</tr>\n",
       "<tr>\n",
       "  <th>x7</th>    <td>    0.9700</td> <td>    0.573</td> <td>    1.694</td> <td> 0.105</td> <td>   -0.221</td> <td>    2.161</td>\n",
       "</tr>\n",
       "<tr>\n",
       "  <th>x8</th>    <td>   -0.9012</td> <td>    0.585</td> <td>   -1.540</td> <td> 0.139</td> <td>   -2.118</td> <td>    0.316</td>\n",
       "</tr>\n",
       "<tr>\n",
       "  <th>x9</th>    <td>   -0.2013</td> <td>    0.433</td> <td>   -0.465</td> <td> 0.647</td> <td>   -1.101</td> <td>    0.699</td>\n",
       "</tr>\n",
       "<tr>\n",
       "  <th>x10</th>   <td>   -0.2736</td> <td>    0.233</td> <td>   -1.174</td> <td> 0.254</td> <td>   -0.758</td> <td>    0.211</td>\n",
       "</tr>\n",
       "</table>\n",
       "<table class=\"simpletable\">\n",
       "<tr>\n",
       "  <th>Omnibus:</th>       <td>21.069</td> <th>  Durbin-Watson:     </th> <td>   2.573</td>\n",
       "</tr>\n",
       "<tr>\n",
       "  <th>Prob(Omnibus):</th> <td> 0.000</td> <th>  Jarque-Bera (JB):  </th> <td>  38.291</td>\n",
       "</tr>\n",
       "<tr>\n",
       "  <th>Skew:</th>          <td> 1.470</td> <th>  Prob(JB):          </th> <td>4.84e-09</td>\n",
       "</tr>\n",
       "<tr>\n",
       "  <th>Kurtosis:</th>      <td> 7.481</td> <th>  Cond. No.          </th> <td>8.77e+03</td>\n",
       "</tr>\n",
       "</table><br/><br/>Notes:<br/>[1] Standard Errors assume that the covariance matrix of the errors is correctly specified.<br/>[2] The condition number is large, 8.77e+03. This might indicate that there are<br/>strong multicollinearity or other numerical problems."
      ],
      "text/latex": [
       "\\begin{center}\n",
       "\\begin{tabular}{lclc}\n",
       "\\toprule\n",
       "\\textbf{Dep. Variable:}    &       qsec       & \\textbf{  R-squared:         } &     0.875   \\\\\n",
       "\\textbf{Model:}            &       OLS        & \\textbf{  Adj. R-squared:    } &     0.815   \\\\\n",
       "\\textbf{Method:}           &  Least Squares   & \\textbf{  F-statistic:       } &     14.66   \\\\\n",
       "\\textbf{Date:}             & Thu, 20 Feb 2025 & \\textbf{  Prob (F-statistic):} &  2.44e-07   \\\\\n",
       "\\textbf{Time:}             &     13:25:01     & \\textbf{  Log-Likelihood:    } &   -30.242   \\\\\n",
       "\\textbf{No. Observations:} &          32      & \\textbf{  AIC:               } &     82.48   \\\\\n",
       "\\textbf{Df Residuals:}     &          21      & \\textbf{  BIC:               } &     98.61   \\\\\n",
       "\\textbf{Df Model:}         &          10      & \\textbf{                     } &             \\\\\n",
       "\\textbf{Covariance Type:}  &    nonrobust     & \\textbf{                     } &             \\\\\n",
       "\\bottomrule\n",
       "\\end{tabular}\n",
       "\\begin{tabular}{lcccccc}\n",
       "               & \\textbf{coef} & \\textbf{std err} & \\textbf{t} & \\textbf{P$> |$t$|$} & \\textbf{[0.025} & \\textbf{0.975]}  \\\\\n",
       "\\midrule\n",
       "\\textbf{const} &      17.7762  &        3.876     &     4.586  &         0.000        &        9.716    &       25.837     \\\\\n",
       "\\textbf{x1}    &       0.0690  &        0.061     &     1.123  &         0.274        &       -0.059    &        0.197     \\\\\n",
       "\\textbf{x2}    &      -0.3627  &        0.293     &    -1.239  &         0.229        &       -0.971    &        0.246     \\\\\n",
       "\\textbf{x3}    &      -0.0075  &        0.005     &    -1.505  &         0.147        &       -0.018    &        0.003     \\\\\n",
       "\\textbf{x4}    &      -0.0016  &        0.006     &    -0.242  &         0.811        &       -0.015    &        0.012     \\\\\n",
       "\\textbf{x5}    &      -0.1311  &        0.476     &    -0.275  &         0.786        &       -1.121    &        0.859     \\\\\n",
       "\\textbf{x6}    &       1.4963  &        0.500     &     2.990  &         0.007        &        0.456    &        2.537     \\\\\n",
       "\\textbf{x7}    &       0.9700  &        0.573     &     1.694  &         0.105        &       -0.221    &        2.161     \\\\\n",
       "\\textbf{x8}    &      -0.9012  &        0.585     &    -1.540  &         0.139        &       -2.118    &        0.316     \\\\\n",
       "\\textbf{x9}    &      -0.2013  &        0.433     &    -0.465  &         0.647        &       -1.101    &        0.699     \\\\\n",
       "\\textbf{x10}   &      -0.2736  &        0.233     &    -1.174  &         0.254        &       -0.758    &        0.211     \\\\\n",
       "\\bottomrule\n",
       "\\end{tabular}\n",
       "\\begin{tabular}{lclc}\n",
       "\\textbf{Omnibus:}       & 21.069 & \\textbf{  Durbin-Watson:     } &    2.573  \\\\\n",
       "\\textbf{Prob(Omnibus):} &  0.000 & \\textbf{  Jarque-Bera (JB):  } &   38.291  \\\\\n",
       "\\textbf{Skew:}          &  1.470 & \\textbf{  Prob(JB):          } & 4.84e-09  \\\\\n",
       "\\textbf{Kurtosis:}      &  7.481 & \\textbf{  Cond. No.          } & 8.77e+03  \\\\\n",
       "\\bottomrule\n",
       "\\end{tabular}\n",
       "%\\caption{OLS Regression Results}\n",
       "\\end{center}\n",
       "\n",
       "Notes: \\newline\n",
       " [1] Standard Errors assume that the covariance matrix of the errors is correctly specified. \\newline\n",
       " [2] The condition number is large, 8.77e+03. This might indicate that there are \\newline\n",
       " strong multicollinearity or other numerical problems."
      ],
      "text/plain": [
       "<class 'statsmodels.iolib.summary.Summary'>\n",
       "\"\"\"\n",
       "                            OLS Regression Results                            \n",
       "==============================================================================\n",
       "Dep. Variable:                   qsec   R-squared:                       0.875\n",
       "Model:                            OLS   Adj. R-squared:                  0.815\n",
       "Method:                 Least Squares   F-statistic:                     14.66\n",
       "Date:                Thu, 20 Feb 2025   Prob (F-statistic):           2.44e-07\n",
       "Time:                        13:25:01   Log-Likelihood:                -30.242\n",
       "No. Observations:                  32   AIC:                             82.48\n",
       "Df Residuals:                      21   BIC:                             98.61\n",
       "Df Model:                          10                                         \n",
       "Covariance Type:            nonrobust                                         \n",
       "==============================================================================\n",
       "                 coef    std err          t      P>|t|      [0.025      0.975]\n",
       "------------------------------------------------------------------------------\n",
       "const         17.7762      3.876      4.586      0.000       9.716      25.837\n",
       "x1             0.0690      0.061      1.123      0.274      -0.059       0.197\n",
       "x2            -0.3627      0.293     -1.239      0.229      -0.971       0.246\n",
       "x3            -0.0075      0.005     -1.505      0.147      -0.018       0.003\n",
       "x4            -0.0016      0.006     -0.242      0.811      -0.015       0.012\n",
       "x5            -0.1311      0.476     -0.275      0.786      -1.121       0.859\n",
       "x6             1.4963      0.500      2.990      0.007       0.456       2.537\n",
       "x7             0.9700      0.573      1.694      0.105      -0.221       2.161\n",
       "x8            -0.9012      0.585     -1.540      0.139      -2.118       0.316\n",
       "x9            -0.2013      0.433     -0.465      0.647      -1.101       0.699\n",
       "x10           -0.2736      0.233     -1.174      0.254      -0.758       0.211\n",
       "==============================================================================\n",
       "Omnibus:                       21.069   Durbin-Watson:                   2.573\n",
       "Prob(Omnibus):                  0.000   Jarque-Bera (JB):               38.291\n",
       "Skew:                           1.470   Prob(JB):                     4.84e-09\n",
       "Kurtosis:                       7.481   Cond. No.                     8.77e+03\n",
       "==============================================================================\n",
       "\n",
       "Notes:\n",
       "[1] Standard Errors assume that the covariance matrix of the errors is correctly specified.\n",
       "[2] The condition number is large, 8.77e+03. This might indicate that there are\n",
       "strong multicollinearity or other numerical problems.\n",
       "\"\"\""
      ]
     },
     "execution_count": 259,
     "metadata": {},
     "output_type": "execute_result"
    }
   ],
   "source": [
    "import statsmodels.api as sm\n",
    "ols = sm.OLS(y, X)\n",
    "results = ols.fit()\n",
    "results.summary()"
   ]
  },
  {
   "cell_type": "code",
   "execution_count": 260,
   "id": "64fa011d",
   "metadata": {},
   "outputs": [
    {
     "data": {
      "text/html": [
       "<div>\n",
       "<style scoped>\n",
       "    .dataframe tbody tr th:only-of-type {\n",
       "        vertical-align: middle;\n",
       "    }\n",
       "\n",
       "    .dataframe tbody tr th {\n",
       "        vertical-align: top;\n",
       "    }\n",
       "\n",
       "    .dataframe thead th {\n",
       "        text-align: right;\n",
       "    }\n",
       "</style>\n",
       "<table border=\"1\" class=\"dataframe\">\n",
       "  <thead>\n",
       "    <tr style=\"text-align: right;\">\n",
       "      <th></th>\n",
       "      <th>4</th>\n",
       "      <th>6</th>\n",
       "      <th>8</th>\n",
       "    </tr>\n",
       "  </thead>\n",
       "  <tbody>\n",
       "    <tr>\n",
       "      <th>0</th>\n",
       "      <td>0</td>\n",
       "      <td>1</td>\n",
       "      <td>0</td>\n",
       "    </tr>\n",
       "    <tr>\n",
       "      <th>1</th>\n",
       "      <td>0</td>\n",
       "      <td>1</td>\n",
       "      <td>0</td>\n",
       "    </tr>\n",
       "    <tr>\n",
       "      <th>2</th>\n",
       "      <td>1</td>\n",
       "      <td>0</td>\n",
       "      <td>0</td>\n",
       "    </tr>\n",
       "    <tr>\n",
       "      <th>3</th>\n",
       "      <td>0</td>\n",
       "      <td>1</td>\n",
       "      <td>0</td>\n",
       "    </tr>\n",
       "    <tr>\n",
       "      <th>4</th>\n",
       "      <td>0</td>\n",
       "      <td>0</td>\n",
       "      <td>1</td>\n",
       "    </tr>\n",
       "  </tbody>\n",
       "</table>\n",
       "</div>"
      ],
      "text/plain": [
       "   4  6  8\n",
       "0  0  1  0\n",
       "1  0  1  0\n",
       "2  1  0  0\n",
       "3  0  1  0\n",
       "4  0  0  1"
      ]
     },
     "execution_count": 260,
     "metadata": {},
     "output_type": "execute_result"
    }
   ],
   "source": [
    "df = pd.get_dummies(data[\"cyl\"])\n",
    "df.head(5)"
   ]
  },
  {
   "cell_type": "code",
   "execution_count": 261,
   "id": "7029df44",
   "metadata": {},
   "outputs": [],
   "source": [
    "from sklearn.metrics import r2_score\n",
    "from sklearn.preprocessing import StandardScaler\n",
    "from sklearn.model_selection import train_test_split\n",
    "from sklearn.linear_model import LinearRegression\n",
    "from sklearn.linear_model import Ridge\n",
    "from sklearn.linear_model import Lasso\n",
    "from scipy import stats"
   ]
  },
  {
   "cell_type": "code",
   "execution_count": 262,
   "id": "cfd921bd",
   "metadata": {},
   "outputs": [],
   "source": [
    "data = pd.read_excel(\"Motor Trend Car Road Tests.xlsx\")"
   ]
  },
  {
   "cell_type": "code",
   "execution_count": 264,
   "id": "fb5f01ac",
   "metadata": {},
   "outputs": [],
   "source": [
    "datadrop = data.drop(columns = [\"model\"])"
   ]
  },
  {
   "cell_type": "code",
   "execution_count": 265,
   "id": "5cd1215e",
   "metadata": {},
   "outputs": [],
   "source": [
    "x = datadrop.drop(columns = [\"mpg\"])"
   ]
  },
  {
   "cell_type": "code",
   "execution_count": 266,
   "id": "b5d19020",
   "metadata": {},
   "outputs": [],
   "source": [
    "n = len(y)\n",
    "ones = np.ones([n, 1])\n",
    "X = np.hstack((ones, x))"
   ]
  },
  {
   "cell_type": "markdown",
   "id": "187939eb",
   "metadata": {},
   "source": [
    "### Calcula el R2 e interpreta los signos de los betas."
   ]
  },
  {
   "cell_type": "code",
   "execution_count": 267,
   "id": "e1ba6ad5",
   "metadata": {},
   "outputs": [],
   "source": [
    "y = datadrop[\"mpg\"]\n",
    "y1 = y"
   ]
  },
  {
   "cell_type": "code",
   "execution_count": 268,
   "id": "91c7eff7",
   "metadata": {},
   "outputs": [
    {
     "data": {
      "text/html": [
       "<table class=\"simpletable\">\n",
       "<caption>OLS Regression Results</caption>\n",
       "<tr>\n",
       "  <th>Dep. Variable:</th>           <td>mpg</td>       <th>  R-squared:         </th> <td>   0.869</td>\n",
       "</tr>\n",
       "<tr>\n",
       "  <th>Model:</th>                   <td>OLS</td>       <th>  Adj. R-squared:    </th> <td>   0.807</td>\n",
       "</tr>\n",
       "<tr>\n",
       "  <th>Method:</th>             <td>Least Squares</td>  <th>  F-statistic:       </th> <td>   13.93</td>\n",
       "</tr>\n",
       "<tr>\n",
       "  <th>Date:</th>             <td>Thu, 20 Feb 2025</td> <th>  Prob (F-statistic):</th> <td>3.79e-07</td>\n",
       "</tr>\n",
       "<tr>\n",
       "  <th>Time:</th>                 <td>13:25:44</td>     <th>  Log-Likelihood:    </th> <td> -69.855</td>\n",
       "</tr>\n",
       "<tr>\n",
       "  <th>No. Observations:</th>      <td>    32</td>      <th>  AIC:               </th> <td>   161.7</td>\n",
       "</tr>\n",
       "<tr>\n",
       "  <th>Df Residuals:</th>          <td>    21</td>      <th>  BIC:               </th> <td>   177.8</td>\n",
       "</tr>\n",
       "<tr>\n",
       "  <th>Df Model:</th>              <td>    10</td>      <th>                     </th>     <td> </td>   \n",
       "</tr>\n",
       "<tr>\n",
       "  <th>Covariance Type:</th>      <td>nonrobust</td>    <th>                     </th>     <td> </td>   \n",
       "</tr>\n",
       "</table>\n",
       "<table class=\"simpletable\">\n",
       "<tr>\n",
       "    <td></td>       <th>coef</th>     <th>std err</th>      <th>t</th>      <th>P>|t|</th>  <th>[0.025</th>    <th>0.975]</th>  \n",
       "</tr>\n",
       "<tr>\n",
       "  <th>const</th> <td>   12.3034</td> <td>   18.718</td> <td>    0.657</td> <td> 0.518</td> <td>  -26.623</td> <td>   51.229</td>\n",
       "</tr>\n",
       "<tr>\n",
       "  <th>x1</th>    <td>   -0.1114</td> <td>    1.045</td> <td>   -0.107</td> <td> 0.916</td> <td>   -2.285</td> <td>    2.062</td>\n",
       "</tr>\n",
       "<tr>\n",
       "  <th>x2</th>    <td>    0.0133</td> <td>    0.018</td> <td>    0.747</td> <td> 0.463</td> <td>   -0.024</td> <td>    0.050</td>\n",
       "</tr>\n",
       "<tr>\n",
       "  <th>x3</th>    <td>   -0.0215</td> <td>    0.022</td> <td>   -0.987</td> <td> 0.335</td> <td>   -0.067</td> <td>    0.024</td>\n",
       "</tr>\n",
       "<tr>\n",
       "  <th>x4</th>    <td>    0.7871</td> <td>    1.635</td> <td>    0.481</td> <td> 0.635</td> <td>   -2.614</td> <td>    4.188</td>\n",
       "</tr>\n",
       "<tr>\n",
       "  <th>x5</th>    <td>   -3.7153</td> <td>    1.894</td> <td>   -1.961</td> <td> 0.063</td> <td>   -7.655</td> <td>    0.224</td>\n",
       "</tr>\n",
       "<tr>\n",
       "  <th>x6</th>    <td>    0.8210</td> <td>    0.731</td> <td>    1.123</td> <td> 0.274</td> <td>   -0.699</td> <td>    2.341</td>\n",
       "</tr>\n",
       "<tr>\n",
       "  <th>x7</th>    <td>    0.3178</td> <td>    2.105</td> <td>    0.151</td> <td> 0.881</td> <td>   -4.059</td> <td>    4.694</td>\n",
       "</tr>\n",
       "<tr>\n",
       "  <th>x8</th>    <td>    2.5202</td> <td>    2.057</td> <td>    1.225</td> <td> 0.234</td> <td>   -1.757</td> <td>    6.797</td>\n",
       "</tr>\n",
       "<tr>\n",
       "  <th>x9</th>    <td>    0.6554</td> <td>    1.493</td> <td>    0.439</td> <td> 0.665</td> <td>   -2.450</td> <td>    3.761</td>\n",
       "</tr>\n",
       "<tr>\n",
       "  <th>x10</th>   <td>   -0.1994</td> <td>    0.829</td> <td>   -0.241</td> <td> 0.812</td> <td>   -1.923</td> <td>    1.524</td>\n",
       "</tr>\n",
       "</table>\n",
       "<table class=\"simpletable\">\n",
       "<tr>\n",
       "  <th>Omnibus:</th>       <td> 1.907</td> <th>  Durbin-Watson:     </th> <td>   1.861</td>\n",
       "</tr>\n",
       "<tr>\n",
       "  <th>Prob(Omnibus):</th> <td> 0.385</td> <th>  Jarque-Bera (JB):  </th> <td>   1.747</td>\n",
       "</tr>\n",
       "<tr>\n",
       "  <th>Skew:</th>          <td> 0.521</td> <th>  Prob(JB):          </th> <td>   0.418</td>\n",
       "</tr>\n",
       "<tr>\n",
       "  <th>Kurtosis:</th>      <td> 2.526</td> <th>  Cond. No.          </th> <td>1.22e+04</td>\n",
       "</tr>\n",
       "</table><br/><br/>Notes:<br/>[1] Standard Errors assume that the covariance matrix of the errors is correctly specified.<br/>[2] The condition number is large, 1.22e+04. This might indicate that there are<br/>strong multicollinearity or other numerical problems."
      ],
      "text/latex": [
       "\\begin{center}\n",
       "\\begin{tabular}{lclc}\n",
       "\\toprule\n",
       "\\textbf{Dep. Variable:}    &       mpg        & \\textbf{  R-squared:         } &     0.869   \\\\\n",
       "\\textbf{Model:}            &       OLS        & \\textbf{  Adj. R-squared:    } &     0.807   \\\\\n",
       "\\textbf{Method:}           &  Least Squares   & \\textbf{  F-statistic:       } &     13.93   \\\\\n",
       "\\textbf{Date:}             & Thu, 20 Feb 2025 & \\textbf{  Prob (F-statistic):} &  3.79e-07   \\\\\n",
       "\\textbf{Time:}             &     13:25:44     & \\textbf{  Log-Likelihood:    } &   -69.855   \\\\\n",
       "\\textbf{No. Observations:} &          32      & \\textbf{  AIC:               } &     161.7   \\\\\n",
       "\\textbf{Df Residuals:}     &          21      & \\textbf{  BIC:               } &     177.8   \\\\\n",
       "\\textbf{Df Model:}         &          10      & \\textbf{                     } &             \\\\\n",
       "\\textbf{Covariance Type:}  &    nonrobust     & \\textbf{                     } &             \\\\\n",
       "\\bottomrule\n",
       "\\end{tabular}\n",
       "\\begin{tabular}{lcccccc}\n",
       "               & \\textbf{coef} & \\textbf{std err} & \\textbf{t} & \\textbf{P$> |$t$|$} & \\textbf{[0.025} & \\textbf{0.975]}  \\\\\n",
       "\\midrule\n",
       "\\textbf{const} &      12.3034  &       18.718     &     0.657  &         0.518        &      -26.623    &       51.229     \\\\\n",
       "\\textbf{x1}    &      -0.1114  &        1.045     &    -0.107  &         0.916        &       -2.285    &        2.062     \\\\\n",
       "\\textbf{x2}    &       0.0133  &        0.018     &     0.747  &         0.463        &       -0.024    &        0.050     \\\\\n",
       "\\textbf{x3}    &      -0.0215  &        0.022     &    -0.987  &         0.335        &       -0.067    &        0.024     \\\\\n",
       "\\textbf{x4}    &       0.7871  &        1.635     &     0.481  &         0.635        &       -2.614    &        4.188     \\\\\n",
       "\\textbf{x5}    &      -3.7153  &        1.894     &    -1.961  &         0.063        &       -7.655    &        0.224     \\\\\n",
       "\\textbf{x6}    &       0.8210  &        0.731     &     1.123  &         0.274        &       -0.699    &        2.341     \\\\\n",
       "\\textbf{x7}    &       0.3178  &        2.105     &     0.151  &         0.881        &       -4.059    &        4.694     \\\\\n",
       "\\textbf{x8}    &       2.5202  &        2.057     &     1.225  &         0.234        &       -1.757    &        6.797     \\\\\n",
       "\\textbf{x9}    &       0.6554  &        1.493     &     0.439  &         0.665        &       -2.450    &        3.761     \\\\\n",
       "\\textbf{x10}   &      -0.1994  &        0.829     &    -0.241  &         0.812        &       -1.923    &        1.524     \\\\\n",
       "\\bottomrule\n",
       "\\end{tabular}\n",
       "\\begin{tabular}{lclc}\n",
       "\\textbf{Omnibus:}       &  1.907 & \\textbf{  Durbin-Watson:     } &    1.861  \\\\\n",
       "\\textbf{Prob(Omnibus):} &  0.385 & \\textbf{  Jarque-Bera (JB):  } &    1.747  \\\\\n",
       "\\textbf{Skew:}          &  0.521 & \\textbf{  Prob(JB):          } &    0.418  \\\\\n",
       "\\textbf{Kurtosis:}      &  2.526 & \\textbf{  Cond. No.          } & 1.22e+04  \\\\\n",
       "\\bottomrule\n",
       "\\end{tabular}\n",
       "%\\caption{OLS Regression Results}\n",
       "\\end{center}\n",
       "\n",
       "Notes: \\newline\n",
       " [1] Standard Errors assume that the covariance matrix of the errors is correctly specified. \\newline\n",
       " [2] The condition number is large, 1.22e+04. This might indicate that there are \\newline\n",
       " strong multicollinearity or other numerical problems."
      ],
      "text/plain": [
       "<class 'statsmodels.iolib.summary.Summary'>\n",
       "\"\"\"\n",
       "                            OLS Regression Results                            \n",
       "==============================================================================\n",
       "Dep. Variable:                    mpg   R-squared:                       0.869\n",
       "Model:                            OLS   Adj. R-squared:                  0.807\n",
       "Method:                 Least Squares   F-statistic:                     13.93\n",
       "Date:                Thu, 20 Feb 2025   Prob (F-statistic):           3.79e-07\n",
       "Time:                        13:25:44   Log-Likelihood:                -69.855\n",
       "No. Observations:                  32   AIC:                             161.7\n",
       "Df Residuals:                      21   BIC:                             177.8\n",
       "Df Model:                          10                                         \n",
       "Covariance Type:            nonrobust                                         \n",
       "==============================================================================\n",
       "                 coef    std err          t      P>|t|      [0.025      0.975]\n",
       "------------------------------------------------------------------------------\n",
       "const         12.3034     18.718      0.657      0.518     -26.623      51.229\n",
       "x1            -0.1114      1.045     -0.107      0.916      -2.285       2.062\n",
       "x2             0.0133      0.018      0.747      0.463      -0.024       0.050\n",
       "x3            -0.0215      0.022     -0.987      0.335      -0.067       0.024\n",
       "x4             0.7871      1.635      0.481      0.635      -2.614       4.188\n",
       "x5            -3.7153      1.894     -1.961      0.063      -7.655       0.224\n",
       "x6             0.8210      0.731      1.123      0.274      -0.699       2.341\n",
       "x7             0.3178      2.105      0.151      0.881      -4.059       4.694\n",
       "x8             2.5202      2.057      1.225      0.234      -1.757       6.797\n",
       "x9             0.6554      1.493      0.439      0.665      -2.450       3.761\n",
       "x10           -0.1994      0.829     -0.241      0.812      -1.923       1.524\n",
       "==============================================================================\n",
       "Omnibus:                        1.907   Durbin-Watson:                   1.861\n",
       "Prob(Omnibus):                  0.385   Jarque-Bera (JB):                1.747\n",
       "Skew:                           0.521   Prob(JB):                        0.418\n",
       "Kurtosis:                       2.526   Cond. No.                     1.22e+04\n",
       "==============================================================================\n",
       "\n",
       "Notes:\n",
       "[1] Standard Errors assume that the covariance matrix of the errors is correctly specified.\n",
       "[2] The condition number is large, 1.22e+04. This might indicate that there are\n",
       "strong multicollinearity or other numerical problems.\n",
       "\"\"\""
      ]
     },
     "execution_count": 268,
     "metadata": {},
     "output_type": "execute_result"
    }
   ],
   "source": [
    "import statsmodels.api as sm\n",
    "ols = sm.OLS(y, X)\n",
    "results = ols.fit()\n",
    "results.summary()"
   ]
  },
  {
   "cell_type": "markdown",
   "id": "388b159c",
   "metadata": {},
   "source": [
    "### Realiza un train-test-split donde se use el 40% de los datos para entrenar. Calcula el R2 de entrenamiento y de prueba."
   ]
  },
  {
   "cell_type": "code",
   "execution_count": 345,
   "id": "fd1b441a",
   "metadata": {},
   "outputs": [],
   "source": [
    "lista1 = [0.869]"
   ]
  },
  {
   "cell_type": "code",
   "execution_count": 346,
   "id": "062e62f7",
   "metadata": {},
   "outputs": [],
   "source": [
    "X = x"
   ]
  },
  {
   "cell_type": "code",
   "execution_count": 347,
   "id": "e61fd198",
   "metadata": {},
   "outputs": [],
   "source": [
    "X_train, X_test, y_train, y_test = train_test_split(X, y, train_size = 0.4, random_state = 2)"
   ]
  },
  {
   "cell_type": "code",
   "execution_count": 348,
   "id": "99f0be73",
   "metadata": {},
   "outputs": [],
   "source": [
    "scaler = StandardScaler()"
   ]
  },
  {
   "cell_type": "code",
   "execution_count": 349,
   "id": "b6bba60c",
   "metadata": {},
   "outputs": [
    {
     "data": {
      "text/html": [
       "<style>#sk-container-id-7 {color: black;}#sk-container-id-7 pre{padding: 0;}#sk-container-id-7 div.sk-toggleable {background-color: white;}#sk-container-id-7 label.sk-toggleable__label {cursor: pointer;display: block;width: 100%;margin-bottom: 0;padding: 0.3em;box-sizing: border-box;text-align: center;}#sk-container-id-7 label.sk-toggleable__label-arrow:before {content: \"▸\";float: left;margin-right: 0.25em;color: #696969;}#sk-container-id-7 label.sk-toggleable__label-arrow:hover:before {color: black;}#sk-container-id-7 div.sk-estimator:hover label.sk-toggleable__label-arrow:before {color: black;}#sk-container-id-7 div.sk-toggleable__content {max-height: 0;max-width: 0;overflow: hidden;text-align: left;background-color: #f0f8ff;}#sk-container-id-7 div.sk-toggleable__content pre {margin: 0.2em;color: black;border-radius: 0.25em;background-color: #f0f8ff;}#sk-container-id-7 input.sk-toggleable__control:checked~div.sk-toggleable__content {max-height: 200px;max-width: 100%;overflow: auto;}#sk-container-id-7 input.sk-toggleable__control:checked~label.sk-toggleable__label-arrow:before {content: \"▾\";}#sk-container-id-7 div.sk-estimator input.sk-toggleable__control:checked~label.sk-toggleable__label {background-color: #d4ebff;}#sk-container-id-7 div.sk-label input.sk-toggleable__control:checked~label.sk-toggleable__label {background-color: #d4ebff;}#sk-container-id-7 input.sk-hidden--visually {border: 0;clip: rect(1px 1px 1px 1px);clip: rect(1px, 1px, 1px, 1px);height: 1px;margin: -1px;overflow: hidden;padding: 0;position: absolute;width: 1px;}#sk-container-id-7 div.sk-estimator {font-family: monospace;background-color: #f0f8ff;border: 1px dotted black;border-radius: 0.25em;box-sizing: border-box;margin-bottom: 0.5em;}#sk-container-id-7 div.sk-estimator:hover {background-color: #d4ebff;}#sk-container-id-7 div.sk-parallel-item::after {content: \"\";width: 100%;border-bottom: 1px solid gray;flex-grow: 1;}#sk-container-id-7 div.sk-label:hover label.sk-toggleable__label {background-color: #d4ebff;}#sk-container-id-7 div.sk-serial::before {content: \"\";position: absolute;border-left: 1px solid gray;box-sizing: border-box;top: 0;bottom: 0;left: 50%;z-index: 0;}#sk-container-id-7 div.sk-serial {display: flex;flex-direction: column;align-items: center;background-color: white;padding-right: 0.2em;padding-left: 0.2em;position: relative;}#sk-container-id-7 div.sk-item {position: relative;z-index: 1;}#sk-container-id-7 div.sk-parallel {display: flex;align-items: stretch;justify-content: center;background-color: white;position: relative;}#sk-container-id-7 div.sk-item::before, #sk-container-id-7 div.sk-parallel-item::before {content: \"\";position: absolute;border-left: 1px solid gray;box-sizing: border-box;top: 0;bottom: 0;left: 50%;z-index: -1;}#sk-container-id-7 div.sk-parallel-item {display: flex;flex-direction: column;z-index: 1;position: relative;background-color: white;}#sk-container-id-7 div.sk-parallel-item:first-child::after {align-self: flex-end;width: 50%;}#sk-container-id-7 div.sk-parallel-item:last-child::after {align-self: flex-start;width: 50%;}#sk-container-id-7 div.sk-parallel-item:only-child::after {width: 0;}#sk-container-id-7 div.sk-dashed-wrapped {border: 1px dashed gray;margin: 0 0.4em 0.5em 0.4em;box-sizing: border-box;padding-bottom: 0.4em;background-color: white;}#sk-container-id-7 div.sk-label label {font-family: monospace;font-weight: bold;display: inline-block;line-height: 1.2em;}#sk-container-id-7 div.sk-label-container {text-align: center;}#sk-container-id-7 div.sk-container {/* jupyter's `normalize.less` sets `[hidden] { display: none; }` but bootstrap.min.css set `[hidden] { display: none !important; }` so we also need the `!important` here to be able to override the default hidden behavior on the sphinx rendered scikit-learn.org. See: https://github.com/scikit-learn/scikit-learn/issues/21755 */display: inline-block !important;position: relative;}#sk-container-id-7 div.sk-text-repr-fallback {display: none;}</style><div id=\"sk-container-id-7\" class=\"sk-top-container\"><div class=\"sk-text-repr-fallback\"><pre>StandardScaler()</pre><b>In a Jupyter environment, please rerun this cell to show the HTML representation or trust the notebook. <br />On GitHub, the HTML representation is unable to render, please try loading this page with nbviewer.org.</b></div><div class=\"sk-container\" hidden><div class=\"sk-item\"><div class=\"sk-estimator sk-toggleable\"><input class=\"sk-toggleable__control sk-hidden--visually\" id=\"sk-estimator-id-7\" type=\"checkbox\" checked><label for=\"sk-estimator-id-7\" class=\"sk-toggleable__label sk-toggleable__label-arrow\">StandardScaler</label><div class=\"sk-toggleable__content\"><pre>StandardScaler()</pre></div></div></div></div></div>"
      ],
      "text/plain": [
       "StandardScaler()"
      ]
     },
     "execution_count": 349,
     "metadata": {},
     "output_type": "execute_result"
    }
   ],
   "source": [
    "scaler.fit(X_train)"
   ]
  },
  {
   "cell_type": "code",
   "execution_count": 350,
   "id": "31e35cb6",
   "metadata": {},
   "outputs": [],
   "source": [
    "X_std_test = scaler.transform(X_test)"
   ]
  },
  {
   "cell_type": "code",
   "execution_count": 351,
   "id": "a7b02721",
   "metadata": {},
   "outputs": [],
   "source": [
    "X_std_train = scaler.transform(X_train)"
   ]
  },
  {
   "cell_type": "code",
   "execution_count": 352,
   "id": "ddb2bd35",
   "metadata": {},
   "outputs": [],
   "source": [
    "model = LinearRegression()"
   ]
  },
  {
   "cell_type": "code",
   "execution_count": 353,
   "id": "b9449346",
   "metadata": {},
   "outputs": [],
   "source": [
    "model = model.fit(X_std_train, y_train)"
   ]
  },
  {
   "cell_type": "markdown",
   "id": "694000cb",
   "metadata": {},
   "source": [
    "#### Train"
   ]
  },
  {
   "cell_type": "code",
   "execution_count": 354,
   "id": "45a239e0",
   "metadata": {},
   "outputs": [],
   "source": [
    "y_pred_train = model.predict(X_std_train)"
   ]
  },
  {
   "cell_type": "code",
   "execution_count": 355,
   "id": "14ae1685",
   "metadata": {},
   "outputs": [
    {
     "data": {
      "text/plain": [
       "1.0"
      ]
     },
     "execution_count": 355,
     "metadata": {},
     "output_type": "execute_result"
    }
   ],
   "source": [
    "r2_train = r2_score(y_train, y_pred_train)\n",
    "lista1.append(r2_train)\n",
    "r2_train"
   ]
  },
  {
   "cell_type": "markdown",
   "id": "5a215c3e",
   "metadata": {},
   "source": [
    "#### Test"
   ]
  },
  {
   "cell_type": "code",
   "execution_count": 357,
   "id": "fe44de42",
   "metadata": {},
   "outputs": [],
   "source": [
    "y_pred_test = model.predict(X_std_test)"
   ]
  },
  {
   "cell_type": "code",
   "execution_count": 358,
   "id": "12cc72db",
   "metadata": {},
   "outputs": [
    {
     "data": {
      "text/plain": [
       "1.0"
      ]
     },
     "execution_count": 358,
     "metadata": {},
     "output_type": "execute_result"
    }
   ],
   "source": [
    "r2_test = r2_score(y_test, y_pred_test)\n",
    "lista1.append(r2_test)\n",
    "r2_test"
   ]
  },
  {
   "cell_type": "markdown",
   "id": "74bde568",
   "metadata": {},
   "source": [
    "### Añade regularización L2 con un hiperparámetro lambda decidido por ti. Cambia este valor y compara con varios distintos los R2 de entrenamiento y de prueba."
   ]
  },
  {
   "cell_type": "markdown",
   "id": "dc27327b",
   "metadata": {},
   "source": [
    "##### Alpha = 15"
   ]
  },
  {
   "cell_type": "code",
   "execution_count": 360,
   "id": "16386e30",
   "metadata": {},
   "outputs": [],
   "source": [
    "from sklearn.linear_model import Ridge"
   ]
  },
  {
   "cell_type": "code",
   "execution_count": 363,
   "id": "9f4ae693",
   "metadata": {},
   "outputs": [
    {
     "name": "stdout",
     "output_type": "stream",
     "text": [
      "0.8613881588069818 0.9012589816624776\n"
     ]
    }
   ],
   "source": [
    "Ridge_al = Ridge(alpha = 15)\n",
    "Ridge_fit = Ridge_al.fit(X_std_train, y_train)\n",
    "\n",
    "y_pred_test_Ridge = Ridge_fit.predict(X_std_test)\n",
    "y_pred_train_Ridge = Ridge_fit.predict(X_std_train)\n",
    "\n",
    "r2_train_Ridge = r2_score(y_train, y_pred_train_Ridge)\n",
    "r2_test_Ridge = r2_score(y_test, y_pred_test_Ridge)\n",
    "\n",
    "lista1.extend([r2_test_Ridge, r2_train_Ridge])\n",
    "\n",
    "print(r2_test_Ridge, r2_train_Ridge)"
   ]
  },
  {
   "cell_type": "markdown",
   "id": "ad205afc",
   "metadata": {},
   "source": [
    "##### Alpha = 5"
   ]
  },
  {
   "cell_type": "code",
   "execution_count": 364,
   "id": "85711157",
   "metadata": {},
   "outputs": [
    {
     "name": "stdout",
     "output_type": "stream",
     "text": [
      "0.8879239076175898 0.9422687403820728\n"
     ]
    }
   ],
   "source": [
    "Ridge_al = Ridge(alpha = 5)\n",
    "Ridge_fit = Ridge_al.fit(X_std_train, y_train)\n",
    "\n",
    "y_pred_test_Ridge = Ridge_fit.predict(X_std_test)\n",
    "y_pred_train_Ridge = Ridge_fit.predict(X_std_train)\n",
    "\n",
    "r2_train_Ridge = r2_score(y_train, y_pred_train_Ridge)\n",
    "r2_test_Ridge = r2_score(y_test, y_pred_test_Ridge)\n",
    "\n",
    "lista1.extend([r2_test_Ridge, r2_train_Ridge])\n",
    "\n",
    "print(r2_test_Ridge, r2_train_Ridge)"
   ]
  },
  {
   "cell_type": "markdown",
   "id": "cfa7e2ab",
   "metadata": {},
   "source": [
    "##### Alpha = 17"
   ]
  },
  {
   "cell_type": "code",
   "execution_count": 366,
   "id": "16040450",
   "metadata": {},
   "outputs": [
    {
     "name": "stdout",
     "output_type": "stream",
     "text": [
      "0.8578889887722235 0.8944850882165978\n"
     ]
    }
   ],
   "source": [
    "Ridge_al = Ridge(alpha = 17)\n",
    "Ridge_fit = Ridge_al.fit(X_std_train, y_train)\n",
    "\n",
    "y_pred_test_Ridge = Ridge_fit.predict(X_std_test)\n",
    "y_pred_train_Ridge = Ridge_fit.predict(X_std_train)\n",
    "\n",
    "r2_train_Ridge = r2_score(y_train, y_pred_train_Ridge)\n",
    "r2_test_Ridge = r2_score(y_test, y_pred_test_Ridge)\n",
    "\n",
    "lista1.extend([r2_test_Ridge, r2_train_Ridge])\n",
    "\n",
    "print(r2_test_Ridge, r2_train_Ridge)"
   ]
  },
  {
   "cell_type": "markdown",
   "id": "f1930d01",
   "metadata": {},
   "source": [
    "##### Alpha = 50"
   ]
  },
  {
   "cell_type": "code",
   "execution_count": 367,
   "id": "af49cef2",
   "metadata": {
    "scrolled": true
   },
   "outputs": [
    {
     "name": "stdout",
     "output_type": "stream",
     "text": [
      "0.7758835035757604 0.7838729387213744\n"
     ]
    }
   ],
   "source": [
    "Ridge_al = Ridge(alpha = 50)\n",
    "Ridge_fit = Ridge_al.fit(X_std_train, y_train)\n",
    "\n",
    "y_pred_test_Ridge = Ridge_fit.predict(X_std_test)\n",
    "y_pred_train_Ridge = Ridge_fit.predict(X_std_train)\n",
    "\n",
    "r2_train_Ridge = r2_score(y_train, y_pred_train_Ridge)\n",
    "r2_test_Ridge = r2_score(y_test, y_pred_test_Ridge)\n",
    "\n",
    "lista1.extend([r2_test_Ridge, r2_train_Ridge])\n",
    "\n",
    "print(r2_test_Ridge, r2_train_Ridge)"
   ]
  },
  {
   "cell_type": "markdown",
   "id": "6f1378fa",
   "metadata": {},
   "source": [
    "### Repite el ejercicio anterior usando 'qsec' como salida."
   ]
  },
  {
   "cell_type": "code",
   "execution_count": 403,
   "id": "02bf8528",
   "metadata": {},
   "outputs": [],
   "source": [
    "y = datadrop[\"qsec\"]\n",
    "x = datadrop.drop(columns = [\"qsec\"])"
   ]
  },
  {
   "cell_type": "markdown",
   "id": "47d39270",
   "metadata": {},
   "source": [
    "#### Regresión Simple"
   ]
  },
  {
   "cell_type": "code",
   "execution_count": 404,
   "id": "a2d3a6be",
   "metadata": {},
   "outputs": [],
   "source": [
    "n = len(x)\n",
    "ones = np.ones([n, 1])\n",
    "X = np.hstack((ones, x))"
   ]
  },
  {
   "cell_type": "code",
   "execution_count": 405,
   "id": "e1c49d1d",
   "metadata": {
    "scrolled": false
   },
   "outputs": [
    {
     "data": {
      "text/html": [
       "<table class=\"simpletable\">\n",
       "<caption>OLS Regression Results</caption>\n",
       "<tr>\n",
       "  <th>Dep. Variable:</th>          <td>qsec</td>       <th>  R-squared:         </th> <td>   0.875</td>\n",
       "</tr>\n",
       "<tr>\n",
       "  <th>Model:</th>                   <td>OLS</td>       <th>  Adj. R-squared:    </th> <td>   0.815</td>\n",
       "</tr>\n",
       "<tr>\n",
       "  <th>Method:</th>             <td>Least Squares</td>  <th>  F-statistic:       </th> <td>   14.66</td>\n",
       "</tr>\n",
       "<tr>\n",
       "  <th>Date:</th>             <td>Thu, 20 Feb 2025</td> <th>  Prob (F-statistic):</th> <td>2.44e-07</td>\n",
       "</tr>\n",
       "<tr>\n",
       "  <th>Time:</th>                 <td>14:26:35</td>     <th>  Log-Likelihood:    </th> <td> -30.242</td>\n",
       "</tr>\n",
       "<tr>\n",
       "  <th>No. Observations:</th>      <td>    32</td>      <th>  AIC:               </th> <td>   82.48</td>\n",
       "</tr>\n",
       "<tr>\n",
       "  <th>Df Residuals:</th>          <td>    21</td>      <th>  BIC:               </th> <td>   98.61</td>\n",
       "</tr>\n",
       "<tr>\n",
       "  <th>Df Model:</th>              <td>    10</td>      <th>                     </th>     <td> </td>   \n",
       "</tr>\n",
       "<tr>\n",
       "  <th>Covariance Type:</th>      <td>nonrobust</td>    <th>                     </th>     <td> </td>   \n",
       "</tr>\n",
       "</table>\n",
       "<table class=\"simpletable\">\n",
       "<tr>\n",
       "    <td></td>       <th>coef</th>     <th>std err</th>      <th>t</th>      <th>P>|t|</th>  <th>[0.025</th>    <th>0.975]</th>  \n",
       "</tr>\n",
       "<tr>\n",
       "  <th>const</th> <td>   17.7762</td> <td>    3.876</td> <td>    4.586</td> <td> 0.000</td> <td>    9.716</td> <td>   25.837</td>\n",
       "</tr>\n",
       "<tr>\n",
       "  <th>x1</th>    <td>    0.0690</td> <td>    0.061</td> <td>    1.123</td> <td> 0.274</td> <td>   -0.059</td> <td>    0.197</td>\n",
       "</tr>\n",
       "<tr>\n",
       "  <th>x2</th>    <td>   -0.3627</td> <td>    0.293</td> <td>   -1.239</td> <td> 0.229</td> <td>   -0.971</td> <td>    0.246</td>\n",
       "</tr>\n",
       "<tr>\n",
       "  <th>x3</th>    <td>   -0.0075</td> <td>    0.005</td> <td>   -1.505</td> <td> 0.147</td> <td>   -0.018</td> <td>    0.003</td>\n",
       "</tr>\n",
       "<tr>\n",
       "  <th>x4</th>    <td>   -0.0016</td> <td>    0.006</td> <td>   -0.242</td> <td> 0.811</td> <td>   -0.015</td> <td>    0.012</td>\n",
       "</tr>\n",
       "<tr>\n",
       "  <th>x5</th>    <td>   -0.1311</td> <td>    0.476</td> <td>   -0.275</td> <td> 0.786</td> <td>   -1.121</td> <td>    0.859</td>\n",
       "</tr>\n",
       "<tr>\n",
       "  <th>x6</th>    <td>    1.4963</td> <td>    0.500</td> <td>    2.990</td> <td> 0.007</td> <td>    0.456</td> <td>    2.537</td>\n",
       "</tr>\n",
       "<tr>\n",
       "  <th>x7</th>    <td>    0.9700</td> <td>    0.573</td> <td>    1.694</td> <td> 0.105</td> <td>   -0.221</td> <td>    2.161</td>\n",
       "</tr>\n",
       "<tr>\n",
       "  <th>x8</th>    <td>   -0.9012</td> <td>    0.585</td> <td>   -1.540</td> <td> 0.139</td> <td>   -2.118</td> <td>    0.316</td>\n",
       "</tr>\n",
       "<tr>\n",
       "  <th>x9</th>    <td>   -0.2013</td> <td>    0.433</td> <td>   -0.465</td> <td> 0.647</td> <td>   -1.101</td> <td>    0.699</td>\n",
       "</tr>\n",
       "<tr>\n",
       "  <th>x10</th>   <td>   -0.2736</td> <td>    0.233</td> <td>   -1.174</td> <td> 0.254</td> <td>   -0.758</td> <td>    0.211</td>\n",
       "</tr>\n",
       "</table>\n",
       "<table class=\"simpletable\">\n",
       "<tr>\n",
       "  <th>Omnibus:</th>       <td>21.069</td> <th>  Durbin-Watson:     </th> <td>   2.573</td>\n",
       "</tr>\n",
       "<tr>\n",
       "  <th>Prob(Omnibus):</th> <td> 0.000</td> <th>  Jarque-Bera (JB):  </th> <td>  38.291</td>\n",
       "</tr>\n",
       "<tr>\n",
       "  <th>Skew:</th>          <td> 1.470</td> <th>  Prob(JB):          </th> <td>4.84e-09</td>\n",
       "</tr>\n",
       "<tr>\n",
       "  <th>Kurtosis:</th>      <td> 7.481</td> <th>  Cond. No.          </th> <td>8.77e+03</td>\n",
       "</tr>\n",
       "</table><br/><br/>Notes:<br/>[1] Standard Errors assume that the covariance matrix of the errors is correctly specified.<br/>[2] The condition number is large, 8.77e+03. This might indicate that there are<br/>strong multicollinearity or other numerical problems."
      ],
      "text/latex": [
       "\\begin{center}\n",
       "\\begin{tabular}{lclc}\n",
       "\\toprule\n",
       "\\textbf{Dep. Variable:}    &       qsec       & \\textbf{  R-squared:         } &     0.875   \\\\\n",
       "\\textbf{Model:}            &       OLS        & \\textbf{  Adj. R-squared:    } &     0.815   \\\\\n",
       "\\textbf{Method:}           &  Least Squares   & \\textbf{  F-statistic:       } &     14.66   \\\\\n",
       "\\textbf{Date:}             & Thu, 20 Feb 2025 & \\textbf{  Prob (F-statistic):} &  2.44e-07   \\\\\n",
       "\\textbf{Time:}             &     14:26:35     & \\textbf{  Log-Likelihood:    } &   -30.242   \\\\\n",
       "\\textbf{No. Observations:} &          32      & \\textbf{  AIC:               } &     82.48   \\\\\n",
       "\\textbf{Df Residuals:}     &          21      & \\textbf{  BIC:               } &     98.61   \\\\\n",
       "\\textbf{Df Model:}         &          10      & \\textbf{                     } &             \\\\\n",
       "\\textbf{Covariance Type:}  &    nonrobust     & \\textbf{                     } &             \\\\\n",
       "\\bottomrule\n",
       "\\end{tabular}\n",
       "\\begin{tabular}{lcccccc}\n",
       "               & \\textbf{coef} & \\textbf{std err} & \\textbf{t} & \\textbf{P$> |$t$|$} & \\textbf{[0.025} & \\textbf{0.975]}  \\\\\n",
       "\\midrule\n",
       "\\textbf{const} &      17.7762  &        3.876     &     4.586  &         0.000        &        9.716    &       25.837     \\\\\n",
       "\\textbf{x1}    &       0.0690  &        0.061     &     1.123  &         0.274        &       -0.059    &        0.197     \\\\\n",
       "\\textbf{x2}    &      -0.3627  &        0.293     &    -1.239  &         0.229        &       -0.971    &        0.246     \\\\\n",
       "\\textbf{x3}    &      -0.0075  &        0.005     &    -1.505  &         0.147        &       -0.018    &        0.003     \\\\\n",
       "\\textbf{x4}    &      -0.0016  &        0.006     &    -0.242  &         0.811        &       -0.015    &        0.012     \\\\\n",
       "\\textbf{x5}    &      -0.1311  &        0.476     &    -0.275  &         0.786        &       -1.121    &        0.859     \\\\\n",
       "\\textbf{x6}    &       1.4963  &        0.500     &     2.990  &         0.007        &        0.456    &        2.537     \\\\\n",
       "\\textbf{x7}    &       0.9700  &        0.573     &     1.694  &         0.105        &       -0.221    &        2.161     \\\\\n",
       "\\textbf{x8}    &      -0.9012  &        0.585     &    -1.540  &         0.139        &       -2.118    &        0.316     \\\\\n",
       "\\textbf{x9}    &      -0.2013  &        0.433     &    -0.465  &         0.647        &       -1.101    &        0.699     \\\\\n",
       "\\textbf{x10}   &      -0.2736  &        0.233     &    -1.174  &         0.254        &       -0.758    &        0.211     \\\\\n",
       "\\bottomrule\n",
       "\\end{tabular}\n",
       "\\begin{tabular}{lclc}\n",
       "\\textbf{Omnibus:}       & 21.069 & \\textbf{  Durbin-Watson:     } &    2.573  \\\\\n",
       "\\textbf{Prob(Omnibus):} &  0.000 & \\textbf{  Jarque-Bera (JB):  } &   38.291  \\\\\n",
       "\\textbf{Skew:}          &  1.470 & \\textbf{  Prob(JB):          } & 4.84e-09  \\\\\n",
       "\\textbf{Kurtosis:}      &  7.481 & \\textbf{  Cond. No.          } & 8.77e+03  \\\\\n",
       "\\bottomrule\n",
       "\\end{tabular}\n",
       "%\\caption{OLS Regression Results}\n",
       "\\end{center}\n",
       "\n",
       "Notes: \\newline\n",
       " [1] Standard Errors assume that the covariance matrix of the errors is correctly specified. \\newline\n",
       " [2] The condition number is large, 8.77e+03. This might indicate that there are \\newline\n",
       " strong multicollinearity or other numerical problems."
      ],
      "text/plain": [
       "<class 'statsmodels.iolib.summary.Summary'>\n",
       "\"\"\"\n",
       "                            OLS Regression Results                            \n",
       "==============================================================================\n",
       "Dep. Variable:                   qsec   R-squared:                       0.875\n",
       "Model:                            OLS   Adj. R-squared:                  0.815\n",
       "Method:                 Least Squares   F-statistic:                     14.66\n",
       "Date:                Thu, 20 Feb 2025   Prob (F-statistic):           2.44e-07\n",
       "Time:                        14:26:35   Log-Likelihood:                -30.242\n",
       "No. Observations:                  32   AIC:                             82.48\n",
       "Df Residuals:                      21   BIC:                             98.61\n",
       "Df Model:                          10                                         \n",
       "Covariance Type:            nonrobust                                         \n",
       "==============================================================================\n",
       "                 coef    std err          t      P>|t|      [0.025      0.975]\n",
       "------------------------------------------------------------------------------\n",
       "const         17.7762      3.876      4.586      0.000       9.716      25.837\n",
       "x1             0.0690      0.061      1.123      0.274      -0.059       0.197\n",
       "x2            -0.3627      0.293     -1.239      0.229      -0.971       0.246\n",
       "x3            -0.0075      0.005     -1.505      0.147      -0.018       0.003\n",
       "x4            -0.0016      0.006     -0.242      0.811      -0.015       0.012\n",
       "x5            -0.1311      0.476     -0.275      0.786      -1.121       0.859\n",
       "x6             1.4963      0.500      2.990      0.007       0.456       2.537\n",
       "x7             0.9700      0.573      1.694      0.105      -0.221       2.161\n",
       "x8            -0.9012      0.585     -1.540      0.139      -2.118       0.316\n",
       "x9            -0.2013      0.433     -0.465      0.647      -1.101       0.699\n",
       "x10           -0.2736      0.233     -1.174      0.254      -0.758       0.211\n",
       "==============================================================================\n",
       "Omnibus:                       21.069   Durbin-Watson:                   2.573\n",
       "Prob(Omnibus):                  0.000   Jarque-Bera (JB):               38.291\n",
       "Skew:                           1.470   Prob(JB):                     4.84e-09\n",
       "Kurtosis:                       7.481   Cond. No.                     8.77e+03\n",
       "==============================================================================\n",
       "\n",
       "Notes:\n",
       "[1] Standard Errors assume that the covariance matrix of the errors is correctly specified.\n",
       "[2] The condition number is large, 8.77e+03. This might indicate that there are\n",
       "strong multicollinearity or other numerical problems.\n",
       "\"\"\""
      ]
     },
     "execution_count": 405,
     "metadata": {},
     "output_type": "execute_result"
    }
   ],
   "source": [
    "import statsmodels.api as sm\n",
    "ols = sm.OLS(y, X)\n",
    "results = ols.fit()\n",
    "results.summary()"
   ]
  },
  {
   "cell_type": "code",
   "execution_count": 406,
   "id": "5aa79418",
   "metadata": {},
   "outputs": [],
   "source": [
    "lista2 = [0.875]"
   ]
  },
  {
   "cell_type": "markdown",
   "id": "7331104a",
   "metadata": {},
   "source": [
    "#### Train, test, split"
   ]
  },
  {
   "cell_type": "code",
   "execution_count": 407,
   "id": "7f73eb97",
   "metadata": {},
   "outputs": [],
   "source": [
    "X = np.hstack((ones, x))"
   ]
  },
  {
   "cell_type": "code",
   "execution_count": 408,
   "id": "8023dcd8",
   "metadata": {},
   "outputs": [],
   "source": [
    "X_train, X_test, y_train, y_test = train_test_split(X, y, train_size = 0.4, random_state = 2)"
   ]
  },
  {
   "cell_type": "code",
   "execution_count": 409,
   "id": "79b71488",
   "metadata": {},
   "outputs": [],
   "source": [
    "scaler = StandardScaler()"
   ]
  },
  {
   "cell_type": "code",
   "execution_count": 410,
   "id": "ba2445a5",
   "metadata": {},
   "outputs": [
    {
     "data": {
      "text/html": [
       "<style>#sk-container-id-10 {color: black;}#sk-container-id-10 pre{padding: 0;}#sk-container-id-10 div.sk-toggleable {background-color: white;}#sk-container-id-10 label.sk-toggleable__label {cursor: pointer;display: block;width: 100%;margin-bottom: 0;padding: 0.3em;box-sizing: border-box;text-align: center;}#sk-container-id-10 label.sk-toggleable__label-arrow:before {content: \"▸\";float: left;margin-right: 0.25em;color: #696969;}#sk-container-id-10 label.sk-toggleable__label-arrow:hover:before {color: black;}#sk-container-id-10 div.sk-estimator:hover label.sk-toggleable__label-arrow:before {color: black;}#sk-container-id-10 div.sk-toggleable__content {max-height: 0;max-width: 0;overflow: hidden;text-align: left;background-color: #f0f8ff;}#sk-container-id-10 div.sk-toggleable__content pre {margin: 0.2em;color: black;border-radius: 0.25em;background-color: #f0f8ff;}#sk-container-id-10 input.sk-toggleable__control:checked~div.sk-toggleable__content {max-height: 200px;max-width: 100%;overflow: auto;}#sk-container-id-10 input.sk-toggleable__control:checked~label.sk-toggleable__label-arrow:before {content: \"▾\";}#sk-container-id-10 div.sk-estimator input.sk-toggleable__control:checked~label.sk-toggleable__label {background-color: #d4ebff;}#sk-container-id-10 div.sk-label input.sk-toggleable__control:checked~label.sk-toggleable__label {background-color: #d4ebff;}#sk-container-id-10 input.sk-hidden--visually {border: 0;clip: rect(1px 1px 1px 1px);clip: rect(1px, 1px, 1px, 1px);height: 1px;margin: -1px;overflow: hidden;padding: 0;position: absolute;width: 1px;}#sk-container-id-10 div.sk-estimator {font-family: monospace;background-color: #f0f8ff;border: 1px dotted black;border-radius: 0.25em;box-sizing: border-box;margin-bottom: 0.5em;}#sk-container-id-10 div.sk-estimator:hover {background-color: #d4ebff;}#sk-container-id-10 div.sk-parallel-item::after {content: \"\";width: 100%;border-bottom: 1px solid gray;flex-grow: 1;}#sk-container-id-10 div.sk-label:hover label.sk-toggleable__label {background-color: #d4ebff;}#sk-container-id-10 div.sk-serial::before {content: \"\";position: absolute;border-left: 1px solid gray;box-sizing: border-box;top: 0;bottom: 0;left: 50%;z-index: 0;}#sk-container-id-10 div.sk-serial {display: flex;flex-direction: column;align-items: center;background-color: white;padding-right: 0.2em;padding-left: 0.2em;position: relative;}#sk-container-id-10 div.sk-item {position: relative;z-index: 1;}#sk-container-id-10 div.sk-parallel {display: flex;align-items: stretch;justify-content: center;background-color: white;position: relative;}#sk-container-id-10 div.sk-item::before, #sk-container-id-10 div.sk-parallel-item::before {content: \"\";position: absolute;border-left: 1px solid gray;box-sizing: border-box;top: 0;bottom: 0;left: 50%;z-index: -1;}#sk-container-id-10 div.sk-parallel-item {display: flex;flex-direction: column;z-index: 1;position: relative;background-color: white;}#sk-container-id-10 div.sk-parallel-item:first-child::after {align-self: flex-end;width: 50%;}#sk-container-id-10 div.sk-parallel-item:last-child::after {align-self: flex-start;width: 50%;}#sk-container-id-10 div.sk-parallel-item:only-child::after {width: 0;}#sk-container-id-10 div.sk-dashed-wrapped {border: 1px dashed gray;margin: 0 0.4em 0.5em 0.4em;box-sizing: border-box;padding-bottom: 0.4em;background-color: white;}#sk-container-id-10 div.sk-label label {font-family: monospace;font-weight: bold;display: inline-block;line-height: 1.2em;}#sk-container-id-10 div.sk-label-container {text-align: center;}#sk-container-id-10 div.sk-container {/* jupyter's `normalize.less` sets `[hidden] { display: none; }` but bootstrap.min.css set `[hidden] { display: none !important; }` so we also need the `!important` here to be able to override the default hidden behavior on the sphinx rendered scikit-learn.org. See: https://github.com/scikit-learn/scikit-learn/issues/21755 */display: inline-block !important;position: relative;}#sk-container-id-10 div.sk-text-repr-fallback {display: none;}</style><div id=\"sk-container-id-10\" class=\"sk-top-container\"><div class=\"sk-text-repr-fallback\"><pre>StandardScaler()</pre><b>In a Jupyter environment, please rerun this cell to show the HTML representation or trust the notebook. <br />On GitHub, the HTML representation is unable to render, please try loading this page with nbviewer.org.</b></div><div class=\"sk-container\" hidden><div class=\"sk-item\"><div class=\"sk-estimator sk-toggleable\"><input class=\"sk-toggleable__control sk-hidden--visually\" id=\"sk-estimator-id-10\" type=\"checkbox\" checked><label for=\"sk-estimator-id-10\" class=\"sk-toggleable__label sk-toggleable__label-arrow\">StandardScaler</label><div class=\"sk-toggleable__content\"><pre>StandardScaler()</pre></div></div></div></div></div>"
      ],
      "text/plain": [
       "StandardScaler()"
      ]
     },
     "execution_count": 410,
     "metadata": {},
     "output_type": "execute_result"
    }
   ],
   "source": [
    "scaler.fit(X_train)"
   ]
  },
  {
   "cell_type": "code",
   "execution_count": 411,
   "id": "0c154e1c",
   "metadata": {},
   "outputs": [],
   "source": [
    "X_std_test = scaler.transform(X_test)\n",
    "X_std_train = scaler.transform(X_train)"
   ]
  },
  {
   "cell_type": "code",
   "execution_count": 412,
   "id": "27e8345d",
   "metadata": {},
   "outputs": [],
   "source": [
    "model = LinearRegression()"
   ]
  },
  {
   "cell_type": "code",
   "execution_count": 413,
   "id": "43c6b2a5",
   "metadata": {},
   "outputs": [],
   "source": [
    "model = model.fit(X_std_train, y_train)"
   ]
  },
  {
   "cell_type": "markdown",
   "id": "2d71501c",
   "metadata": {},
   "source": [
    "##### Train"
   ]
  },
  {
   "cell_type": "code",
   "execution_count": 414,
   "id": "dc23292a",
   "metadata": {},
   "outputs": [],
   "source": [
    "y_pred_train = model.predict(X_std_train)"
   ]
  },
  {
   "cell_type": "code",
   "execution_count": 415,
   "id": "ef0bdbf8",
   "metadata": {},
   "outputs": [
    {
     "data": {
      "text/plain": [
       "0.9963797476922347"
      ]
     },
     "execution_count": 415,
     "metadata": {},
     "output_type": "execute_result"
    }
   ],
   "source": [
    "r2_train = r2_score(y_train, y_pred_train)\n",
    "lista2.append(r2_train)\n",
    "r2_train"
   ]
  },
  {
   "cell_type": "markdown",
   "id": "cffd7dff",
   "metadata": {},
   "source": [
    "##### Test"
   ]
  },
  {
   "cell_type": "code",
   "execution_count": 416,
   "id": "bad09efb",
   "metadata": {},
   "outputs": [],
   "source": [
    "y_pred_test = model.predict(X_std_test)"
   ]
  },
  {
   "cell_type": "code",
   "execution_count": 417,
   "id": "6b2043c2",
   "metadata": {},
   "outputs": [
    {
     "data": {
      "text/plain": [
       "-7.944450980018551"
      ]
     },
     "execution_count": 417,
     "metadata": {},
     "output_type": "execute_result"
    }
   ],
   "source": [
    "r2_test = r2_score(y_test, y_pred_test)\n",
    "lista2.append(r2_test)\n",
    "r2_test"
   ]
  },
  {
   "cell_type": "markdown",
   "id": "462e9cc3",
   "metadata": {},
   "source": [
    "#### Regularización con L2"
   ]
  },
  {
   "cell_type": "markdown",
   "id": "29b57613",
   "metadata": {},
   "source": [
    "##### Alpha = 15"
   ]
  },
  {
   "cell_type": "code",
   "execution_count": 419,
   "id": "153c15e5",
   "metadata": {
    "scrolled": true
   },
   "outputs": [
    {
     "name": "stdout",
     "output_type": "stream",
     "text": [
      "0.71179681957213 0.6640722165881741\n"
     ]
    }
   ],
   "source": [
    "Ridge_al = Ridge(alpha = 15)\n",
    "Ridge_fit = Ridge_al.fit(X_std_train, y_train)\n",
    "\n",
    "y_pred_test_Ridge = Ridge_fit.predict(X_std_test)\n",
    "y_pred_train_Ridge = Ridge_fit.predict(X_std_train)\n",
    "\n",
    "r2_train_Ridge = r2_score(y_train, y_pred_train_Ridge)\n",
    "r2_test_Ridge = r2_score(y_test, y_pred_test_Ridge)\n",
    "\n",
    "lista2.extend([r2_test_Ridge, r2_train_Ridge])\n",
    "\n",
    "print(r2_test_Ridge, r2_train_Ridge)"
   ]
  },
  {
   "cell_type": "markdown",
   "id": "309133c7",
   "metadata": {},
   "source": [
    "##### Alpha = 5"
   ]
  },
  {
   "cell_type": "code",
   "execution_count": 420,
   "id": "c81a068f",
   "metadata": {},
   "outputs": [
    {
     "name": "stdout",
     "output_type": "stream",
     "text": [
      "0.7528084615845106 0.805298020483743\n"
     ]
    }
   ],
   "source": [
    "Ridge_al = Ridge(alpha = 5)\n",
    "Ridge_fit = Ridge_al.fit(X_std_train, y_train)\n",
    "\n",
    "y_pred_test_Ridge = Ridge_fit.predict(X_std_test)\n",
    "y_pred_train_Ridge = Ridge_fit.predict(X_std_train)\n",
    "\n",
    "r2_train_Ridge = r2_score(y_train, y_pred_train_Ridge)\n",
    "r2_test_Ridge = r2_score(y_test, y_pred_test_Ridge)\n",
    "\n",
    "lista2.extend([r2_test_Ridge, r2_train_Ridge])\n",
    "\n",
    "print(r2_test_Ridge, r2_train_Ridge)"
   ]
  },
  {
   "cell_type": "markdown",
   "id": "272980d0",
   "metadata": {},
   "source": [
    "##### Alpha = 17"
   ]
  },
  {
   "cell_type": "code",
   "execution_count": 421,
   "id": "d081202a",
   "metadata": {},
   "outputs": [
    {
     "name": "stdout",
     "output_type": "stream",
     "text": [
      "0.6967495095929996 0.6421526279596659\n"
     ]
    }
   ],
   "source": [
    "Ridge_al = Ridge(alpha = 17)\n",
    "Ridge_fit = Ridge_al.fit(X_std_train, y_train)\n",
    "\n",
    "y_pred_test_Ridge = Ridge_fit.predict(X_std_test)\n",
    "y_pred_train_Ridge = Ridge_fit.predict(X_std_train)\n",
    "\n",
    "r2_train_Ridge = r2_score(y_train, y_pred_train_Ridge)\n",
    "r2_test_Ridge = r2_score(y_test, y_pred_test_Ridge)\n",
    "\n",
    "lista2.extend([r2_test_Ridge, r2_train_Ridge])\n",
    "\n",
    "print(r2_test_Ridge, r2_train_Ridge)"
   ]
  },
  {
   "cell_type": "markdown",
   "id": "94c43c9f",
   "metadata": {},
   "source": [
    "##### Alpha = 50"
   ]
  },
  {
   "cell_type": "code",
   "execution_count": 422,
   "id": "3de12cf6",
   "metadata": {},
   "outputs": [
    {
     "name": "stdout",
     "output_type": "stream",
     "text": [
      "0.46941217846632544 0.4239965938629583\n"
     ]
    }
   ],
   "source": [
    "Ridge_al = Ridge(alpha = 50)\n",
    "Ridge_fit = Ridge_al.fit(X_std_train, y_train)\n",
    "\n",
    "y_pred_test_Ridge = Ridge_fit.predict(X_std_test)\n",
    "y_pred_train_Ridge = Ridge_fit.predict(X_std_train)\n",
    "\n",
    "r2_train_Ridge = r2_score(y_train, y_pred_train_Ridge)\n",
    "r2_test_Ridge = r2_score(y_test, y_pred_test_Ridge)\n",
    "\n",
    "lista2.extend([r2_test_Ridge, r2_train_Ridge])\n",
    "\n",
    "print(r2_test_Ridge, r2_train_Ridge)"
   ]
  },
  {
   "cell_type": "markdown",
   "id": "17db9597",
   "metadata": {},
   "source": [
    "### Calcula el R2 e interpreta los signos de los betas pero ahora has dummies ciertas columnas"
   ]
  },
  {
   "cell_type": "code",
   "execution_count": 426,
   "id": "39489d29",
   "metadata": {},
   "outputs": [],
   "source": [
    "lista3 = []"
   ]
  },
  {
   "cell_type": "code",
   "execution_count": 427,
   "id": "fd5182c5",
   "metadata": {},
   "outputs": [],
   "source": [
    "x = datadrop.drop(columns = [\"mpg\"])\n",
    "y = datadrop[\"mpg\"]"
   ]
  },
  {
   "cell_type": "code",
   "execution_count": 428,
   "id": "87a30d01",
   "metadata": {},
   "outputs": [],
   "source": [
    "numerical_features = ['disp', 'hp', 'drat', 'wt', 'vs', 'am', 'qsec']\n",
    "cualidades_categorias = [\"cyl\", \"gear\", \"carb\"]"
   ]
  },
  {
   "cell_type": "code",
   "execution_count": 429,
   "id": "9bee3a9e",
   "metadata": {},
   "outputs": [
    {
     "data": {
      "text/html": [
       "<div>\n",
       "<style scoped>\n",
       "    .dataframe tbody tr th:only-of-type {\n",
       "        vertical-align: middle;\n",
       "    }\n",
       "\n",
       "    .dataframe tbody tr th {\n",
       "        vertical-align: top;\n",
       "    }\n",
       "\n",
       "    .dataframe thead th {\n",
       "        text-align: right;\n",
       "    }\n",
       "</style>\n",
       "<table border=\"1\" class=\"dataframe\">\n",
       "  <thead>\n",
       "    <tr style=\"text-align: right;\">\n",
       "      <th></th>\n",
       "      <th>cyl</th>\n",
       "      <th>disp</th>\n",
       "      <th>hp</th>\n",
       "      <th>drat</th>\n",
       "      <th>wt</th>\n",
       "      <th>qsec</th>\n",
       "      <th>vs</th>\n",
       "      <th>am</th>\n",
       "      <th>gear</th>\n",
       "      <th>carb</th>\n",
       "    </tr>\n",
       "  </thead>\n",
       "  <tbody>\n",
       "    <tr>\n",
       "      <th>0</th>\n",
       "      <td>6</td>\n",
       "      <td>160.0</td>\n",
       "      <td>110</td>\n",
       "      <td>3.90</td>\n",
       "      <td>2.620</td>\n",
       "      <td>16.46</td>\n",
       "      <td>0</td>\n",
       "      <td>1</td>\n",
       "      <td>4</td>\n",
       "      <td>4</td>\n",
       "    </tr>\n",
       "    <tr>\n",
       "      <th>1</th>\n",
       "      <td>6</td>\n",
       "      <td>160.0</td>\n",
       "      <td>110</td>\n",
       "      <td>3.90</td>\n",
       "      <td>2.875</td>\n",
       "      <td>17.02</td>\n",
       "      <td>0</td>\n",
       "      <td>1</td>\n",
       "      <td>4</td>\n",
       "      <td>4</td>\n",
       "    </tr>\n",
       "    <tr>\n",
       "      <th>2</th>\n",
       "      <td>4</td>\n",
       "      <td>108.0</td>\n",
       "      <td>93</td>\n",
       "      <td>3.85</td>\n",
       "      <td>2.320</td>\n",
       "      <td>18.61</td>\n",
       "      <td>1</td>\n",
       "      <td>1</td>\n",
       "      <td>4</td>\n",
       "      <td>1</td>\n",
       "    </tr>\n",
       "    <tr>\n",
       "      <th>3</th>\n",
       "      <td>6</td>\n",
       "      <td>258.0</td>\n",
       "      <td>110</td>\n",
       "      <td>3.08</td>\n",
       "      <td>3.215</td>\n",
       "      <td>19.44</td>\n",
       "      <td>1</td>\n",
       "      <td>0</td>\n",
       "      <td>3</td>\n",
       "      <td>1</td>\n",
       "    </tr>\n",
       "    <tr>\n",
       "      <th>4</th>\n",
       "      <td>8</td>\n",
       "      <td>360.0</td>\n",
       "      <td>175</td>\n",
       "      <td>3.15</td>\n",
       "      <td>3.440</td>\n",
       "      <td>17.02</td>\n",
       "      <td>0</td>\n",
       "      <td>0</td>\n",
       "      <td>3</td>\n",
       "      <td>2</td>\n",
       "    </tr>\n",
       "  </tbody>\n",
       "</table>\n",
       "</div>"
      ],
      "text/plain": [
       "   cyl   disp   hp  drat     wt   qsec  vs  am  gear  carb\n",
       "0    6  160.0  110  3.90  2.620  16.46   0   1     4     4\n",
       "1    6  160.0  110  3.90  2.875  17.02   0   1     4     4\n",
       "2    4  108.0   93  3.85  2.320  18.61   1   1     4     1\n",
       "3    6  258.0  110  3.08  3.215  19.44   1   0     3     1\n",
       "4    8  360.0  175  3.15  3.440  17.02   0   0     3     2"
      ]
     },
     "execution_count": 429,
     "metadata": {},
     "output_type": "execute_result"
    }
   ],
   "source": [
    "x.head(5)"
   ]
  },
  {
   "cell_type": "code",
   "execution_count": 430,
   "id": "248c58bc",
   "metadata": {},
   "outputs": [
    {
     "data": {
      "text/html": [
       "<div>\n",
       "<style scoped>\n",
       "    .dataframe tbody tr th:only-of-type {\n",
       "        vertical-align: middle;\n",
       "    }\n",
       "\n",
       "    .dataframe tbody tr th {\n",
       "        vertical-align: top;\n",
       "    }\n",
       "\n",
       "    .dataframe thead th {\n",
       "        text-align: right;\n",
       "    }\n",
       "</style>\n",
       "<table border=\"1\" class=\"dataframe\">\n",
       "  <thead>\n",
       "    <tr style=\"text-align: right;\">\n",
       "      <th></th>\n",
       "      <th>cyl_4</th>\n",
       "      <th>cyl_6</th>\n",
       "      <th>cyl_8</th>\n",
       "      <th>gear_3</th>\n",
       "      <th>gear_4</th>\n",
       "      <th>gear_5</th>\n",
       "      <th>carb_1</th>\n",
       "      <th>carb_2</th>\n",
       "      <th>carb_3</th>\n",
       "      <th>carb_4</th>\n",
       "      <th>carb_6</th>\n",
       "      <th>carb_8</th>\n",
       "    </tr>\n",
       "  </thead>\n",
       "  <tbody>\n",
       "    <tr>\n",
       "      <th>0</th>\n",
       "      <td>0</td>\n",
       "      <td>1</td>\n",
       "      <td>0</td>\n",
       "      <td>0</td>\n",
       "      <td>1</td>\n",
       "      <td>0</td>\n",
       "      <td>0</td>\n",
       "      <td>0</td>\n",
       "      <td>0</td>\n",
       "      <td>1</td>\n",
       "      <td>0</td>\n",
       "      <td>0</td>\n",
       "    </tr>\n",
       "    <tr>\n",
       "      <th>1</th>\n",
       "      <td>0</td>\n",
       "      <td>1</td>\n",
       "      <td>0</td>\n",
       "      <td>0</td>\n",
       "      <td>1</td>\n",
       "      <td>0</td>\n",
       "      <td>0</td>\n",
       "      <td>0</td>\n",
       "      <td>0</td>\n",
       "      <td>1</td>\n",
       "      <td>0</td>\n",
       "      <td>0</td>\n",
       "    </tr>\n",
       "    <tr>\n",
       "      <th>2</th>\n",
       "      <td>1</td>\n",
       "      <td>0</td>\n",
       "      <td>0</td>\n",
       "      <td>0</td>\n",
       "      <td>1</td>\n",
       "      <td>0</td>\n",
       "      <td>1</td>\n",
       "      <td>0</td>\n",
       "      <td>0</td>\n",
       "      <td>0</td>\n",
       "      <td>0</td>\n",
       "      <td>0</td>\n",
       "    </tr>\n",
       "    <tr>\n",
       "      <th>3</th>\n",
       "      <td>0</td>\n",
       "      <td>1</td>\n",
       "      <td>0</td>\n",
       "      <td>1</td>\n",
       "      <td>0</td>\n",
       "      <td>0</td>\n",
       "      <td>1</td>\n",
       "      <td>0</td>\n",
       "      <td>0</td>\n",
       "      <td>0</td>\n",
       "      <td>0</td>\n",
       "      <td>0</td>\n",
       "    </tr>\n",
       "    <tr>\n",
       "      <th>4</th>\n",
       "      <td>0</td>\n",
       "      <td>0</td>\n",
       "      <td>1</td>\n",
       "      <td>1</td>\n",
       "      <td>0</td>\n",
       "      <td>0</td>\n",
       "      <td>0</td>\n",
       "      <td>1</td>\n",
       "      <td>0</td>\n",
       "      <td>0</td>\n",
       "      <td>0</td>\n",
       "      <td>0</td>\n",
       "    </tr>\n",
       "  </tbody>\n",
       "</table>\n",
       "</div>"
      ],
      "text/plain": [
       "   cyl_4  cyl_6  cyl_8  gear_3  gear_4  gear_5  carb_1  carb_2  carb_3  \\\n",
       "0      0      1      0       0       1       0       0       0       0   \n",
       "1      0      1      0       0       1       0       0       0       0   \n",
       "2      1      0      0       0       1       0       1       0       0   \n",
       "3      0      1      0       1       0       0       1       0       0   \n",
       "4      0      0      1       1       0       0       0       1       0   \n",
       "\n",
       "   carb_4  carb_6  carb_8  \n",
       "0       1       0       0  \n",
       "1       1       0       0  \n",
       "2       0       0       0  \n",
       "3       0       0       0  \n",
       "4       0       0       0  "
      ]
     },
     "execution_count": 430,
     "metadata": {},
     "output_type": "execute_result"
    }
   ],
   "source": [
    "encoded_features = pd.get_dummies(x[cualidades_categorias], \n",
    "               columns=cualidades_categorias, \n",
    "               drop_first=False)\n",
    "encoded_features.head(5)"
   ]
  },
  {
   "cell_type": "code",
   "execution_count": 431,
   "id": "fd93c9a0",
   "metadata": {},
   "outputs": [],
   "source": [
    "data_to_model_standarized = StandardScaler().fit_transform(x[numerical_features])\n",
    "\n",
    "data_to_model_df = pd.DataFrame(data_to_model_standarized, \n",
    "                                columns=numerical_features).reset_index()\n",
    "\n",
    "encoded_features_df = encoded_features.reset_index()\n",
    "\n",
    "data_to_model = data_to_model_df.merge(encoded_features_df, on='index')\n",
    "\n",
    "data_to_model = data_to_model.drop('index', axis=1)"
   ]
  },
  {
   "cell_type": "code",
   "execution_count": 432,
   "id": "8e055d31",
   "metadata": {},
   "outputs": [],
   "source": [
    "X = data_to_model"
   ]
  },
  {
   "cell_type": "code",
   "execution_count": 433,
   "id": "20a6957d",
   "metadata": {},
   "outputs": [],
   "source": [
    "model = LinearRegression()\n",
    "model = model.fit(X, y1)\n",
    "\n",
    "intercept = model.intercept_\n",
    "coef = model.coef_\n",
    "r2 = model.score(X,y1)\n",
    "lista3.append(r2)"
   ]
  },
  {
   "cell_type": "code",
   "execution_count": 435,
   "id": "8e76fcc2",
   "metadata": {},
   "outputs": [
    {
     "data": {
      "text/plain": [
       "(0.8930749320864843,\n",
       " array([ 4.33618166, -4.75801768,  0.62247393, -4.36239021,  0.95785319,\n",
       "         0.59530917,  0.64696571,  0.99495275, -1.65374252,  0.65878977,\n",
       "        -1.21425031, -0.09989537,  1.31414568, -2.4732813 , -3.45263562,\n",
       "         0.52635745, -1.38185841,  2.00428791,  4.77712996]))"
      ]
     },
     "execution_count": 435,
     "metadata": {},
     "output_type": "execute_result"
    }
   ],
   "source": [
    "r2, coef"
   ]
  },
  {
   "cell_type": "markdown",
   "id": "5d93fa6c",
   "metadata": {},
   "source": [
    "### Realiza un train-test-split donde se use el 40% de los datos para entrenar. Calcula el R2 de entrenamiento y de prueba."
   ]
  },
  {
   "cell_type": "code",
   "execution_count": 436,
   "id": "5e1fbe90",
   "metadata": {},
   "outputs": [],
   "source": [
    "X_train, X_test, y_train, y_test = train_test_split(X, y1, train_size = 0.4, random_state = 2)\n",
    "\n",
    "scaler = StandardScaler()\n",
    "\n",
    "scaler.fit(X_train)\n",
    "\n",
    "X_std_test = scaler.transform(X_test)\n",
    "X_std_train = scaler.transform(X_train)\n",
    "\n",
    "model = LinearRegression()\n",
    "\n",
    "model = model.fit(X_std_train, y_train)"
   ]
  },
  {
   "cell_type": "markdown",
   "id": "e48aedb4",
   "metadata": {},
   "source": [
    "##### Train"
   ]
  },
  {
   "cell_type": "code",
   "execution_count": 437,
   "id": "deff9884",
   "metadata": {},
   "outputs": [
    {
     "data": {
      "text/plain": [
       "1.0"
      ]
     },
     "execution_count": 437,
     "metadata": {},
     "output_type": "execute_result"
    }
   ],
   "source": [
    "y_pred_train = model.predict(X_std_train)\n",
    "\n",
    "r2_train = r2_score(y_train, y_pred_train)\n",
    "lista3.append(r2_train)\n",
    "\n",
    "r2_train"
   ]
  },
  {
   "cell_type": "markdown",
   "id": "15375633",
   "metadata": {},
   "source": [
    "##### Test"
   ]
  },
  {
   "cell_type": "code",
   "execution_count": 438,
   "id": "91b5a9c0",
   "metadata": {},
   "outputs": [
    {
     "data": {
      "text/plain": [
       "-3.838451419295894"
      ]
     },
     "execution_count": 438,
     "metadata": {},
     "output_type": "execute_result"
    }
   ],
   "source": [
    "y_pred_test = model.predict(X_std_test)\n",
    "\n",
    "r2_test = r2_score(y_test, y_pred_test)\n",
    "lista3.append(r2_test)\n",
    "\n",
    "r2_test"
   ]
  },
  {
   "cell_type": "markdown",
   "id": "1f58a8d9",
   "metadata": {},
   "source": [
    "### Añade regularización L2 con un hiperparámetro lambda decidido por ti. Cambia este valor y compara con varios distintos los R2 de entrenamiento y de prueba."
   ]
  },
  {
   "cell_type": "markdown",
   "id": "d62d6245",
   "metadata": {},
   "source": [
    "##### Alpha 15"
   ]
  },
  {
   "cell_type": "code",
   "execution_count": 440,
   "id": "24cbc1b7",
   "metadata": {},
   "outputs": [
    {
     "name": "stdout",
     "output_type": "stream",
     "text": [
      "0.7877396791445191 0.8597029888651061\n"
     ]
    }
   ],
   "source": [
    "Ridge_al = Ridge(alpha = 15)\n",
    "Ridge_fit = Ridge_al.fit(X_std_train, y_train)\n",
    "\n",
    "y_pred_test_Ridge = Ridge_fit.predict(X_std_test)\n",
    "y_pred_train_Ridge = Ridge_fit.predict(X_std_train)\n",
    "\n",
    "r2_train_Ridge = r2_score(y_train, y_pred_train_Ridge)\n",
    "r2_test_Ridge = r2_score(y_test, y_pred_test_Ridge)\n",
    "\n",
    "lista3.extend([r2_test_Ridge, r2_train_Ridge])\n",
    "\n",
    "print(r2_test_Ridge, r2_train_Ridge)"
   ]
  },
  {
   "cell_type": "markdown",
   "id": "8ef66c99",
   "metadata": {},
   "source": [
    "##### Alpha 5"
   ]
  },
  {
   "cell_type": "code",
   "execution_count": 441,
   "id": "bf8f20a0",
   "metadata": {},
   "outputs": [
    {
     "name": "stdout",
     "output_type": "stream",
     "text": [
      "0.7660716028569721 0.89665542237387\n"
     ]
    }
   ],
   "source": [
    "Ridge_al = Ridge(alpha = 5)\n",
    "Ridge_fit = Ridge_al.fit(X_std_train, y_train)\n",
    "\n",
    "y_pred_test_Ridge = Ridge_fit.predict(X_std_test)\n",
    "y_pred_train_Ridge = Ridge_fit.predict(X_std_train)\n",
    "\n",
    "r2_train_Ridge = r2_score(y_train, y_pred_train_Ridge)\n",
    "r2_test_Ridge = r2_score(y_test, y_pred_test_Ridge)\n",
    "\n",
    "lista3.extend([r2_test_Ridge, r2_train_Ridge])\n",
    "\n",
    "print(r2_test_Ridge, r2_train_Ridge)"
   ]
  },
  {
   "cell_type": "markdown",
   "id": "29b33f28",
   "metadata": {},
   "source": [
    "##### Alpha 17"
   ]
  },
  {
   "cell_type": "code",
   "execution_count": 442,
   "id": "b4387b57",
   "metadata": {},
   "outputs": [
    {
     "name": "stdout",
     "output_type": "stream",
     "text": [
      "0.786438602111093 0.8537744308904005\n"
     ]
    }
   ],
   "source": [
    "Ridge_al = Ridge(alpha = 17)\n",
    "Ridge_fit = Ridge_al.fit(X_std_train, y_train)\n",
    "\n",
    "y_pred_test_Ridge = Ridge_fit.predict(X_std_test)\n",
    "y_pred_train_Ridge = Ridge_fit.predict(X_std_train)\n",
    "\n",
    "r2_train_Ridge = r2_score(y_train, y_pred_train_Ridge)\n",
    "r2_test_Ridge = r2_score(y_test, y_pred_test_Ridge)\n",
    "\n",
    "lista3.extend([r2_test_Ridge, r2_train_Ridge])\n",
    "\n",
    "print(r2_test_Ridge, r2_train_Ridge)"
   ]
  },
  {
   "cell_type": "markdown",
   "id": "712317bd",
   "metadata": {},
   "source": [
    "##### Alpha 50"
   ]
  },
  {
   "cell_type": "code",
   "execution_count": 443,
   "id": "3dd03c79",
   "metadata": {},
   "outputs": [
    {
     "name": "stdout",
     "output_type": "stream",
     "text": [
      "0.7201113704028788 0.7620629889811348\n"
     ]
    }
   ],
   "source": [
    "Ridge_al = Ridge(alpha = 50)\n",
    "Ridge_fit = Ridge_al.fit(X_std_train, y_train)\n",
    "\n",
    "y_pred_test_Ridge = Ridge_fit.predict(X_std_test)\n",
    "y_pred_train_Ridge = Ridge_fit.predict(X_std_train)\n",
    "\n",
    "r2_train_Ridge = r2_score(y_train, y_pred_train_Ridge)\n",
    "r2_test_Ridge = r2_score(y_test, y_pred_test_Ridge)\n",
    "\n",
    "lista3.extend([r2_test_Ridge, r2_train_Ridge])\n",
    "\n",
    "print(r2_test_Ridge, r2_train_Ridge)"
   ]
  },
  {
   "cell_type": "markdown",
   "id": "99752652",
   "metadata": {},
   "source": [
    "### Repite el ejercicio anterior usando 'qsec' como salida."
   ]
  },
  {
   "cell_type": "code",
   "execution_count": 455,
   "id": "8c0a9042",
   "metadata": {},
   "outputs": [],
   "source": [
    "lista4 = []"
   ]
  },
  {
   "cell_type": "code",
   "execution_count": 456,
   "id": "606aee3a",
   "metadata": {},
   "outputs": [],
   "source": [
    "y = datadrop[\"qsec\"]\n",
    "x = datadrop.drop(columns = [\"qsec\"])"
   ]
  },
  {
   "cell_type": "code",
   "execution_count": 457,
   "id": "0917ffc3",
   "metadata": {},
   "outputs": [],
   "source": [
    "numerical_features = ['disp', 'hp', 'drat', 'wt', 'vs', 'am', 'mpg']\n",
    "cualidades_categorias = [\"cyl\", \"gear\", \"carb\"]"
   ]
  },
  {
   "cell_type": "code",
   "execution_count": 458,
   "id": "92b4b4b2",
   "metadata": {},
   "outputs": [
    {
     "data": {
      "text/html": [
       "<div>\n",
       "<style scoped>\n",
       "    .dataframe tbody tr th:only-of-type {\n",
       "        vertical-align: middle;\n",
       "    }\n",
       "\n",
       "    .dataframe tbody tr th {\n",
       "        vertical-align: top;\n",
       "    }\n",
       "\n",
       "    .dataframe thead th {\n",
       "        text-align: right;\n",
       "    }\n",
       "</style>\n",
       "<table border=\"1\" class=\"dataframe\">\n",
       "  <thead>\n",
       "    <tr style=\"text-align: right;\">\n",
       "      <th></th>\n",
       "      <th>cyl_4</th>\n",
       "      <th>cyl_6</th>\n",
       "      <th>cyl_8</th>\n",
       "      <th>gear_3</th>\n",
       "      <th>gear_4</th>\n",
       "      <th>gear_5</th>\n",
       "      <th>carb_1</th>\n",
       "      <th>carb_2</th>\n",
       "      <th>carb_3</th>\n",
       "      <th>carb_4</th>\n",
       "      <th>carb_6</th>\n",
       "      <th>carb_8</th>\n",
       "    </tr>\n",
       "  </thead>\n",
       "  <tbody>\n",
       "    <tr>\n",
       "      <th>0</th>\n",
       "      <td>0</td>\n",
       "      <td>1</td>\n",
       "      <td>0</td>\n",
       "      <td>0</td>\n",
       "      <td>1</td>\n",
       "      <td>0</td>\n",
       "      <td>0</td>\n",
       "      <td>0</td>\n",
       "      <td>0</td>\n",
       "      <td>1</td>\n",
       "      <td>0</td>\n",
       "      <td>0</td>\n",
       "    </tr>\n",
       "    <tr>\n",
       "      <th>1</th>\n",
       "      <td>0</td>\n",
       "      <td>1</td>\n",
       "      <td>0</td>\n",
       "      <td>0</td>\n",
       "      <td>1</td>\n",
       "      <td>0</td>\n",
       "      <td>0</td>\n",
       "      <td>0</td>\n",
       "      <td>0</td>\n",
       "      <td>1</td>\n",
       "      <td>0</td>\n",
       "      <td>0</td>\n",
       "    </tr>\n",
       "    <tr>\n",
       "      <th>2</th>\n",
       "      <td>1</td>\n",
       "      <td>0</td>\n",
       "      <td>0</td>\n",
       "      <td>0</td>\n",
       "      <td>1</td>\n",
       "      <td>0</td>\n",
       "      <td>1</td>\n",
       "      <td>0</td>\n",
       "      <td>0</td>\n",
       "      <td>0</td>\n",
       "      <td>0</td>\n",
       "      <td>0</td>\n",
       "    </tr>\n",
       "    <tr>\n",
       "      <th>3</th>\n",
       "      <td>0</td>\n",
       "      <td>1</td>\n",
       "      <td>0</td>\n",
       "      <td>1</td>\n",
       "      <td>0</td>\n",
       "      <td>0</td>\n",
       "      <td>1</td>\n",
       "      <td>0</td>\n",
       "      <td>0</td>\n",
       "      <td>0</td>\n",
       "      <td>0</td>\n",
       "      <td>0</td>\n",
       "    </tr>\n",
       "    <tr>\n",
       "      <th>4</th>\n",
       "      <td>0</td>\n",
       "      <td>0</td>\n",
       "      <td>1</td>\n",
       "      <td>1</td>\n",
       "      <td>0</td>\n",
       "      <td>0</td>\n",
       "      <td>0</td>\n",
       "      <td>1</td>\n",
       "      <td>0</td>\n",
       "      <td>0</td>\n",
       "      <td>0</td>\n",
       "      <td>0</td>\n",
       "    </tr>\n",
       "  </tbody>\n",
       "</table>\n",
       "</div>"
      ],
      "text/plain": [
       "   cyl_4  cyl_6  cyl_8  gear_3  gear_4  gear_5  carb_1  carb_2  carb_3  \\\n",
       "0      0      1      0       0       1       0       0       0       0   \n",
       "1      0      1      0       0       1       0       0       0       0   \n",
       "2      1      0      0       0       1       0       1       0       0   \n",
       "3      0      1      0       1       0       0       1       0       0   \n",
       "4      0      0      1       1       0       0       0       1       0   \n",
       "\n",
       "   carb_4  carb_6  carb_8  \n",
       "0       1       0       0  \n",
       "1       1       0       0  \n",
       "2       0       0       0  \n",
       "3       0       0       0  \n",
       "4       0       0       0  "
      ]
     },
     "execution_count": 458,
     "metadata": {},
     "output_type": "execute_result"
    }
   ],
   "source": [
    "encoded_features = pd.get_dummies(x[cualidades_categorias], \n",
    "               columns=cualidades_categorias, \n",
    "               drop_first=False)\n",
    "encoded_features.head(5)"
   ]
  },
  {
   "cell_type": "code",
   "execution_count": 459,
   "id": "97bc555c",
   "metadata": {},
   "outputs": [],
   "source": [
    "data_to_model_standarized = StandardScaler().fit_transform(x[numerical_features])\n",
    "\n",
    "data_to_model_df = pd.DataFrame(data_to_model_standarized, \n",
    "                                columns=numerical_features).reset_index()\n",
    "\n",
    "encoded_features_df = encoded_features.reset_index()\n",
    "\n",
    "data_to_model = data_to_model_df.merge(encoded_features_df, on='index')\n",
    "\n",
    "data_to_model = data_to_model.drop('index', axis=1)"
   ]
  },
  {
   "cell_type": "code",
   "execution_count": 460,
   "id": "b272a4ce",
   "metadata": {},
   "outputs": [],
   "source": [
    "X = data_to_model"
   ]
  },
  {
   "cell_type": "code",
   "execution_count": 461,
   "id": "82f6a128",
   "metadata": {},
   "outputs": [],
   "source": [
    "model = LinearRegression()\n",
    "model = model.fit(X, y)\n",
    "\n",
    "intercept = model.intercept_\n",
    "coef = model.coef_\n",
    "r2 = model.score(X,y)\n",
    "lista4.append(r2)"
   ]
  },
  {
   "cell_type": "code",
   "execution_count": 462,
   "id": "6d822188",
   "metadata": {},
   "outputs": [
    {
     "data": {
      "text/plain": [
       "(0.9082689440167553,\n",
       " array([ 0.43075446, -0.13943274,  0.05676526,  0.78052333,  0.131824  ,\n",
       "        -0.83212227,  0.16456271,  1.35708108,  0.25273853, -1.6098196 ,\n",
       "        -0.50486661,  0.82741573, -0.32254912,  0.98471823,  0.15030525,\n",
       "         0.75541386, -0.96231558, -0.58052281, -0.34759894]))"
      ]
     },
     "execution_count": 462,
     "metadata": {},
     "output_type": "execute_result"
    }
   ],
   "source": [
    "r2, coef"
   ]
  },
  {
   "cell_type": "markdown",
   "id": "6eff7172",
   "metadata": {},
   "source": [
    "#### Train, test, split"
   ]
  },
  {
   "cell_type": "code",
   "execution_count": 463,
   "id": "c6d3f68d",
   "metadata": {},
   "outputs": [],
   "source": [
    "X_train, X_test, y_train, y_test = train_test_split(X, y, train_size = 0.4, random_state = 2)\n",
    "\n",
    "scaler = StandardScaler()\n",
    "\n",
    "scaler.fit(X_train)\n",
    "\n",
    "X_std_test = scaler.transform(X_test)\n",
    "X_std_train = scaler.transform(X_train)\n",
    "\n",
    "model = LinearRegression()\n",
    "\n",
    "model = model.fit(X_std_train, y_train)"
   ]
  },
  {
   "cell_type": "markdown",
   "id": "88a975f4",
   "metadata": {},
   "source": [
    "##### Train"
   ]
  },
  {
   "cell_type": "code",
   "execution_count": 464,
   "id": "563e981e",
   "metadata": {},
   "outputs": [
    {
     "data": {
      "text/plain": [
       "1.0"
      ]
     },
     "execution_count": 464,
     "metadata": {},
     "output_type": "execute_result"
    }
   ],
   "source": [
    "y_pred_train = model.predict(X_std_train)\n",
    "\n",
    "r2_train = r2_score(y_train, y_pred_train)\n",
    "lista4.append(r2_train)\n",
    "r2_train"
   ]
  },
  {
   "cell_type": "markdown",
   "id": "62b6195a",
   "metadata": {},
   "source": [
    "##### Test"
   ]
  },
  {
   "cell_type": "code",
   "execution_count": 465,
   "id": "b4413c0e",
   "metadata": {},
   "outputs": [
    {
     "data": {
      "text/plain": [
       "-11.332816158865077"
      ]
     },
     "execution_count": 465,
     "metadata": {},
     "output_type": "execute_result"
    }
   ],
   "source": [
    "y_pred_test = model.predict(X_std_test)\n",
    "\n",
    "r2_test = r2_score(y_test, y_pred_test)\n",
    "lista4.append(r2_test)\n",
    "r2_test"
   ]
  },
  {
   "cell_type": "markdown",
   "id": "e69f296f",
   "metadata": {},
   "source": [
    "#### Regularización con L2"
   ]
  },
  {
   "cell_type": "markdown",
   "id": "e2b93dbb",
   "metadata": {},
   "source": [
    "##### Alpha 15"
   ]
  },
  {
   "cell_type": "code",
   "execution_count": 466,
   "id": "e29a2c6d",
   "metadata": {},
   "outputs": [
    {
     "name": "stdout",
     "output_type": "stream",
     "text": [
      "0.6445911817957612 0.7357349748428885\n"
     ]
    }
   ],
   "source": [
    "Ridge_al = Ridge(alpha = 15)\n",
    "Ridge_fit = Ridge_al.fit(X_std_train, y_train)\n",
    "\n",
    "y_pred_test_Ridge = Ridge_fit.predict(X_std_test)\n",
    "y_pred_train_Ridge = Ridge_fit.predict(X_std_train)\n",
    "\n",
    "r2_train_Ridge = r2_score(y_train, y_pred_train_Ridge)\n",
    "r2_test_Ridge = r2_score(y_test, y_pred_test_Ridge)\n",
    "\n",
    "lista4.extend([r2_test_Ridge, r2_train_Ridge])\n",
    "\n",
    "print(r2_test_Ridge, r2_train_Ridge)"
   ]
  },
  {
   "cell_type": "markdown",
   "id": "84717a62",
   "metadata": {},
   "source": [
    "##### Alpha 5"
   ]
  },
  {
   "cell_type": "code",
   "execution_count": 467,
   "id": "5c66cd01",
   "metadata": {},
   "outputs": [
    {
     "name": "stdout",
     "output_type": "stream",
     "text": [
      "0.7267195317957329 0.8298916017076925\n"
     ]
    }
   ],
   "source": [
    "Ridge_al = Ridge(alpha = 5)\n",
    "Ridge_fit = Ridge_al.fit(X_std_train, y_train)\n",
    "\n",
    "y_pred_test_Ridge = Ridge_fit.predict(X_std_test)\n",
    "y_pred_train_Ridge = Ridge_fit.predict(X_std_train)\n",
    "\n",
    "r2_train_Ridge = r2_score(y_train, y_pred_train_Ridge)\n",
    "r2_test_Ridge = r2_score(y_test, y_pred_test_Ridge)\n",
    "\n",
    "lista4.extend([r2_test_Ridge, r2_train_Ridge])\n",
    "\n",
    "print(r2_test_Ridge, r2_train_Ridge)"
   ]
  },
  {
   "cell_type": "markdown",
   "id": "15120511",
   "metadata": {},
   "source": [
    "##### Alpha 17"
   ]
  },
  {
   "cell_type": "code",
   "execution_count": 468,
   "id": "b0f3b7a4",
   "metadata": {},
   "outputs": [
    {
     "name": "stdout",
     "output_type": "stream",
     "text": [
      "0.6283476519639339 0.7199278220076564\n"
     ]
    }
   ],
   "source": [
    "Ridge_al = Ridge(alpha = 17)\n",
    "Ridge_fit = Ridge_al.fit(X_std_train, y_train)\n",
    "\n",
    "y_pred_test_Ridge = Ridge_fit.predict(X_std_test)\n",
    "y_pred_train_Ridge = Ridge_fit.predict(X_std_train)\n",
    "\n",
    "r2_train_Ridge = r2_score(y_train, y_pred_train_Ridge)\n",
    "r2_test_Ridge = r2_score(y_test, y_pred_test_Ridge)\n",
    "\n",
    "lista4.extend([r2_test_Ridge, r2_train_Ridge])\n",
    "\n",
    "print(r2_test_Ridge, r2_train_Ridge)"
   ]
  },
  {
   "cell_type": "markdown",
   "id": "664dd158",
   "metadata": {},
   "source": [
    "##### Alpha 50"
   ]
  },
  {
   "cell_type": "code",
   "execution_count": 469,
   "id": "3eadeddb",
   "metadata": {},
   "outputs": [
    {
     "name": "stdout",
     "output_type": "stream",
     "text": [
      "0.4255668998091876 0.5368391508008644\n"
     ]
    }
   ],
   "source": [
    "Ridge_al = Ridge(alpha = 50)\n",
    "Ridge_fit = Ridge_al.fit(X_std_train, y_train)\n",
    "\n",
    "y_pred_test_Ridge = Ridge_fit.predict(X_std_test)\n",
    "y_pred_train_Ridge = Ridge_fit.predict(X_std_train)\n",
    "\n",
    "r2_train_Ridge = r2_score(y_train, y_pred_train_Ridge)\n",
    "r2_test_Ridge = r2_score(y_test, y_pred_test_Ridge)\n",
    "\n",
    "lista4.extend([r2_test_Ridge, r2_train_Ridge])\n",
    "\n",
    "print(r2_test_Ridge, r2_train_Ridge)"
   ]
  },
  {
   "cell_type": "markdown",
   "id": "522bc081",
   "metadata": {},
   "source": [
    "### Comparación de los R2 de los ejercicios 1.1 & 2.1 y los R2 de los ejercicios 1.2 & 2.2."
   ]
  },
  {
   "cell_type": "code",
   "execution_count": 471,
   "id": "b8a7601e",
   "metadata": {},
   "outputs": [
    {
     "data": {
      "text/html": [
       "<div>\n",
       "<style scoped>\n",
       "    .dataframe tbody tr th:only-of-type {\n",
       "        vertical-align: middle;\n",
       "    }\n",
       "\n",
       "    .dataframe tbody tr th {\n",
       "        vertical-align: top;\n",
       "    }\n",
       "\n",
       "    .dataframe thead th {\n",
       "        text-align: right;\n",
       "    }\n",
       "</style>\n",
       "<table border=\"1\" class=\"dataframe\">\n",
       "  <thead>\n",
       "    <tr style=\"text-align: right;\">\n",
       "      <th></th>\n",
       "      <th>Regresión Simple</th>\n",
       "      <th>Train Split</th>\n",
       "      <th>Test Split</th>\n",
       "      <th>Ridge 15 Test</th>\n",
       "      <th>Ridge 15 Train</th>\n",
       "      <th>Ridge 5 Test</th>\n",
       "      <th>Ridge 5 Train</th>\n",
       "      <th>Ridge 17 Test</th>\n",
       "      <th>Ridge 17 Train</th>\n",
       "      <th>Ridge 50 Test</th>\n",
       "      <th>Ridge 50 Train</th>\n",
       "    </tr>\n",
       "  </thead>\n",
       "  <tbody>\n",
       "    <tr>\n",
       "      <th>Ejercicios 1.1 mpg</th>\n",
       "      <td>0.869000</td>\n",
       "      <td>1.00000</td>\n",
       "      <td>1.000000</td>\n",
       "      <td>0.861388</td>\n",
       "      <td>0.901259</td>\n",
       "      <td>0.887924</td>\n",
       "      <td>0.942269</td>\n",
       "      <td>0.857889</td>\n",
       "      <td>0.894485</td>\n",
       "      <td>0.775884</td>\n",
       "      <td>0.783873</td>\n",
       "    </tr>\n",
       "    <tr>\n",
       "      <th>Ejercicios 1.2 qsec</th>\n",
       "      <td>0.875000</td>\n",
       "      <td>0.99638</td>\n",
       "      <td>-7.944451</td>\n",
       "      <td>0.711797</td>\n",
       "      <td>0.664072</td>\n",
       "      <td>0.752808</td>\n",
       "      <td>0.805298</td>\n",
       "      <td>0.696750</td>\n",
       "      <td>0.642153</td>\n",
       "      <td>0.469412</td>\n",
       "      <td>0.423997</td>\n",
       "    </tr>\n",
       "    <tr>\n",
       "      <th>Ejercicios 2.1 mpg</th>\n",
       "      <td>0.893075</td>\n",
       "      <td>1.00000</td>\n",
       "      <td>-3.838451</td>\n",
       "      <td>0.787740</td>\n",
       "      <td>0.859703</td>\n",
       "      <td>0.766072</td>\n",
       "      <td>0.896655</td>\n",
       "      <td>0.786439</td>\n",
       "      <td>0.853774</td>\n",
       "      <td>0.720111</td>\n",
       "      <td>0.762063</td>\n",
       "    </tr>\n",
       "    <tr>\n",
       "      <th>Ejercicios 2.2 qsec</th>\n",
       "      <td>0.908269</td>\n",
       "      <td>1.00000</td>\n",
       "      <td>-11.332816</td>\n",
       "      <td>0.644591</td>\n",
       "      <td>0.735735</td>\n",
       "      <td>0.726720</td>\n",
       "      <td>0.829892</td>\n",
       "      <td>0.628348</td>\n",
       "      <td>0.719928</td>\n",
       "      <td>0.425567</td>\n",
       "      <td>0.536839</td>\n",
       "    </tr>\n",
       "  </tbody>\n",
       "</table>\n",
       "</div>"
      ],
      "text/plain": [
       "                     Regresión Simple  Train Split  Test Split  Ridge 15 Test  \\\n",
       "Ejercicios 1.1 mpg           0.869000      1.00000    1.000000       0.861388   \n",
       "Ejercicios 1.2 qsec          0.875000      0.99638   -7.944451       0.711797   \n",
       "Ejercicios 2.1 mpg           0.893075      1.00000   -3.838451       0.787740   \n",
       "Ejercicios 2.2 qsec          0.908269      1.00000  -11.332816       0.644591   \n",
       "\n",
       "                     Ridge 15 Train  Ridge 5 Test  Ridge 5 Train  \\\n",
       "Ejercicios 1.1 mpg         0.901259      0.887924       0.942269   \n",
       "Ejercicios 1.2 qsec        0.664072      0.752808       0.805298   \n",
       "Ejercicios 2.1 mpg         0.859703      0.766072       0.896655   \n",
       "Ejercicios 2.2 qsec        0.735735      0.726720       0.829892   \n",
       "\n",
       "                     Ridge 17 Test  Ridge 17 Train  Ridge 50 Test  \\\n",
       "Ejercicios 1.1 mpg        0.857889        0.894485       0.775884   \n",
       "Ejercicios 1.2 qsec       0.696750        0.642153       0.469412   \n",
       "Ejercicios 2.1 mpg        0.786439        0.853774       0.720111   \n",
       "Ejercicios 2.2 qsec       0.628348        0.719928       0.425567   \n",
       "\n",
       "                     Ridge 50 Train  \n",
       "Ejercicios 1.1 mpg         0.783873  \n",
       "Ejercicios 1.2 qsec        0.423997  \n",
       "Ejercicios 2.1 mpg         0.762063  \n",
       "Ejercicios 2.2 qsec        0.536839  "
      ]
     },
     "execution_count": 471,
     "metadata": {},
     "output_type": "execute_result"
    }
   ],
   "source": [
    "data = {\n",
    "    \"Ejercicios 1.1 mpg\": [lista1[0], lista1[1], lista1[2], lista1[3], lista1[4], lista1[5], lista1[6], lista1[7], lista1[8], lista1[9], lista1[10]],\n",
    "    \"Ejercicios 1.2 qsec\": [lista2[0], lista2[1], lista2[2], lista2[3], lista2[4], lista2[5], lista2[6], lista2[7], lista2[8], lista2[9], lista2[10]],\n",
    "    \"Ejercicios 2.1 mpg\": [lista3[0], lista3[1], lista3[2], lista3[3], lista3[4], lista3[5], lista3[6], lista3[7], lista3[8], lista3[9], lista3[10]],\n",
    "    \"Ejercicios 2.2 qsec\": [lista4[0], lista4[1], lista4[2], lista4[3], lista4[4], lista4[5], lista4[6], lista4[7], lista4[8], lista4[9], lista4[10]]\n",
    "}\n",
    "\n",
    "df = pd.DataFrame(data, index=[\"Regresión Simple\", \"Train Split\", \"Test Split\", \"Ridge 15 Test\", \"Ridge 15 Train\",\"Ridge 5 Test\", \"Ridge 5 Train\", \"Ridge 17 Test\", \"Ridge 17 Train\", \"Ridge 50 Test\", \"Ridge 50 Train\"]).T\n",
    "\n",
    "df"
   ]
  },
  {
   "cell_type": "markdown",
   "id": "f220d6be",
   "metadata": {},
   "source": [
    "### Conclusión\n",
    "\n",
    "Notamos que algunos de los valores son bastante similirares a cuando se usan dummys a cuando no, los parametros que creo que valen la pena analizar son los que tienen la penalización Ridge, ya que estos fueron los más estables entre el train y el test. Notamos que en todos los casos el r_2 es mayor cuando no hacemos dummys a que cuando si, y me imagino que es por que cuando haces dummys creas más variables y por ende el Ridge que tiende a nivelar los valores de las betas seguramente penalizo más al modelo que tenía dummys y por consecuensia un menor r_2"
   ]
  }
 ],
 "metadata": {
  "kernelspec": {
   "display_name": "Python 3 (ipykernel)",
   "language": "python",
   "name": "python3"
  },
  "language_info": {
   "codemirror_mode": {
    "name": "ipython",
    "version": 3
   },
   "file_extension": ".py",
   "mimetype": "text/x-python",
   "name": "python",
   "nbconvert_exporter": "python",
   "pygments_lexer": "ipython3",
   "version": "3.11.4"
  }
 },
 "nbformat": 4,
 "nbformat_minor": 5
}
